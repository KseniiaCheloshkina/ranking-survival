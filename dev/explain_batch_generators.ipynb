{
 "cells": [
  {
   "cell_type": "code",
   "execution_count": 1,
   "metadata": {},
   "outputs": [],
   "source": [
    "import sys\n",
    "import tqdm\n",
    "import numpy as np\n",
    "from scipy.sparse import csr_matrix\n",
    "from pycox.datasets import kkbox_v1\n",
    "\n",
    "sys.path.append(\"../\")\n",
    "sys.path.append(\"../../\")\n",
    "\n",
    "from tools import preprocess_kkbox"
   ]
  },
  {
   "cell_type": "code",
   "execution_count": 2,
   "metadata": {},
   "outputs": [],
   "source": [
    "pairs_per_sample = 3"
   ]
  },
  {
   "cell_type": "code",
   "execution_count": 3,
   "metadata": {},
   "outputs": [],
   "source": [
    "def get_time_bins(t, n_time_bins):\n",
    "    \"\"\"\n",
    "    Get equal size bins\n",
    "    \"\"\"\n",
    "    percent_list = np.linspace(0, 100, n_time_bins + 1, dtype=np.int)\n",
    "    bins = np.percentile(a=t, q=percent_list[1:-1])\n",
    "    q = np.digitize(t, bins)\n",
    "    if n_time_bins != np.unique(q).shape[0]:\n",
    "        raise Exception(\"There is too large value for n_time_bins selected\")\n",
    "    return q"
   ]
  },
  {
   "cell_type": "code",
   "execution_count": 4,
   "metadata": {},
   "outputs": [
    {
     "data": {
      "application/vnd.jupyter.widget-view+json": {
       "model_id": "b73d9aa012b141bebed03e00979ea9a4",
       "version_major": 2,
       "version_minor": 0
      },
      "text/plain": [
       "HBox(children=(FloatProgress(value=0.0, max=818.0), HTML(value='')))"
      ]
     },
     "metadata": {},
     "output_type": "display_data"
    },
    {
     "name": "stdout",
     "output_type": "stream",
     "text": [
      "\n"
     ]
    }
   ],
   "source": [
    "df_train = kkbox_v1.read_df(subset='train')\n",
    "x, t, y = preprocess_kkbox(df_train)\n",
    "q = get_time_bins(t, 12)\n",
    "n = t.shape[0]\n",
    "m = np.max(t)\n",
    "\n",
    "y_csr = csr_matrix(y)\n",
    "y_csr = y_csr.transpose()\n",
    "y_nonzero_ind = y_csr.nonzero()[0]\n",
    "y_zero_ind = np.setdiff1d(np.arange(0, y.shape[0]), y_nonzero_ind)\n",
    "comparability_m = csr_matrix((n, n))\n",
    "target_m = csr_matrix((n, n))\n",
    "dq_m = csr_matrix((n, n))\n",
    "dq_m_0 = csr_matrix((n, n))\n",
    "\n",
    "t_uniq, uniq_indices = np.unique(t, return_inverse=True)\n",
    "\n",
    "# we will overwrite this matrix with each t_cur (on each step contains indices of elements for which t < t_cur)\n",
    "t_less_ti = csr_matrix((n, 1))\n",
    "# we will overwrite this matrix with each t_cur (on each step contains indices of elements for which t > t_cur)\n",
    "t_more_ti = csr_matrix(np.ones((n, 1)))\n",
    "ind_t_un = np.where(t_uniq == 1)[0]\n",
    "ind_t_cur = np.where(uniq_indices == ind_t_un)[0]\n",
    "\n",
    "# we will iterate through observations with t == t_cur\n",
    "for t_cur in tqdm.notebook.tqdm(range(2, m)):\n",
    "    \n",
    "    # keep only those which are less than t_cur - 1\n",
    "    t_less_ti += csr_matrix(\n",
    "        (\n",
    "            np.ones(ind_t_cur.shape[0]), \n",
    "            (\n",
    "                ind_t_cur, \n",
    "                np.repeat(0, ind_t_cur.shape[0])\n",
    "            )\n",
    "        ), \n",
    "        shape=(n, 1)\n",
    "    )\n",
    "    # keep only those which are greater than t_cur - 1\n",
    "    t_more_ti -= csr_matrix(\n",
    "        (\n",
    "            np.ones(ind_t_cur.shape[0]), \n",
    "            (\n",
    "                ind_t_cur, \n",
    "                np.repeat(0, ind_t_cur.shape[0])\n",
    "            )\n",
    "        ), \n",
    "        shape=(n, 1)\n",
    "    )\n",
    "\n",
    "    ind_t_un = np.where(t_uniq == t_cur)[0]\n",
    "    ind_t_cur = np.where(uniq_indices == ind_t_un)[0]\n",
    "    \n",
    "    t_cur_y_0 = np.intersect1d(y_zero_ind, ind_t_cur)\n",
    "    # find comparable examples for observations with t == t_cur and y = 0\n",
    "    res_0 = y_csr.multiply(t_less_ti)\n",
    "    # t_cur_y_0 are comparable with res[res == 1]\n",
    "    m2 = t_cur_y_0.shape[0]\n",
    "    if res_0.count_nonzero() >= m2 * pairs_per_sample:\n",
    "        # sample pair for each example\n",
    "        ind_nonzero_sampled = np.random.choice(res_0.nonzero()[0], size=m2*pairs_per_sample, replace=False)\n",
    "        final_comp_pairs = csr_matrix(\n",
    "            (\n",
    "                np.ones((pairs_per_sample * m2, )), \n",
    "                (\n",
    "                    np.repeat(t_cur_y_0, pairs_per_sample), \n",
    "                    ind_nonzero_sampled\n",
    "                )\n",
    "            ), \n",
    "            shape=(n, n))\n",
    "        comparability_m += final_comp_pairs\n",
    "        target_m += final_comp_pairs\n",
    "        dq_m += csr_matrix(\n",
    "            (\n",
    "                q[ind_nonzero_sampled] - q[np.repeat(t_cur_y_0, pairs_per_sample)],\n",
    "                (\n",
    "                    np.repeat(t_cur_y_0, pairs_per_sample), \n",
    "                    ind_nonzero_sampled\n",
    "                )\n",
    "            ), \n",
    "            shape=(n, n))\n",
    "        dq_m_0 += csr_matrix(\n",
    "            (\n",
    "                (q[ind_nonzero_sampled] == q[np.repeat(t_cur_y_0, pairs_per_sample)]).astype(int),\n",
    "                (\n",
    "                    np.repeat(t_cur_y_0, pairs_per_sample), \n",
    "                    ind_nonzero_sampled\n",
    "                )\n",
    "            ), \n",
    "            shape=(n, n))\n",
    "        \n",
    "\n",
    "    t_cur_y_0 = np.intersect1d(y_nonzero_ind, ind_t_cur)\n",
    "    # find comparable examples for observations with t == t_cur and y = 1\n",
    "    res_1 = t_more_ti.multiply(csr_matrix(np.ones((n, 1))) - y_csr) + y_csr\n",
    "    # t_cur_y_0 are comparable with res[res == 1]\n",
    "    m2 = t_cur_y_0.shape[0] \n",
    "    if res_1.count_nonzero() >= m2 * pairs_per_sample:\n",
    "        # sample pair for each example\n",
    "        ind_nonzero_sampled = np.random.choice(res_1.nonzero()[0], size=m2*pairs_per_sample, replace=False)\n",
    "        comparability_m += csr_matrix(\n",
    "            (\n",
    "                np.ones((pairs_per_sample * m2, )), \n",
    "                (\n",
    "                    np.repeat(t_cur_y_0, pairs_per_sample), \n",
    "                    ind_nonzero_sampled\n",
    "                )\n",
    "            ), \n",
    "            shape=(n, n))\n",
    "        target_m += csr_matrix(\n",
    "            (\n",
    "                np.reshape(res_0[ind_nonzero_sampled, :].toarray(), (ind_nonzero_sampled.shape)),\n",
    "                (\n",
    "                    np.repeat(t_cur_y_0, pairs_per_sample), \n",
    "                    ind_nonzero_sampled\n",
    "                )\n",
    "            ), \n",
    "            shape=(n, n))\n",
    "        dq_m += csr_matrix(\n",
    "            (\n",
    "                q[ind_nonzero_sampled] - q[np.repeat(t_cur_y_0, pairs_per_sample)],\n",
    "                (\n",
    "                    np.repeat(t_cur_y_0, pairs_per_sample), \n",
    "                    ind_nonzero_sampled\n",
    "                )\n",
    "            ), \n",
    "            shape=(n, n))\n",
    "        dq_m_0 += csr_matrix(\n",
    "            (\n",
    "                (q[ind_nonzero_sampled] == q[np.repeat(t_cur_y_0, pairs_per_sample)]).astype(int),\n",
    "                (\n",
    "                    np.repeat(t_cur_y_0, pairs_per_sample), \n",
    "                    ind_nonzero_sampled\n",
    "                )\n",
    "            ), \n",
    "            shape=(n, n))"
   ]
  },
  {
   "cell_type": "code",
   "execution_count": 5,
   "metadata": {},
   "outputs": [
    {
     "data": {
      "text/plain": [
       "5311992"
      ]
     },
     "execution_count": 5,
     "metadata": {},
     "output_type": "execute_result"
    }
   ],
   "source": [
    "comparability_m.count_nonzero()"
   ]
  },
  {
   "cell_type": "code",
   "execution_count": 6,
   "metadata": {},
   "outputs": [
    {
     "data": {
      "text/plain": [
       "2924241"
      ]
     },
     "execution_count": 6,
     "metadata": {},
     "output_type": "execute_result"
    }
   ],
   "source": [
    "target_m.count_nonzero()"
   ]
  },
  {
   "cell_type": "code",
   "execution_count": 7,
   "metadata": {},
   "outputs": [
    {
     "data": {
      "text/plain": [
       "4898231"
      ]
     },
     "execution_count": 7,
     "metadata": {},
     "output_type": "execute_result"
    }
   ],
   "source": [
    "dq_m.count_nonzero()"
   ]
  },
  {
   "cell_type": "code",
   "execution_count": 8,
   "metadata": {},
   "outputs": [
    {
     "data": {
      "text/plain": [
       "413761"
      ]
     },
     "execution_count": 8,
     "metadata": {},
     "output_type": "execute_result"
    }
   ],
   "source": [
    "dq_m_0.count_nonzero()"
   ]
  },
  {
   "cell_type": "code",
   "execution_count": null,
   "metadata": {},
   "outputs": [],
   "source": []
  },
  {
   "cell_type": "code",
   "execution_count": 16,
   "metadata": {},
   "outputs": [],
   "source": [
    "t_rows, t_cols = target_m.nonzero()"
   ]
  },
  {
   "cell_type": "code",
   "execution_count": 17,
   "metadata": {},
   "outputs": [
    {
     "data": {
      "text/plain": [
       "array([1, 1, 1, 2, 2, 2, 4, 4, 6, 7], dtype=int32)"
      ]
     },
     "execution_count": 17,
     "metadata": {},
     "output_type": "execute_result"
    }
   ],
   "source": [
    "t_rows[:10]"
   ]
  },
  {
   "cell_type": "code",
   "execution_count": 18,
   "metadata": {},
   "outputs": [
    {
     "data": {
      "text/plain": [
       "array([ 381227,  852183, 1477193,  537121,  565235,  685680,  213639,\n",
       "        613665,  663279,  227555], dtype=int32)"
      ]
     },
     "execution_count": 18,
     "metadata": {},
     "output_type": "execute_result"
    }
   ],
   "source": [
    "t_cols[:10]"
   ]
  },
  {
   "cell_type": "code",
   "execution_count": 19,
   "metadata": {},
   "outputs": [
    {
     "data": {
      "text/plain": [
       "matrix([[1., 1., 1., 1., 1., 1., 1., 1., 1., 1.]])"
      ]
     },
     "execution_count": 19,
     "metadata": {},
     "output_type": "execute_result"
    }
   ],
   "source": [
    "target_m[t_rows[:10], t_cols[:10]]"
   ]
  },
  {
   "cell_type": "code",
   "execution_count": null,
   "metadata": {},
   "outputs": [],
   "source": []
  },
  {
   "cell_type": "code",
   "execution_count": 106,
   "metadata": {},
   "outputs": [
    {
     "data": {
      "text/plain": [
       "(96, 29)"
      ]
     },
     "execution_count": 106,
     "metadata": {},
     "output_type": "execute_result"
    }
   ],
   "source": [
    "t[6], t[951601]"
   ]
  },
  {
   "cell_type": "code",
   "execution_count": 107,
   "metadata": {},
   "outputs": [
    {
     "data": {
      "text/plain": [
       "(1, 1)"
      ]
     },
     "execution_count": 107,
     "metadata": {},
     "output_type": "execute_result"
    }
   ],
   "source": [
    "y[6], y[951601]"
   ]
  },
  {
   "cell_type": "code",
   "execution_count": null,
   "metadata": {},
   "outputs": [],
   "source": []
  },
  {
   "cell_type": "code",
   "execution_count": null,
   "metadata": {},
   "outputs": [],
   "source": []
  },
  {
   "cell_type": "code",
   "execution_count": 122,
   "metadata": {},
   "outputs": [],
   "source": [
    "t_rows, t_cols = comparability_m.nonzero()"
   ]
  },
  {
   "cell_type": "code",
   "execution_count": 129,
   "metadata": {},
   "outputs": [
    {
     "data": {
      "text/plain": [
       "array([0, 0, 1, 1, 2, 2, 3, 3, 4, 4], dtype=int32)"
      ]
     },
     "execution_count": 129,
     "metadata": {},
     "output_type": "execute_result"
    }
   ],
   "source": [
    "t_rows[:10]"
   ]
  },
  {
   "cell_type": "code",
   "execution_count": 130,
   "metadata": {},
   "outputs": [
    {
     "data": {
      "text/plain": [
       "array([1378213, 1649047,  402448, 1715926,  775703, 1454283, 1416750,\n",
       "       1549935,  458694,  641318], dtype=int32)"
      ]
     },
     "execution_count": 130,
     "metadata": {},
     "output_type": "execute_result"
    }
   ],
   "source": [
    "t_cols[:10]"
   ]
  },
  {
   "cell_type": "code",
   "execution_count": 131,
   "metadata": {},
   "outputs": [
    {
     "data": {
      "text/plain": [
       "matrix([[0., 0., 0., 1., 1., 1., 0., 1., 1., 0.]])"
      ]
     },
     "execution_count": 131,
     "metadata": {},
     "output_type": "execute_result"
    }
   ],
   "source": [
    "target_m[t_rows[:10], t_cols[:10]]"
   ]
  },
  {
   "cell_type": "code",
   "execution_count": 135,
   "metadata": {},
   "outputs": [],
   "source": [
    "i = 0\n",
    "j = 1649047"
   ]
  },
  {
   "cell_type": "code",
   "execution_count": 136,
   "metadata": {},
   "outputs": [
    {
     "data": {
      "text/plain": [
       "(5, 183)"
      ]
     },
     "execution_count": 136,
     "metadata": {},
     "output_type": "execute_result"
    }
   ],
   "source": [
    "t[i], t[j]"
   ]
  },
  {
   "cell_type": "code",
   "execution_count": 137,
   "metadata": {},
   "outputs": [
    {
     "data": {
      "text/plain": [
       "(1, 0)"
      ]
     },
     "execution_count": 137,
     "metadata": {},
     "output_type": "execute_result"
    }
   ],
   "source": [
    "y[i], y[j]"
   ]
  },
  {
   "cell_type": "code",
   "execution_count": 138,
   "metadata": {},
   "outputs": [
    {
     "data": {
      "text/plain": [
       "array([6.])"
      ]
     },
     "execution_count": 138,
     "metadata": {},
     "output_type": "execute_result"
    }
   ],
   "source": [
    "dq_m[i].toarray()[:, j]"
   ]
  },
  {
   "cell_type": "code",
   "execution_count": null,
   "metadata": {},
   "outputs": [],
   "source": []
  }
 ],
 "metadata": {
  "kernelspec": {
   "display_name": "Python 3",
   "language": "python",
   "name": "python3"
  },
  "language_info": {
   "codemirror_mode": {
    "name": "ipython",
    "version": 3
   },
   "file_extension": ".py",
   "mimetype": "text/x-python",
   "name": "python",
   "nbconvert_exporter": "python",
   "pygments_lexer": "ipython3",
   "version": "3.6.9"
  }
 },
 "nbformat": 4,
 "nbformat_minor": 4
}
