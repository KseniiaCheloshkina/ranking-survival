{
 "cells": [
  {
   "cell_type": "code",
   "execution_count": 2,
   "metadata": {},
   "outputs": [],
   "source": [
    "import os\n",
    "import sys\n",
    "import pickle\n",
    "from tqdm.notebook import tqdm as tqdm\n",
    "import random\n",
    "from functools import partial\n",
    "\n",
    "import tensorflow as tf\n",
    "import pandas as pd\n",
    "import numpy as np\n",
    "import matplotlib.pyplot as plt\n",
    "from pycox.datasets import kkbox_v1\n",
    "from sklearn.model_selection import ParameterGrid\n",
    "sys.path.append(\"../../\")\n",
    "\n",
    "from models import kkbox_main_network\n",
    "from models_hard_mining import ContrastiveRankingModel\n",
    "from batch_generators_hard_mining import DataGenerator\n",
    "from tools import test_quality, preprocess_kkbox, transform_kkbox"
   ]
  },
  {
   "cell_type": "code",
   "execution_count": 3,
   "metadata": {},
   "outputs": [],
   "source": [
    "s = 2\n",
    "\n",
    "random.seed(s)\n",
    "np.random.seed(s)\n",
    "tf.set_random_seed(s)\n",
    "os.environ['PYTHONHASHSEED'] = str(s)\n",
    "os.environ['TF_CUDNN_DETERMINISTIC'] = str(s)"
   ]
  },
  {
   "cell_type": "markdown",
   "metadata": {},
   "source": [
    "Data"
   ]
  },
  {
   "cell_type": "code",
   "execution_count": 4,
   "metadata": {},
   "outputs": [],
   "source": [
    "df_train = kkbox_v1.read_df(subset='train')\n",
    "df_test = kkbox_v1.read_df(subset='test')\n",
    "df_val = kkbox_v1.read_df(subset='val')\n",
    "\n",
    "x_train, t_train, y_train = preprocess_kkbox(df_train)\n",
    "x_val, t_val, y_val = preprocess_kkbox(df_val)\n",
    "x_test, t_test, y_test = preprocess_kkbox(df_test)\n",
    "\n",
    "x_train, x_test, x_val = transform_kkbox(x_train, x_test, x_val)\n",
    "data = {\n",
    "    'train': {\n",
    "        'x': x_train,\n",
    "        'y': y_train,\n",
    "        't': t_train\n",
    "    },\n",
    "    'test': {\n",
    "        'x': x_test,\n",
    "        'y': y_test,\n",
    "        't': t_test            \n",
    "    },\n",
    "    'val': {\n",
    "        'x': x_val,\n",
    "        'y': y_val,\n",
    "        't': t_val            \n",
    "        }\n",
    "    }"
   ]
  },
  {
   "cell_type": "code",
   "execution_count": 9,
   "metadata": {},
   "outputs": [],
   "source": [
    "model_params = {\n",
    "    'inp_shape': (None, 40),\n",
    "    'val_n_ex_bin': 1000,\n",
    "    'n_ex_bin': 30,\n",
    "    'n_epochs': 25,\n",
    "    'seed': 5,\n",
    "    'time_grid': np.linspace(1, np.max(data['val']['t']), 30, dtype=np.int),\n",
    "    'alpha_bias_random_mean': 10.0,\n",
    "    'alpha_random_stddev': 5.0,\n",
    "    'beta_random_stddev': 5.0,\n",
    "    'units_layers': [64, 32, 16],\n",
    "    'dropout': 0,\n",
    "    'alpha_reg': 1e-5\n",
    "}\n",
    "n_time_bins = [12, 15, 20]\n",
    "contrastive_weight = [1e-10, 1e-2, 1e-1, 1, 5]\n",
    "params = ParameterGrid({'contrastive_weight': contrastive_weight, 'n_time_bins': n_time_bins})"
   ]
  },
  {
   "cell_type": "code",
   "execution_count": 10,
   "metadata": {},
   "outputs": [],
   "source": [
    "def get_loss(data, n_ex_bin, n_time_bins, sess, tensor_loss):\n",
    "    dg = DataGenerator(x=data['x'], y=data['y'], t=data['t'], n_ex_bin=n_ex_bin, n_time_bins=n_time_bins)\n",
    "    gen = dg.get_batch()\n",
    "    l = 0\n",
    "    while True:\n",
    "        try:    \n",
    "            x_batch, y_batch, target = next(gen)\n",
    "            l =+ sess.run(tensor_loss, feed_dict={\n",
    "                \"x:0\": x_batch,\n",
    "                \"t:0\": y_batch[:, 0].reshape((y_batch[:, 0].shape[0], 1)),\n",
    "                \"y:0\": y_batch[:, 1].reshape((y_batch[:, 0].shape[0], 1)),\n",
    "                \"target:0\": target.reshape((y_batch[:, 0].shape[0], 1))\n",
    "            })   \n",
    "        except StopIteration:\n",
    "            return l\n",
    "        \n",
    "def test_model(train_data, test_data, model_params):\n",
    "    kkbox_main_network_current = partial(kkbox_main_network, units_in_layers=model_params['units_layers'], dropout=model_params['dropout'])\n",
    "    model = ContrastiveRankingModel(\n",
    "        input_shape=model_params['inp_shape'], seed=model_params['seed'],\n",
    "        main_network=kkbox_main_network_current, alpha_reg=model_params['alpha_reg'],\n",
    "        alpha_bias_random_mean=model_params['alpha_bias_random_mean'], \n",
    "        alpha_random_stddev=model_params['alpha_random_stddev'], \n",
    "        beta_random_stddev=model_params['beta_random_stddev'],\n",
    "        contrastive_weight=model_params['contrastive_weight'])\n",
    "    \n",
    "    step_rate = 10\n",
    "    decay = 0.9\n",
    "    global_step = tf.Variable(0, trainable=False)\n",
    "    increment_global_step = tf.assign(global_step, global_step + 1)\n",
    "    learning_rate = tf.train.exponential_decay(0.001, global_step, step_rate, decay, staircase=True)\n",
    "    optimizer = tf.train.GradientDescentOptimizer(learning_rate=learning_rate)\n",
    "    train = optimizer.minimize(model.loss)\n",
    "    \n",
    "    # train data\n",
    "    dg = DataGenerator(x=train_data['x'], y=train_data['y'], t=train_data['t'], n_ex_bin=model_params['n_ex_bin'], \n",
    "                                  n_time_bins=model_params['n_time_bins'])\n",
    "    all_lr = []\n",
    "    hist_losses_train = []\n",
    "    hist_losses_val = []\n",
    "    all_pred_train = []\n",
    "    all_pred_val = []\n",
    "    with tf.device('/GPU:0'):\n",
    "        with tf.Session() as sess:\n",
    "            tf.set_random_seed(model_params['seed'])\n",
    "            init = tf.initialize_all_variables()\n",
    "            sess.run(init)\n",
    "            # for each epoch\n",
    "            for i in tqdm(range(model_params['n_epochs'])):\n",
    "                # initialize generator\n",
    "                gen = dg.get_batch()\n",
    "                while True:\n",
    "                    try:\n",
    "                        # get batch data\n",
    "                        x_batch, y_batch, target = next(gen)\n",
    "                        feed_dict = {\n",
    "                            model.x: x_batch,\n",
    "                            model.t: y_batch[:, 0].reshape((y_batch[:, 0].shape[0], 1)),\n",
    "                            model.y: y_batch[:, 1].reshape((y_batch[:, 0].shape[0], 1)),\n",
    "                            model.target: target.reshape((y_batch[:, 0].shape[0], 1)),\n",
    "                        }\n",
    "                        # train model\n",
    "                        _, l = sess.run([train, model.loss], feed_dict=feed_dict)\n",
    "                    except StopIteration:\n",
    "                        break\n",
    "                # prediction at val\n",
    "                pred = sess.run(model.o1, feed_dict={model.x: test_data['x']})\n",
    "                all_pred_val.append(pred)\n",
    "                l = get_loss(data=test_data, n_ex_bin=model_params['val_n_ex_bin'], n_time_bins=model_params['n_time_bins'], sess=sess, tensor_loss=model.loss)\n",
    "                hist_losses_val.append(l)   \n",
    "                print(l)\n",
    "                pred = sess.run(model.o1, feed_dict={model.x: train_data['x']})\n",
    "                all_pred_train.append(pred)\n",
    "                l = get_loss(data=train_data, n_ex_bin=model_params['val_n_ex_bin'], n_time_bins=model_params['n_time_bins'], sess=sess, tensor_loss=model.loss)\n",
    "                hist_losses_train.append(l) \n",
    "\n",
    "    return hist_losses_train, hist_losses_val, all_pred_train, all_pred_val\n"
   ]
  },
  {
   "cell_type": "code",
   "execution_count": null,
   "metadata": {},
   "outputs": [
    {
     "data": {
      "application/vnd.jupyter.widget-view+json": {
       "model_id": "35624520f8e34339a5885cda9c77ca43",
       "version_major": 2,
       "version_minor": 0
      },
      "text/plain": [
       "HBox(children=(FloatProgress(value=0.0, max=15.0), HTML(value='')))"
      ]
     },
     "metadata": {},
     "output_type": "display_data"
    },
    {
     "name": "stdout",
     "output_type": "stream",
     "text": [
      "{'contrastive_weight': 1e-10, 'n_time_bins': 12, 'inp_shape': (None, 40), 'val_n_ex_bin': 1000, 'n_ex_bin': 30, 'n_epochs': 25, 'seed': 5, 'time_grid': array([  1,  29,  57,  85, 113, 142, 170, 198, 226, 255, 283, 311, 339,\n",
      "       368, 396, 424, 452, 481, 509, 537, 565, 594, 622, 650, 678, 707,\n",
      "       735, 763, 791, 820]), 'alpha_bias_random_mean': 10.0, 'alpha_random_stddev': 5.0, 'beta_random_stddev': 5.0, 'units_layers': [64, 32, 16], 'dropout': 0, 'alpha_reg': 1e-05}\n"
     ]
    },
    {
     "data": {
      "application/vnd.jupyter.widget-view+json": {
       "model_id": "890739413a1343de9df7f83f53cf5a63",
       "version_major": 2,
       "version_minor": 0
      },
      "text/plain": [
       "HBox(children=(FloatProgress(value=0.0, max=25.0), HTML(value='')))"
      ]
     },
     "metadata": {},
     "output_type": "display_data"
    },
    {
     "name": "stdout",
     "output_type": "stream",
     "text": [
      "1.4111725\n",
      "1.402732\n",
      "1.3976276\n",
      "1.3814884\n",
      "1.3774778\n",
      "1.3835905\n",
      "1.373865\n",
      "1.3785467\n",
      "1.3633544\n",
      "1.375698\n",
      "1.3778483\n",
      "1.3733262\n",
      "1.3745624\n",
      "1.3621842\n",
      "1.370809\n",
      "1.3826095\n",
      "1.3676715\n",
      "1.3773367\n",
      "1.3641763\n",
      "1.3761225\n",
      "1.3698412\n",
      "1.3722335\n",
      "1.3713453\n",
      "1.3687447\n",
      "1.370151\n",
      "\n"
     ]
    }
   ],
   "source": [
    "every_nth_epoch = 3\n",
    "\n",
    "all_res_quality = []\n",
    "\n",
    "train_data = data['train']\n",
    "test_data = data['test']\n",
    "\n",
    "for par in tqdm(params):\n",
    "    tf.reset_default_graph()\n",
    "    par.update(model_params)\n",
    "    print(par)\n",
    "    train_loss, val_loss, pred_train, pred_val = test_model(train_data=train_data, test_data=test_data, model_params=par)\n",
    "    pred_to_estimate = pred_val[::every_nth_epoch]\n",
    "    all_q = []\n",
    "    for idx, pred in enumerate(pred_to_estimate):\n",
    "        q = test_quality(t_true=test_data['t'], y_true=test_data['y'], pred=pred, time_grid=model_params['time_grid'], concordance_at_t=None, plot=False)\n",
    "        q['epoch'] = every_nth_epoch * idx\n",
    "        all_q.append(q)\n",
    "    q = pd.concat(all_q)\n",
    "    q.reset_index(drop=True, inplace=True)\n",
    "    q['test_loss'] = ''\n",
    "    q['train_loss'] = ''\n",
    "    q.at[0, 'test_loss'] = val_loss\n",
    "    q.at[0, 'train_loss'] = train_loss\n",
    "    q['cross_entropy_weight'] = par['cross_entropy_weight']\n",
    "    all_res_quality.append(q)\n",
    "    print(all_res_quality)\n",
    "    with open('../../output/kkbox_weibull_contr_alpha_sgd.pkl', 'wb') as f:\n",
    "        pickle.dump(all_res_quality, f)"
   ]
  },
  {
   "cell_type": "code",
   "execution_count": null,
   "metadata": {},
   "outputs": [],
   "source": []
  },
  {
   "cell_type": "code",
   "execution_count": null,
   "metadata": {},
   "outputs": [],
   "source": []
  },
  {
   "cell_type": "code",
   "execution_count": null,
   "metadata": {},
   "outputs": [],
   "source": []
  },
  {
   "cell_type": "code",
   "execution_count": null,
   "metadata": {},
   "outputs": [],
   "source": []
  },
  {
   "cell_type": "code",
   "execution_count": 8,
   "metadata": {},
   "outputs": [
    {
     "data": {
      "application/vnd.jupyter.widget-view+json": {
       "model_id": "69cfc40b48de4e4abf55ab8f4cd13728",
       "version_major": 2,
       "version_minor": 0
      },
      "text/plain": [
       "HBox(children=(FloatProgress(value=0.0, max=2.0), HTML(value='')))"
      ]
     },
     "metadata": {},
     "output_type": "display_data"
    },
    {
     "name": "stdout",
     "output_type": "stream",
     "text": [
      "WARNING:tensorflow:From /home/islam/anaconda3/envs/pycox/lib/python3.6/site-packages/tensorflow/python/ops/init_ops.py:1288: calling VarianceScaling.__init__ (from tensorflow.python.ops.init_ops) with dtype is deprecated and will be removed in a future version.\n",
      "Instructions for updating:\n",
      "Call initializer instance with the dtype argument instead of passing it to the constructor\n",
      "WARNING:tensorflow:From ../../losses.py:150: to_float (from tensorflow.python.ops.math_ops) is deprecated and will be removed in a future version.\n",
      "Instructions for updating:\n",
      "Use `tf.cast` instead.\n",
      "WARNING:tensorflow:From ../../losses.py:165: The name tf.log is deprecated. Please use tf.math.log instead.\n",
      "\n",
      "WARNING:tensorflow:From /home/islam/anaconda3/envs/pycox/lib/python3.6/site-packages/tensorflow/python/ops/math_grad.py:1205: add_dispatch_support.<locals>.wrapper (from tensorflow.python.ops.array_ops) is deprecated and will be removed in a future version.\n",
      "Instructions for updating:\n",
      "Use tf.where in 2.0, which has the same broadcast rule as np.where\n",
      "WARNING:tensorflow:From /home/islam/anaconda3/envs/pycox/lib/python3.6/site-packages/tensorflow/python/util/tf_should_use.py:193: initialize_all_variables (from tensorflow.python.ops.variables) is deprecated and will be removed after 2017-03-02.\n",
      "Instructions for updating:\n",
      "Use `tf.global_variables_initializer` instead.\n"
     ]
    },
    {
     "data": {
      "application/vnd.jupyter.widget-view+json": {
       "model_id": "2a1c5e0e81844e36b162445df0b90364",
       "version_major": 2,
       "version_minor": 0
      },
      "text/plain": [
       "HBox(children=(FloatProgress(value=0.0, max=25.0), HTML(value='')))"
      ]
     },
     "metadata": {},
     "output_type": "display_data"
    },
    {
     "name": "stdout",
     "output_type": "stream",
     "text": [
      "5.368538\n",
      "5.430868\n",
      "5.4175406\n",
      "5.34355\n",
      "5.3296957\n",
      "5.353485\n",
      "5.335909\n",
      "5.3787127\n",
      "5.3592186\n",
      "5.347616\n",
      "5.3806105\n",
      "5.3380075\n",
      "5.3967094\n",
      "5.310052\n",
      "5.3703413\n",
      "5.3337736\n",
      "5.332905\n",
      "5.3843794\n",
      "5.3176217\n",
      "5.343749\n",
      "5.3865094\n",
      "5.3217444\n",
      "5.3314\n",
      "5.3413477\n",
      "5.3290744\n",
      "\n",
      "[   dt_c_index  int_brier_score  int_nbill  epoch  \\\n",
      "0    0.834752         0.129037   0.399220      0   \n",
      "1    0.845278         0.125625   0.389279      3   \n",
      "2    0.847122         0.124806   0.386227      6   \n",
      "3    0.847297         0.126753   0.389726      9   \n",
      "4    0.850522         0.122397   0.379894     12   \n",
      "5    0.851204         0.121674   0.377941     15   \n",
      "6    0.851875         0.120778   0.375774     18   \n",
      "7    0.852642         0.119371   0.373153     21   \n",
      "8    0.852212         0.121620   0.377312     24   \n",
      "\n",
      "                                           test_loss  \\\n",
      "0  [5.368538, 5.430868, 5.4175406, 5.34355, 5.329...   \n",
      "1                                                      \n",
      "2                                                      \n",
      "3                                                      \n",
      "4                                                      \n",
      "5                                                      \n",
      "6                                                      \n",
      "7                                                      \n",
      "8                                                      \n",
      "\n",
      "                                          train_loss  cross_entropy_weight  \n",
      "0  [5.3635488, 5.3558106, 5.360985, 5.349645, 5.4...                     4  \n",
      "1                                                                        4  \n",
      "2                                                                        4  \n",
      "3                                                                        4  \n",
      "4                                                                        4  \n",
      "5                                                                        4  \n",
      "6                                                                        4  \n",
      "7                                                                        4  \n",
      "8                                                                        4  ]\n"
     ]
    },
    {
     "data": {
      "application/vnd.jupyter.widget-view+json": {
       "model_id": "a744e7f751b342ae9fe97da5672164d2",
       "version_major": 2,
       "version_minor": 0
      },
      "text/plain": [
       "HBox(children=(FloatProgress(value=0.0, max=25.0), HTML(value='')))"
      ]
     },
     "metadata": {},
     "output_type": "display_data"
    },
    {
     "name": "stdout",
     "output_type": "stream",
     "text": [
      "6.352256\n",
      "6.4306617\n",
      "6.413157\n",
      "6.332002\n",
      "6.317241\n",
      "6.3455706\n",
      "6.320625\n",
      "6.3748903\n",
      "6.3535957\n",
      "6.3412166\n",
      "6.3788447\n",
      "6.308076\n",
      "6.401321\n",
      "6.2942486\n",
      "6.366109\n",
      "6.320188\n",
      "6.3212295\n",
      "6.3896775\n",
      "6.3064027\n",
      "6.3294883\n",
      "6.393501\n",
      "6.3077745\n",
      "6.315518\n",
      "6.3420734\n",
      "6.3175545\n",
      "\n",
      "[   dt_c_index  int_brier_score  int_nbill  epoch  \\\n",
      "0    0.834752         0.129037   0.399220      0   \n",
      "1    0.845278         0.125625   0.389279      3   \n",
      "2    0.847122         0.124806   0.386227      6   \n",
      "3    0.847297         0.126753   0.389726      9   \n",
      "4    0.850522         0.122397   0.379894     12   \n",
      "5    0.851204         0.121674   0.377941     15   \n",
      "6    0.851875         0.120778   0.375774     18   \n",
      "7    0.852642         0.119371   0.373153     21   \n",
      "8    0.852212         0.121620   0.377312     24   \n",
      "\n",
      "                                           test_loss  \\\n",
      "0  [5.368538, 5.430868, 5.4175406, 5.34355, 5.329...   \n",
      "1                                                      \n",
      "2                                                      \n",
      "3                                                      \n",
      "4                                                      \n",
      "5                                                      \n",
      "6                                                      \n",
      "7                                                      \n",
      "8                                                      \n",
      "\n",
      "                                          train_loss  cross_entropy_weight  \n",
      "0  [5.3635488, 5.3558106, 5.360985, 5.349645, 5.4...                     4  \n",
      "1                                                                        4  \n",
      "2                                                                        4  \n",
      "3                                                                        4  \n",
      "4                                                                        4  \n",
      "5                                                                        4  \n",
      "6                                                                        4  \n",
      "7                                                                        4  \n",
      "8                                                                        4  ,    dt_c_index  int_brier_score  int_nbill  epoch  \\\n",
      "0    0.834306         0.131424   0.404591      0   \n",
      "1    0.843739         0.129280   0.397727      3   \n",
      "2    0.846467         0.127109   0.391660      6   \n",
      "3    0.845607         0.131241   0.399620      9   \n",
      "4    0.849347         0.125519   0.387516     12   \n",
      "5    0.849383         0.123946   0.383603     15   \n",
      "6    0.849669         0.124215   0.384349     18   \n",
      "7    0.851121         0.122073   0.380283     21   \n",
      "8    0.850420         0.124601   0.384935     24   \n",
      "\n",
      "                                           test_loss  \\\n",
      "0  [6.352256, 6.4306617, 6.413157, 6.332002, 6.31...   \n",
      "1                                                      \n",
      "2                                                      \n",
      "3                                                      \n",
      "4                                                      \n",
      "5                                                      \n",
      "6                                                      \n",
      "7                                                      \n",
      "8                                                      \n",
      "\n",
      "                                          train_loss  cross_entropy_weight  \n",
      "0  [6.3475437, 6.335683, 6.3448095, 6.3361692, 6....                     5  \n",
      "1                                                                        5  \n",
      "2                                                                        5  \n",
      "3                                                                        5  \n",
      "4                                                                        5  \n",
      "5                                                                        5  \n",
      "6                                                                        5  \n",
      "7                                                                        5  \n",
      "8                                                                        5  ]\n",
      "\n"
     ]
    }
   ],
   "source": [
    "every_nth_epoch = 3\n",
    "\n",
    "all_res_quality = []\n",
    "\n",
    "train_data = data['train']\n",
    "test_data = data['test']\n",
    "\n",
    "for par in tqdm(params):\n",
    "    tf.reset_default_graph()\n",
    "    par.update(model_params)\n",
    "    train_loss, val_loss, pred_train, pred_val = test_model(train_data=train_data, test_data=test_data, model_params=par)\n",
    "    pred_to_estimate = pred_val[::every_nth_epoch]\n",
    "    all_q = []\n",
    "    for idx, pred in enumerate(pred_to_estimate):\n",
    "        q = test_quality(t_true=test_data['t'], y_true=test_data['y'], pred=pred, time_grid=model_params['time_grid'], concordance_at_t=None, plot=False)\n",
    "        q['epoch'] = every_nth_epoch * idx\n",
    "        all_q.append(q)\n",
    "    q = pd.concat(all_q)\n",
    "    q.reset_index(drop=True, inplace=True)\n",
    "    q['test_loss'] = ''\n",
    "    q['train_loss'] = ''\n",
    "    q.at[0, 'test_loss'] = val_loss\n",
    "    q.at[0, 'train_loss'] = train_loss\n",
    "    q['cross_entropy_weight'] = par['cross_entropy_weight']\n",
    "    all_res_quality.append(q)\n",
    "    print(all_res_quality)\n",
    "    with open('../../output/kkbox_weibull_contr_alpha_sgd_0.pkl', 'wb') as f:\n",
    "        pickle.dump(all_res_quality, f)"
   ]
  },
  {
   "cell_type": "code",
   "execution_count": null,
   "metadata": {},
   "outputs": [],
   "source": []
  },
  {
   "cell_type": "code",
   "execution_count": null,
   "metadata": {},
   "outputs": [],
   "source": []
  },
  {
   "cell_type": "code",
   "execution_count": 9,
   "metadata": {},
   "outputs": [],
   "source": [
    "import seaborn as sns"
   ]
  },
  {
   "cell_type": "code",
   "execution_count": 10,
   "metadata": {},
   "outputs": [],
   "source": [
    "with open('../../output/kkbox_weibull_ce_alpha_sgd.pkl', 'rb') as f:\n",
    "    df = pickle.load(f)\n",
    "with open('../../output/kkbox_weibull_ce_alpha_sgd_0.pkl', 'rb') as f:\n",
    "    df.extend(pickle.load(f))"
   ]
  },
  {
   "cell_type": "code",
   "execution_count": 11,
   "metadata": {},
   "outputs": [],
   "source": [
    "df = pd.concat(df)"
   ]
  },
  {
   "cell_type": "code",
   "execution_count": 12,
   "metadata": {},
   "outputs": [
    {
     "data": {
      "text/html": [
       "<div>\n",
       "<style scoped>\n",
       "    .dataframe tbody tr th:only-of-type {\n",
       "        vertical-align: middle;\n",
       "    }\n",
       "\n",
       "    .dataframe tbody tr th {\n",
       "        vertical-align: top;\n",
       "    }\n",
       "\n",
       "    .dataframe thead th {\n",
       "        text-align: right;\n",
       "    }\n",
       "</style>\n",
       "<table border=\"1\" class=\"dataframe\">\n",
       "  <thead>\n",
       "    <tr style=\"text-align: right;\">\n",
       "      <th></th>\n",
       "      <th>dt_c_index</th>\n",
       "      <th>int_brier_score</th>\n",
       "      <th>int_nbill</th>\n",
       "      <th>epoch</th>\n",
       "      <th>test_loss</th>\n",
       "      <th>train_loss</th>\n",
       "      <th>cross_entropy_weight</th>\n",
       "    </tr>\n",
       "  </thead>\n",
       "  <tbody>\n",
       "    <tr>\n",
       "      <td>0</td>\n",
       "      <td>0.833913</td>\n",
       "      <td>0.125948</td>\n",
       "      <td>0.389186</td>\n",
       "      <td>0</td>\n",
       "      <td>[1.4211478, 1.4127456, 1.4076855, 1.3914324, 1...</td>\n",
       "      <td>[1.4151206, 1.3993776, 1.404609, 1.3993081, 1....</td>\n",
       "      <td>0.01</td>\n",
       "    </tr>\n",
       "    <tr>\n",
       "      <td>1</td>\n",
       "      <td>0.843969</td>\n",
       "      <td>0.120411</td>\n",
       "      <td>0.374344</td>\n",
       "      <td>3</td>\n",
       "      <td></td>\n",
       "      <td></td>\n",
       "      <td>0.01</td>\n",
       "    </tr>\n",
       "    <tr>\n",
       "      <td>2</td>\n",
       "      <td>0.846925</td>\n",
       "      <td>0.118831</td>\n",
       "      <td>0.369429</td>\n",
       "      <td>6</td>\n",
       "      <td></td>\n",
       "      <td></td>\n",
       "      <td>0.01</td>\n",
       "    </tr>\n",
       "    <tr>\n",
       "      <td>3</td>\n",
       "      <td>0.848830</td>\n",
       "      <td>0.117892</td>\n",
       "      <td>0.366366</td>\n",
       "      <td>9</td>\n",
       "      <td></td>\n",
       "      <td></td>\n",
       "      <td>0.01</td>\n",
       "    </tr>\n",
       "    <tr>\n",
       "      <td>4</td>\n",
       "      <td>0.850020</td>\n",
       "      <td>0.117248</td>\n",
       "      <td>0.364994</td>\n",
       "      <td>12</td>\n",
       "      <td></td>\n",
       "      <td></td>\n",
       "      <td>0.01</td>\n",
       "    </tr>\n",
       "  </tbody>\n",
       "</table>\n",
       "</div>"
      ],
      "text/plain": [
       "   dt_c_index  int_brier_score  int_nbill  epoch  \\\n",
       "0    0.833913         0.125948   0.389186      0   \n",
       "1    0.843969         0.120411   0.374344      3   \n",
       "2    0.846925         0.118831   0.369429      6   \n",
       "3    0.848830         0.117892   0.366366      9   \n",
       "4    0.850020         0.117248   0.364994     12   \n",
       "\n",
       "                                           test_loss  \\\n",
       "0  [1.4211478, 1.4127456, 1.4076855, 1.3914324, 1...   \n",
       "1                                                      \n",
       "2                                                      \n",
       "3                                                      \n",
       "4                                                      \n",
       "\n",
       "                                          train_loss  cross_entropy_weight  \n",
       "0  [1.4151206, 1.3993776, 1.404609, 1.3993081, 1....                  0.01  \n",
       "1                                                                     0.01  \n",
       "2                                                                     0.01  \n",
       "3                                                                     0.01  \n",
       "4                                                                     0.01  "
      ]
     },
     "execution_count": 12,
     "metadata": {},
     "output_type": "execute_result"
    }
   ],
   "source": [
    "df.head()"
   ]
  },
  {
   "cell_type": "code",
   "execution_count": 13,
   "metadata": {},
   "outputs": [
    {
     "data": {
      "text/plain": [
       "<matplotlib.axes._subplots.AxesSubplot at 0x7f59584bfa58>"
      ]
     },
     "execution_count": 13,
     "metadata": {},
     "output_type": "execute_result"
    },
    {
     "data": {
      "image/png": "[encoded data removed]",
      "text/plain": [
       "<Figure size 432x288 with 1 Axes>"
      ]
     },
     "metadata": {
      "needs_background": "light"
     },
     "output_type": "display_data"
    }
   ],
   "source": [
    "sns.pointplot(x=df['epoch'], y=df['dt_c_index'], hue=df['cross_entropy_weight'])"
   ]
  },
  {
   "cell_type": "code",
   "execution_count": 14,
   "metadata": {},
   "outputs": [
    {
     "data": {
      "text/plain": [
       "<matplotlib.axes._subplots.AxesSubplot at 0x7f595825fe48>"
      ]
     },
     "execution_count": 14,
     "metadata": {},
     "output_type": "execute_result"
    },
    {
     "data": {
      "image/png": "[encoded data removed]",
      "text/plain": [
       "<Figure size 432x288 with 1 Axes>"
      ]
     },
     "metadata": {
      "needs_background": "light"
     },
     "output_type": "display_data"
    }
   ],
   "source": [
    "sns.pointplot(x=df['epoch'], y=df['int_brier_score'], hue=df['cross_entropy_weight'])"
   ]
  },
  {
   "cell_type": "code",
   "execution_count": 15,
   "metadata": {},
   "outputs": [
    {
     "data": {
      "text/plain": [
       "<matplotlib.axes._subplots.AxesSubplot at 0x7f5958062358>"
      ]
     },
     "execution_count": 15,
     "metadata": {},
     "output_type": "execute_result"
    },
    {
     "data": {
      "image/png": "[encoded data removed]",
      "text/plain": [
       "<Figure size 432x288 with 1 Axes>"
      ]
     },
     "metadata": {
      "needs_background": "light"
     },
     "output_type": "display_data"
    }
   ],
   "source": [
    "sns.pointplot(x=df['epoch'], y=df['int_nbill'],hue=df['cross_entropy_weight'])"
   ]
  },
  {
   "cell_type": "code",
   "execution_count": null,
   "metadata": {},
   "outputs": [],
   "source": []
  },
  {
   "cell_type": "code",
   "execution_count": null,
   "metadata": {},
   "outputs": [],
   "source": []
  },
  {
   "cell_type": "code",
   "execution_count": null,
   "metadata": {},
   "outputs": [],
   "source": []
  }
 ],
 "metadata": {
  "kernelspec": {
   "display_name": "Python 3",
   "language": "python",
   "name": "python3"
  },
  "language_info": {
   "codemirror_mode": {
    "name": "ipython",
    "version": 3
   },
   "file_extension": ".py",
   "mimetype": "text/x-python",
   "name": "python",
   "nbconvert_exporter": "python",
   "pygments_lexer": "ipython3",
   "version": "3.6.9"
  }
 },
 "nbformat": 4,
 "nbformat_minor": 4
}
