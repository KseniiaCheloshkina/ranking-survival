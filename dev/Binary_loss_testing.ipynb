{
 "cells": [
  {
   "cell_type": "code",
   "execution_count": 2,
   "metadata": {},
   "outputs": [
    {
     "name": "stderr",
     "output_type": "stream",
     "text": [
      "Using TensorFlow backend.\n"
     ]
    }
   ],
   "source": [
    "import pickle\n",
    "import math\n",
    "import tqdm\n",
    "\n",
    "import pandas as pd\n",
    "import numpy as np\n",
    "import keras.backend as K\n",
    "from keras.models import Model\n",
    "from keras import layers\n",
    "from keras import optimizers\n",
    "from keras import initializers\n",
    "import matplotlib.pyplot as plt\n",
    "from pycox.evaluation import EvalSurv"
   ]
  },
  {
   "cell_type": "markdown",
   "metadata": {},
   "source": [
    "### Define functions for general use"
   ]
  },
  {
   "cell_type": "code",
   "execution_count": 4,
   "metadata": {},
   "outputs": [],
   "source": [
    "def filter_relevant_contragent(t, y, t_i, y_i):\n",
    "    \n",
    "    \"\"\"\n",
    "    According to definition of Harell's C-index return indices of comparable pairs\n",
    "    for observation with label y_i and time-to-event t_i\n",
    "    \"\"\"\n",
    "    \n",
    "    if y_i == 0:\n",
    "        ind_y = np.where(y == 1)[0]\n",
    "        ind_t = np.where(t < t_i)[0]\n",
    "        ind = np.intersect1d(ind_y, ind_t)\n",
    "    else:\n",
    "        ind_y1 = np.where(y == 1)[0]\n",
    "        ind_y2 = np.where(y == 0)[0] \n",
    "        ind_t2 = np.where(t > t_i)[0]        \n",
    "        ind = np.union1d(ind_y1, np.intersect1d(ind_y2, ind_t2))   \n",
    "    return ind\n",
    "\n",
    "\n",
    "def get_time_bins(t, n_time_bins):\n",
    "\n",
    "    \"\"\"\n",
    "    Get equal size bins\n",
    "    \"\"\"\n",
    "    \n",
    "    percent_list = np.linspace(0, 100, n_time_bins + 1, dtype=np.int)\n",
    "    bins = np.percentile(a=t, q=percent_list[1:-1])\n",
    "    q = np.digitize(t, bins)\n",
    "    if n_time_bins != np.unique(q).shape[0]:\n",
    "        raise Exception(\"There is too large value for n_time_bins selected\")\n",
    "    return q\n",
    "\n",
    "def custom_activation(wb_params):\n",
    "    \n",
    "    alpha = K.exp(wb_params[:, 0])\n",
    "    beta = K.softplus(wb_params[:, 1])\n",
    "    \n",
    "    beta = K.reshape(beta, (K.shape(beta)[0], 1))\n",
    "    alpha = K.reshape(alpha, (K.shape(alpha)[0], 1))\n",
    "    \n",
    "    return K.concatenate((alpha, beta), axis=1)\n",
    "\n",
    "def WeibullRankingModel(input_shape, common_nn_input, common_nn_output, loss, optimizer):\n",
    "    \n",
    "    # build Siamese network    \n",
    "    wp = layers.Dense(2, activation=None, name='weibull_params')(common_nn_output)\n",
    "    wp = layers.Activation(custom_activation)(wp)\n",
    "    base_network = Model(common_nn_input, wp)\n",
    "    \n",
    "    input_a = layers.Input(shape=input_shape)\n",
    "    input_b = layers.Input(shape=input_shape)\n",
    "    \n",
    "    processed_a = base_network(input_a)\n",
    "    processed_b = base_network(input_b)\n",
    "    merged_vector = layers.concatenate([processed_a, processed_b], axis=-1)\n",
    "    model = Model([input_a, input_b], merged_vector)\n",
    "    \n",
    "    # complilation\n",
    "    if loss == 'binary_ce':\n",
    "        loss_f = binary_cross_entropy_survival\n",
    "        batch_generator = binary_cross_entropy_batch_generator\n",
    "    model.compile(optimizer=optimizer, loss=loss_f)\n",
    "    \n",
    "    return model, batch_generator\n"
   ]
  },
  {
   "cell_type": "markdown",
   "metadata": {},
   "source": [
    "### Define specific functions: binary case loss and batch generator"
   ]
  },
  {
   "cell_type": "code",
   "execution_count": 5,
   "metadata": {},
   "outputs": [],
   "source": [
    "def binary_cross_entropy_survival(y_true, y_pred):\n",
    "    \n",
    "    \"\"\"\n",
    "    y_pred (, 4) - output of network\n",
    "        y_pred[:, 0:2] - weibull parameters for first input\n",
    "        y_pred[:, 2:4] - weibull parameters for second input\n",
    "    y_true (, 4) - target\n",
    "        y_true[:, 0] - t for first input\n",
    "        y_true[:, 1] - t for second input  \n",
    "        y_true[:, 2] - target (1 if q1 == q2 and 0 otherwise)\n",
    "        y_true[:, 3] - sample weight \n",
    "    \"\"\"\n",
    "    \n",
    "    # get a probaility    \n",
    "    t_a = y_true[:, 0]\n",
    "    t_b = y_true[:, 1]\n",
    "    o = y_true[:, 2]\n",
    "    q = y_true[:, 3]\n",
    "    \n",
    "    y_pred_a = y_pred[:, 0:2]\n",
    "    y_pred_b = y_pred[:, 2:4]\n",
    "\n",
    "    s_a = calc_survival_value(t_a, y_pred_a)\n",
    "    s_b = calc_survival_value(t_b, y_pred_b)\n",
    "    sigm = K.sigmoid(s_a - s_b)\n",
    "    sigm = K.clip(sigm, K.epsilon(), 1 - K.epsilon())\n",
    "    \n",
    "    # weighted binary cross entropy\n",
    "    label_pos = o * K.log(sigm + K.epsilon())\n",
    "    label_neg = (1 - o) * K.log(1 + K.epsilon() - sigm) * (q + 1)  \n",
    "    print(s_a)\n",
    "    print(s_b)\n",
    "    return -1 * K.mean(label_pos + label_neg)\n",
    "\n",
    "   \n",
    "def calc_survival_value(y_true, y_pred):\n",
    "    \n",
    "    alphas = y_pred[:, 0]\n",
    "    betas = y_pred[:, 1]\n",
    "    # TODO: clipping     sigm = K.clip(sigm, K.epsilon(), 1 - K.epsilon())\n",
    "    s = K.exp(-1 * K.pow(y_true / (alphas + 1e-6), betas))\n",
    "              \n",
    "    return s                                              \n",
    "\n",
    "\n",
    "def binary_cross_entropy_batch_generator(x, t, y, n_time_bins=10, batch_anchors=1, anchor_pairs=2):\n",
    "    \n",
    "    # TODO: баланс классов (убедиться, что будет генерироваться и положительные и отрицательные примеры, \n",
    "    # с одинаковой вероятностью берем бины справа и слева от бина исходного примера)\n",
    "    # TODO: предрасчитать то, что можно не пересчитывать каждый раз  \n",
    "    \n",
    "    \"\"\"\n",
    "    Keyword arguments:\n",
    "    sample_weight - is it needed to weight examples proportionally to time bin during sampling and training\n",
    "     # sample_weight - q для train_on_batch\n",
    "    \"\"\"\n",
    "    assert anchor_pairs > 1\n",
    "    x_batch_left = np.zeros((batch_anchors * anchor_pairs, x.shape[1]))\n",
    "    x_batch_right = np.zeros((batch_anchors * anchor_pairs, x.shape[1]))\n",
    "    y_batch = np.zeros((batch_anchors * anchor_pairs, 4))\n",
    "    sample_weight = np.zeros((batch_anchors * anchor_pairs, 1))\n",
    "    q = get_time_bins(t=t, n_time_bins=n_time_bins)\n",
    "    \n",
    "    # uniform sampling of time bins\n",
    "    bins = np.random.uniform(0, n_time_bins - 1, batch_anchors).astype(int)\n",
    "    # for each anchor\n",
    "    i = 0\n",
    "    for b in bins:\n",
    "        ind_anchor = np.random.choice(np.where(q == b)[0], 1, replace=False)[0]\n",
    "        x_anchor = x[ind_anchor, :]\n",
    "        t_anchor = t[ind_anchor]\n",
    "        y_anchor = y[ind_anchor]\n",
    "        x_batch_left[(anchor_pairs * i):(anchor_pairs * i + anchor_pairs), :] = x_anchor\n",
    "        y_batch[(anchor_pairs * i):(anchor_pairs * i + anchor_pairs), 0] = t_anchor\n",
    "        # find possible pair\n",
    "        ind_pos_contr = filter_relevant_contragent(t, y, t_anchor, y_anchor)\n",
    "        dq = q[ind_pos_contr] - q[ind_anchor] \n",
    "        # half of times from the same bin and the other half - uniformly from all bins\n",
    "        n_obs_same_bin = dq[dq == 0].shape[0]\n",
    "        n_obs_same_bin = min(n_obs_same_bin, anchor_pairs // 2)\n",
    "        if n_obs_same_bin == 0:\n",
    "            pairs_bins = np.random.uniform(np.min(dq), np.max(dq), anchor_pairs).astype(int)\n",
    "        else:\n",
    "            pairs_bins = np.repeat(0, repeats=n_obs_same_bin)\n",
    "            pairs_bins = np.append(pairs_bins, np.random.uniform(np.min(dq), np.max(dq), anchor_pairs - n_obs_same_bin).astype(int))\n",
    "        # TODO: proportional sampling\n",
    "        # for each pair\n",
    "        j = 0        \n",
    "        for p_b in pairs_bins:\n",
    "            ind_pair = np.random.choice(np.where(dq == p_b)[0], 1, replace=False)[0]\n",
    "            x_batch_right[i * anchor_pairs + j, :] = x[ind_pos_contr, :][ind_pair]\n",
    "            y_batch[i * anchor_pairs + j, 1] = t[ind_pos_contr][ind_pair]\n",
    "            y_batch[i * anchor_pairs + j, 2] = np.int(dq[ind_pair] == 0)\n",
    "            y_batch[i * anchor_pairs + j, 3] = 1 + abs(dq[ind_pair]) / n_time_bins\n",
    "            j += 1\n",
    "        i += 1\n",
    "\n",
    "    yield [x_batch_left, x_batch_right], y_batch\n"
   ]
  },
  {
   "cell_type": "code",
   "execution_count": 13,
   "metadata": {},
   "outputs": [],
   "source": [
    "[x_batch_left, x_batch_right], y_batch = next(binary_cross_entropy_batch_generator(\n",
    "    x_val, t_val, y_val, n_time_bins=10, batch_anchors=20, anchor_pairs=4))"
   ]
  },
  {
   "cell_type": "code",
   "execution_count": null,
   "metadata": {},
   "outputs": [],
   "source": []
  },
  {
   "cell_type": "markdown",
   "metadata": {},
   "source": [
    "### Test model on METABRIC data"
   ]
  },
  {
   "cell_type": "code",
   "execution_count": 8,
   "metadata": {},
   "outputs": [],
   "source": [
    "with open('../data/metabric.pkl', 'rb') as f:\n",
    "    all_metabric_data = pickle.load(f)"
   ]
  },
  {
   "cell_type": "code",
   "execution_count": 9,
   "metadata": {},
   "outputs": [],
   "source": [
    "[\n",
    "    (x_train, y_train),\n",
    "    (x_test, y_test),\n",
    "    (x_val, y_val)\n",
    "] = all_metabric_data"
   ]
  },
  {
   "cell_type": "code",
   "execution_count": 10,
   "metadata": {},
   "outputs": [],
   "source": [
    "t_train = y_train[:, 0]\n",
    "y_train = y_train[:, 1]\n",
    "\n",
    "t_test = y_test[:, 0]\n",
    "y_test = y_test[:, 1]\n",
    "\n",
    "t_val = y_val[:, 0]\n",
    "y_val = y_val[:, 1]"
   ]
  },
  {
   "cell_type": "code",
   "execution_count": 11,
   "metadata": {},
   "outputs": [],
   "source": [
    "def create_base_network(input_shape):\n",
    "    '''Base network to be shared (eq. to feature extraction).\n",
    "    '''\n",
    "    input = layers.Input(shape=input_shape, name='input')\n",
    "    output = layers.Dense(4, activation='relu', name='dense')(input)\n",
    "    return input, output\n"
   ]
  },
  {
   "cell_type": "code",
   "execution_count": 12,
   "metadata": {},
   "outputs": [
    {
     "name": "stdout",
     "output_type": "stream",
     "text": [
      "WARNING:tensorflow:From /home/islam/anaconda3/envs/pycox/lib/python3.6/site-packages/keras/backend/tensorflow_backend.py:541: The name tf.placeholder is deprecated. Please use tf.compat.v1.placeholder instead.\n",
      "\n",
      "WARNING:tensorflow:From /home/islam/anaconda3/envs/pycox/lib/python3.6/site-packages/keras/backend/tensorflow_backend.py:4432: The name tf.random_uniform is deprecated. Please use tf.random.uniform instead.\n",
      "\n"
     ]
    }
   ],
   "source": [
    "inp_shape = (x_train.shape[1], )\n",
    "inp, outp = create_base_network(input_shape=inp_shape)\n",
    "rms = optimizers.RMSprop()"
   ]
  },
  {
   "cell_type": "code",
   "execution_count": 14,
   "metadata": {},
   "outputs": [
    {
     "name": "stdout",
     "output_type": "stream",
     "text": [
      "WARNING:tensorflow:From /home/islam/anaconda3/envs/pycox/lib/python3.6/site-packages/keras/backend/tensorflow_backend.py:66: The name tf.get_default_graph is deprecated. Please use tf.compat.v1.get_default_graph instead.\n",
      "\n",
      "WARNING:tensorflow:From /home/islam/anaconda3/envs/pycox/lib/python3.6/site-packages/keras/optimizers.py:793: The name tf.train.Optimizer is deprecated. Please use tf.compat.v1.train.Optimizer instead.\n",
      "\n",
      "WARNING:tensorflow:From /home/islam/anaconda3/envs/pycox/lib/python3.6/site-packages/keras/backend/tensorflow_backend.py:1702: The name tf.log is deprecated. Please use tf.math.log instead.\n",
      "\n",
      "Tensor(\"loss/concatenate_1_loss/Exp:0\", shape=(?,), dtype=float32)\n",
      "Tensor(\"loss/concatenate_1_loss/Exp_1:0\", shape=(?,), dtype=float32)\n",
      "Model: \"model_2\"\n",
      "__________________________________________________________________________________________________\n",
      "Layer (type)                    Output Shape         Param #     Connected to                     \n",
      "==================================================================================================\n",
      "input_1 (InputLayer)            (None, 9)            0                                            \n",
      "__________________________________________________________________________________________________\n",
      "input_2 (InputLayer)            (None, 9)            0                                            \n",
      "__________________________________________________________________________________________________\n",
      "model_1 (Model)                 (None, 2)            50          input_1[0][0]                    \n",
      "                                                                 input_2[0][0]                    \n",
      "__________________________________________________________________________________________________\n",
      "concatenate_1 (Concatenate)     (None, 4)            0           model_1[1][0]                    \n",
      "                                                                 model_1[2][0]                    \n",
      "==================================================================================================\n",
      "Total params: 50\n",
      "Trainable params: 50\n",
      "Non-trainable params: 0\n",
      "__________________________________________________________________________________________________\n"
     ]
    }
   ],
   "source": [
    "model, batch_generator = WeibullRankingModel(input_shape=inp_shape, common_nn_input=inp, common_nn_output=outp, loss='binary_ce', optimizer=rms)\n",
    "model.summary()"
   ]
  },
  {
   "cell_type": "code",
   "execution_count": 15,
   "metadata": {},
   "outputs": [],
   "source": [
    "n_epochs = 30\n",
    "batch_anchors = 30\n",
    "n_time_bins = 10\n",
    "anchor_pairs = 7"
   ]
  },
  {
   "cell_type": "code",
   "execution_count": 16,
   "metadata": {},
   "outputs": [
    {
     "name": "stderr",
     "output_type": "stream",
     "text": [
      "  0%|          | 0/30 [00:00<?, ?it/s]"
     ]
    },
    {
     "name": "stdout",
     "output_type": "stream",
     "text": [
      "WARNING:tensorflow:From /home/islam/anaconda3/envs/pycox/lib/python3.6/site-packages/tensorflow/python/ops/math_grad.py:1250: add_dispatch_support.<locals>.wrapper (from tensorflow.python.ops.array_ops) is deprecated and will be removed in a future version.\n",
      "Instructions for updating:\n",
      "Use tf.where in 2.0, which has the same broadcast rule as np.where\n",
      "WARNING:tensorflow:From /home/islam/anaconda3/envs/pycox/lib/python3.6/site-packages/keras/backend/tensorflow_backend.py:1033: The name tf.assign_add is deprecated. Please use tf.compat.v1.assign_add instead.\n",
      "\n"
     ]
    },
    {
     "name": "stderr",
     "output_type": "stream",
     "text": [
      "100%|██████████| 30/30 [00:04<00:00,  6.54it/s]\n"
     ]
    }
   ],
   "source": [
    "loss = []\n",
    "for epoch in tqdm.tqdm(range(n_epochs)):\n",
    "    [x_batch_left, x_batch_right], y_batch = next(batch_generator(\n",
    "        x_train, t_train, y_train, n_time_bins=n_time_bins, batch_anchors=batch_anchors, anchor_pairs=anchor_pairs))\n",
    "    hist = model.train_on_batch(x=[x_batch_left, x_batch_right], y=y_batch)\n",
    "    loss.append(hist)"
   ]
  },
  {
   "cell_type": "code",
   "execution_count": 17,
   "metadata": {},
   "outputs": [
    {
     "data": {
      "image/png": "[encoded data removed]",
      "text/plain": [
       "<Figure size 432x288 with 1 Axes>"
      ]
     },
     "metadata": {
      "needs_background": "light"
     },
     "output_type": "display_data"
    }
   ],
   "source": [
    "plt.hist(t_train);"
   ]
  },
  {
   "cell_type": "code",
   "execution_count": 19,
   "metadata": {},
   "outputs": [
    {
     "data": {
      "image/png": "[encoded data removed]",
      "text/plain": [
       "<Figure size 432x288 with 1 Axes>"
      ]
     },
     "metadata": {
      "needs_background": "light"
     },
     "output_type": "display_data"
    }
   ],
   "source": [
    "plt.hist(y_batch[:, 0]);"
   ]
  },
  {
   "cell_type": "code",
   "execution_count": 20,
   "metadata": {},
   "outputs": [
    {
     "data": {
      "image/png": "[encoded data removed]",
      "text/plain": [
       "<Figure size 432x288 with 1 Axes>"
      ]
     },
     "metadata": {
      "needs_background": "light"
     },
     "output_type": "display_data"
    }
   ],
   "source": [
    "plt.plot(loss);"
   ]
  },
  {
   "cell_type": "code",
   "execution_count": 22,
   "metadata": {},
   "outputs": [],
   "source": [
    "test_pred_wp = model.predict([x_test, x_test])[:, 0:2]"
   ]
  },
  {
   "cell_type": "code",
   "execution_count": 23,
   "metadata": {},
   "outputs": [
    {
     "data": {
      "image/png": "[encoded data removed]",
      "text/plain": [
       "<Figure size 432x288 with 1 Axes>"
      ]
     },
     "metadata": {
      "needs_background": "light"
     },
     "output_type": "display_data"
    }
   ],
   "source": [
    "plt.hist(t_test);"
   ]
  },
  {
   "cell_type": "code",
   "execution_count": 39,
   "metadata": {},
   "outputs": [],
   "source": [
    "dif_times = np.linspace(0, 300, 30, dtype=np.int)\n",
    "\n",
    "all_surv_time = pd.DataFrame()\n",
    "for t in dif_times:\n",
    "    surv_prob = K.eval(calc_survival_value(y_true=np.repeat(t, t_test.shape[0]), y_pred=test_pred_wp))\n",
    "    all_surv_time = pd.concat([all_surv_time, pd.DataFrame(surv_prob).T])\n",
    "\n",
    "all_surv_time.index = dif_times"
   ]
  },
  {
   "cell_type": "code",
   "execution_count": 57,
   "metadata": {},
   "outputs": [
    {
     "data": {
      "image/png": "[encoded data removed]",
      "text/plain": [
       "<Figure size 432x288 with 1 Axes>"
      ]
     },
     "metadata": {
      "needs_background": "light"
     },
     "output_type": "display_data"
    }
   ],
   "source": [
    "d = all_surv_time.sample(5, axis=1).loc[1:]\n",
    "obs = d.columns\n",
    "for o in obs:\n",
    "    plt.plot(d.index, d[o])"
   ]
  },
  {
   "cell_type": "code",
   "execution_count": 73,
   "metadata": {},
   "outputs": [],
   "source": [
    "ev1 = EvalSurv(surv=all_surv_time, durations=t_test, events=y_test, censor_surv='km')"
   ]
  },
  {
   "cell_type": "code",
   "execution_count": 74,
   "metadata": {},
   "outputs": [
    {
     "data": {
      "text/plain": [
       "0.4481961931408707"
      ]
     },
     "execution_count": 74,
     "metadata": {},
     "output_type": "execute_result"
    }
   ],
   "source": [
    "ev1.concordance_td('antolini')"
   ]
  },
  {
   "cell_type": "code",
   "execution_count": null,
   "metadata": {},
   "outputs": [],
   "source": []
  },
  {
   "cell_type": "markdown",
   "metadata": {},
   "source": [
    "Compare with baseline model - same general population alpha-beta"
   ]
  },
  {
   "cell_type": "code",
   "execution_count": 54,
   "metadata": {},
   "outputs": [
    {
     "name": "stdout",
     "output_type": "stream",
     "text": [
      "init_alpha:  205.33489420694383 mean uncensored:  0.6042692939244664\n"
     ]
    }
   ],
   "source": [
    "# Paramaeters for output activation layer initialization.\n",
    "# Start at naive geometric (beta=1) MLE:\n",
    "tte_mean_train = np.nanmean(t_train)\n",
    "init_alpha = -1.0 / np.log(1.0 - 1.0 / (tte_mean_train + 1.0) )\n",
    "mean_u = np.nanmean(y_train)\n",
    "init_alpha = init_alpha / mean_u\n",
    "print('init_alpha: ', init_alpha, 'mean uncensored: ', mean_u)"
   ]
  },
  {
   "cell_type": "code",
   "execution_count": 67,
   "metadata": {},
   "outputs": [],
   "source": [
    "baseline_surv_time = pd.DataFrame()\n",
    "\n",
    "for t in dif_times:\n",
    "    bas_s = K.eval(calc_survival_value(y_true=np.array([t]), y_pred=np.array([[init_alpha, 1]])))\n",
    "    baseline_surv_time = pd.concat([baseline_surv_time, pd.DataFrame(np.repeat(bas_s[0], t_test.shape[0])).T])\n",
    "\n",
    "baseline_surv_time.index = dif_times"
   ]
  },
  {
   "cell_type": "code",
   "execution_count": 69,
   "metadata": {},
   "outputs": [],
   "source": [
    "ev = EvalSurv(surv=baseline_surv_time, durations=t_test, events=y_test, censor_surv='km')"
   ]
  },
  {
   "cell_type": "code",
   "execution_count": 70,
   "metadata": {},
   "outputs": [
    {
     "data": {
      "text/plain": [
       "0.0"
      ]
     },
     "execution_count": 70,
     "metadata": {},
     "output_type": "execute_result"
    }
   ],
   "source": [
    "ev.concordance_td('antolini')"
   ]
  },
  {
   "cell_type": "code",
   "execution_count": 83,
   "metadata": {},
   "outputs": [
    {
     "data": {
      "image/png": "[encoded data removed]",
      "text/plain": [
       "<Figure size 432x288 with 1 Axes>"
      ]
     },
     "metadata": {
      "needs_background": "light"
     },
     "output_type": "display_data"
    }
   ],
   "source": [
    "ev.nbll(dif_times).plot()\n",
    "plt.ylabel('NBLL')\n",
    "_ = plt.xlabel('Time')"
   ]
  },
  {
   "cell_type": "code",
   "execution_count": 84,
   "metadata": {},
   "outputs": [
    {
     "data": {
      "image/png": "[encoded data removed]",
      "text/plain": [
       "<Figure size 432x288 with 1 Axes>"
      ]
     },
     "metadata": {
      "needs_background": "light"
     },
     "output_type": "display_data"
    }
   ],
   "source": [
    "ev1.nbll(dif_times).plot()\n",
    "plt.ylabel('NBLL')\n",
    "_ = plt.xlabel('Time')"
   ]
  },
  {
   "cell_type": "code",
   "execution_count": 85,
   "metadata": {},
   "outputs": [
    {
     "data": {
      "image/png": "[encoded data removed]",
      "text/plain": [
       "<Figure size 432x288 with 1 Axes>"
      ]
     },
     "metadata": {
      "needs_background": "light"
     },
     "output_type": "display_data"
    }
   ],
   "source": [
    "ev.brier_score(dif_times).plot()\n",
    "plt.ylabel('Brier score')\n",
    "_ = plt.xlabel('Time')"
   ]
  },
  {
   "cell_type": "code",
   "execution_count": 86,
   "metadata": {},
   "outputs": [
    {
     "data": {
      "image/png": "[encoded data removed]",
      "text/plain": [
       "<Figure size 432x288 with 1 Axes>"
      ]
     },
     "metadata": {
      "needs_background": "light"
     },
     "output_type": "display_data"
    }
   ],
   "source": [
    "ev1.brier_score(dif_times).plot()\n",
    "plt.ylabel('Brier score')\n",
    "_ = plt.xlabel('Time')"
   ]
  },
  {
   "cell_type": "code",
   "execution_count": null,
   "metadata": {},
   "outputs": [],
   "source": []
  },
  {
   "cell_type": "markdown",
   "metadata": {},
   "source": [
    "TODO"
   ]
  },
  {
   "cell_type": "code",
   "execution_count": null,
   "metadata": {},
   "outputs": [],
   "source": [
    "# TODO: в лосс добавить правдоподобие (первого и второго примера)\n",
    "# TODO: sample_weight подавать отдельно из батч-генератора, применять веса в train_on_batch(sample_weight),а четвертый вход в target - y\n",
    "# TODO: организовать batch_generator так, чтобы 1 его вызов - 1 эпоха - все возможные примеры использованы как anchor\n",
    "# TODO: регулировка batch_size\n",
    "# TODO: инициализация параметров "
   ]
  },
  {
   "cell_type": "code",
   "execution_count": null,
   "metadata": {},
   "outputs": [],
   "source": []
  },
  {
   "cell_type": "code",
   "execution_count": null,
   "metadata": {},
   "outputs": [],
   "source": []
  },
  {
   "cell_type": "code",
   "execution_count": null,
   "metadata": {},
   "outputs": [],
   "source": []
  },
  {
   "cell_type": "code",
   "execution_count": null,
   "metadata": {},
   "outputs": [],
   "source": [
    "# какие стратегии лучше и быстрее учатся????"
   ]
  }
 ],
 "metadata": {
  "kernelspec": {
   "display_name": "Python 3",
   "language": "python",
   "name": "python3"
  },
  "language_info": {
   "codemirror_mode": {
    "name": "ipython",
    "version": 3
   },
   "file_extension": ".py",
   "mimetype": "text/x-python",
   "name": "python",
   "nbconvert_exporter": "python",
   "pygments_lexer": "ipython3",
   "version": "3.6.9"
  }
 },
 "nbformat": 4,
 "nbformat_minor": 4
}
