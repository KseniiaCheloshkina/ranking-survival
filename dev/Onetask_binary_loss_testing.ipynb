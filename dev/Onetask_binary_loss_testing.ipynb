{
 "cells": [
  {
   "cell_type": "code",
   "execution_count": 1,
   "metadata": {},
   "outputs": [],
   "source": [
    "import pickle\n",
    "import sys\n",
    "import math\n",
    "import tqdm\n",
    "import copy\n",
    "import tqdm\n",
    "from tqdm.notebook import tqdm as tqdm\n",
    "\n",
    "import tensorflow as tf\n",
    "import pandas as pd\n",
    "import numpy as np\n",
    "import matplotlib.pyplot as plt\n",
    "from pycox.evaluation import EvalSurv\n",
    "import lifelines"
   ]
  },
  {
   "cell_type": "code",
   "execution_count": 2,
   "metadata": {},
   "outputs": [],
   "source": [
    "sys.path.append(\"../\")"
   ]
  },
  {
   "cell_type": "code",
   "execution_count": 3,
   "metadata": {},
   "outputs": [],
   "source": [
    "from batch_generators import DataGenerator"
   ]
  },
  {
   "cell_type": "markdown",
   "metadata": {},
   "source": [
    "### Load METABRIC data"
   ]
  },
  {
   "cell_type": "code",
   "execution_count": 4,
   "metadata": {},
   "outputs": [],
   "source": [
    "with open('../data/metabric.pkl', 'rb') as f:\n",
    "    all_metabric_data = pickle.load(f)"
   ]
  },
  {
   "cell_type": "code",
   "execution_count": 5,
   "metadata": {},
   "outputs": [],
   "source": [
    "[\n",
    "    (x_train, y_train),\n",
    "    (x_test, y_test),\n",
    "    (x_val, y_val)\n",
    "] = all_metabric_data"
   ]
  },
  {
   "cell_type": "code",
   "execution_count": 6,
   "metadata": {},
   "outputs": [],
   "source": [
    "t_train = y_train[:, 0]\n",
    "y_train = y_train[:, 1]\n",
    "\n",
    "t_test = y_test[:, 0]\n",
    "y_test = y_test[:, 1]\n",
    "\n",
    "t_val = y_val[:, 0]\n",
    "y_val = y_val[:, 1]"
   ]
  },
  {
   "cell_type": "code",
   "execution_count": 49,
   "metadata": {},
   "outputs": [
    {
     "name": "stdout",
     "output_type": "stream",
     "text": [
      "WARNING:tensorflow:Entity <bound method Dense.call of <tensorflow.python.layers.core.Dense object at 0x7f28ceb10a20>> could not be transformed and will be executed as-is. Please report this to the AutgoGraph team. When filing the bug, set the verbosity to 10 (on Linux, `export AUTOGRAPH_VERBOSITY=10`) and attach the full output. Cause: converting <bound method Dense.call of <tensorflow.python.layers.core.Dense object at 0x7f28ceb10a20>>: AssertionError: Bad argument number for Name: 3, expecting 4\n",
      "WARNING: Entity <bound method Dense.call of <tensorflow.python.layers.core.Dense object at 0x7f28ceb10a20>> could not be transformed and will be executed as-is. Please report this to the AutgoGraph team. When filing the bug, set the verbosity to 10 (on Linux, `export AUTOGRAPH_VERBOSITY=10`) and attach the full output. Cause: converting <bound method Dense.call of <tensorflow.python.layers.core.Dense object at 0x7f28ceb10a20>>: AssertionError: Bad argument number for Name: 3, expecting 4\n",
      "WARNING:tensorflow:Entity <bound method Dense.call of <tensorflow.python.layers.core.Dense object at 0x7f28ceb10a20>> could not be transformed and will be executed as-is. Please report this to the AutgoGraph team. When filing the bug, set the verbosity to 10 (on Linux, `export AUTOGRAPH_VERBOSITY=10`) and attach the full output. Cause: converting <bound method Dense.call of <tensorflow.python.layers.core.Dense object at 0x7f28ceb10a20>>: AssertionError: Bad argument number for Name: 3, expecting 4\n",
      "WARNING: Entity <bound method Dense.call of <tensorflow.python.layers.core.Dense object at 0x7f28ceb10a20>> could not be transformed and will be executed as-is. Please report this to the AutgoGraph team. When filing the bug, set the verbosity to 10 (on Linux, `export AUTOGRAPH_VERBOSITY=10`) and attach the full output. Cause: converting <bound method Dense.call of <tensorflow.python.layers.core.Dense object at 0x7f28ceb10a20>>: AssertionError: Bad argument number for Name: 3, expecting 4\n",
      "WARNING:tensorflow:Entity <bound method Dense.call of <tensorflow.python.layers.core.Dense object at 0x7f28ceb101d0>> could not be transformed and will be executed as-is. Please report this to the AutgoGraph team. When filing the bug, set the verbosity to 10 (on Linux, `export AUTOGRAPH_VERBOSITY=10`) and attach the full output. Cause: converting <bound method Dense.call of <tensorflow.python.layers.core.Dense object at 0x7f28ceb101d0>>: AssertionError: Bad argument number for Name: 3, expecting 4\n",
      "WARNING: Entity <bound method Dense.call of <tensorflow.python.layers.core.Dense object at 0x7f28ceb101d0>> could not be transformed and will be executed as-is. Please report this to the AutgoGraph team. When filing the bug, set the verbosity to 10 (on Linux, `export AUTOGRAPH_VERBOSITY=10`) and attach the full output. Cause: converting <bound method Dense.call of <tensorflow.python.layers.core.Dense object at 0x7f28ceb101d0>>: AssertionError: Bad argument number for Name: 3, expecting 4\n",
      "WARNING:tensorflow:Entity <bound method Dense.call of <tensorflow.python.layers.core.Dense object at 0x7f28ceb35f28>> could not be transformed and will be executed as-is. Please report this to the AutgoGraph team. When filing the bug, set the verbosity to 10 (on Linux, `export AUTOGRAPH_VERBOSITY=10`) and attach the full output. Cause: converting <bound method Dense.call of <tensorflow.python.layers.core.Dense object at 0x7f28ceb35f28>>: AssertionError: Bad argument number for Name: 3, expecting 4\n",
      "WARNING: Entity <bound method Dense.call of <tensorflow.python.layers.core.Dense object at 0x7f28ceb35f28>> could not be transformed and will be executed as-is. Please report this to the AutgoGraph team. When filing the bug, set the verbosity to 10 (on Linux, `export AUTOGRAPH_VERBOSITY=10`) and attach the full output. Cause: converting <bound method Dense.call of <tensorflow.python.layers.core.Dense object at 0x7f28ceb35f28>>: AssertionError: Bad argument number for Name: 3, expecting 4\n"
     ]
    },
    {
     "name": "stderr",
     "output_type": "stream",
     "text": [
      "/home/islam/anaconda3/envs/pycox/lib/python3.6/site-packages/ipykernel_launcher.py:119: TqdmDeprecationWarning: This function will be removed in tqdm==5.0.0\n",
      "Please use `tqdm.notebook.tqdm` instead of `tqdm.tqdm_notebook`\n"
     ]
    },
    {
     "data": {
      "application/vnd.jupyter.widget-view+json": {
       "model_id": "99aa956a050f4fbb848f2d71c27947c5",
       "version_major": 2,
       "version_minor": 0
      },
      "text/plain": [
       "HBox(children=(FloatProgress(value=0.0, max=50.0), HTML(value='')))"
      ]
     },
     "metadata": {},
     "output_type": "display_data"
    },
    {
     "name": "stdout",
     "output_type": "stream",
     "text": [
      "[6.5349264 0.777935 ]\n",
      "[5.6085725 0.7711624]\n",
      "[6.8732643  0.77498275]\n",
      "[5.9541497 0.7535855]\n",
      "[6.836354  0.7506416]\n",
      "[10.993111    0.76750886]\n",
      "[11.581082   0.7602758]\n",
      "[14.813337    0.77635944]\n",
      "[16.70273     0.77210623]\n",
      "[17.53339     0.76829493]\n",
      "[12.17329     0.77004427]\n",
      "[15.277297   0.7657946]\n",
      "[23.154556   0.7822185]\n",
      "[19.920744   0.7580141]\n",
      "[19.688454    0.76759267]\n",
      "[19.708755   0.7620748]\n",
      "[19.590702    0.76732326]\n",
      "[17.3592     0.7616852]\n",
      "[23.889248    0.76864666]\n",
      "[25.18731    0.7646318]\n",
      "[30.346628   0.7814399]\n",
      "[26.81058     0.76166564]\n",
      "[24.884693    0.75931716]\n",
      "[28.514612   0.7617628]\n",
      "[38.587204    0.76811045]\n",
      "[30.284353    0.76345915]\n",
      "[30.106937    0.75395226]\n",
      "[33.11756    0.7523574]\n",
      "[33.48822    0.7493177]\n",
      "[36.18675   0.746439]\n",
      "[39.969776   0.7567938]\n",
      "[45.061687   0.7538992]\n",
      "[42.71787     0.75497705]\n",
      "[43.180244   0.7524737]\n",
      "[61.62831     0.76109856]\n",
      "[54.108456    0.76168436]\n",
      "[45.84318    0.7578934]\n",
      "[65.18387    0.7562494]\n",
      "[56.329456   0.7519882]\n",
      "[45.61922     0.74450934]\n",
      "[64.602196    0.75738674]\n",
      "[57.617516   0.7572211]\n",
      "[55.9055     0.7564761]\n",
      "[69.4834      0.74806887]\n",
      "[81.44409    0.7551772]\n",
      "[65.11017     0.75032526]\n",
      "[64.20214    0.7465689]\n",
      "[67.33548    0.7478678]\n",
      "[75.62558     0.75397897]\n",
      "[75.24814    0.7584824]\n",
      "\n"
     ]
    }
   ],
   "source": [
    "class Model(object):\n",
    "    \n",
    "    def __init__(self):\n",
    "        \n",
    "        # features\n",
    "        self.x_a = tf.placeholder(tf.float32, (None, 9))\n",
    "        self.x_b = tf.placeholder(tf.float32, (None, 9))\n",
    "        \n",
    "        # time to event\n",
    "        self.t_a = tf.placeholder(tf.float32, [None, 1], name='t_a')\n",
    "        self.t_b = tf.placeholder(tf.float32, [None, 1], name='t_b')\n",
    "        \n",
    "        # event label\n",
    "        self.y_a = tf.placeholder(tf.float32, [None, 1], name='y_a')\n",
    "        self.y_b = tf.placeholder(tf.float32, [None, 1], name='y_b')\n",
    "        \n",
    "        self.target = tf.placeholder(tf.float32, [None, 1], name='target')\n",
    "        self.sample_weight = tf.placeholder(tf.float32, [None, 1], name='sample_weight')\n",
    "             \n",
    "        with tf.variable_scope(\"siamese\", reuse=tf.AUTO_REUSE) as scope:\n",
    "            self.o1 = self.siamese_net(self.x_a)\n",
    "            scope.reuse_variables()\n",
    "            self.o2 = self.siamese_net(self.x_b)\n",
    "\n",
    "        self.loss = self.calc_loss()\n",
    "    \n",
    "    def siamese_net(self, x):\n",
    "        \n",
    "        # main network\n",
    "        output = tf.layers.dense(inputs=x, units=4, name='dense')\n",
    "        \n",
    "        # weibull parameters layer\n",
    "        y_pred = tf.layers.dense(inputs=output, units=2, name='weibull_parameters')\n",
    "        alpha = y_pred[:, 0]\n",
    "        beta = y_pred[:, 1]\n",
    "        alpha = tf.clip_by_value(alpha, 0, 12, name='alpha_clipping')\n",
    "        alpha = tf.exp(alpha, name='alpha_act')\n",
    "        beta = tf.clip_by_value(beta, 0, 2, name='beta_clipping')\n",
    "        beta = tf.nn.softplus(beta, name='beta_act')\n",
    "        beta = tf.reshape(beta, (tf.shape(beta)[0], 1), name='beta_reshaped')\n",
    "        alpha = tf.reshape(alpha, (tf.shape(alpha)[0], 1), name='alpha_reshaped')\n",
    "        output = tf.concat((alpha, beta), axis=1, name='wp_concat')\n",
    "        \n",
    "        return output\n",
    "    \n",
    "#     def calc_loss(self):\n",
    "#         return tf.reduce_mean(tf.square(self.o1 + self.o2))\n",
    "    \n",
    "    def calc_loss(self):\n",
    "        \n",
    "        mean_ll, mean_lh_a, mean_lh_b, mean_sq_alpha = self.binary_survival_loss(self.t_a, self.t_b, self.y_a, self.y_b, self.o1, self.o2, self.target, self.sample_weight)\n",
    "#       -1 * tf.reduce_mean(ll, name='mean_loss')\n",
    "#         return tf.reduce_mean(1e6 * ll - lh_a - lh_b)\n",
    "#         return mean_sq_alpha + mean_ll\n",
    "        return mean_lh_b + mean_lh_a + 1e-3 * mean_sq_alpha + mean_ll\n",
    "\n",
    "\n",
    "#         return -1 * tf.reduce_mean(lh_a + lh_b, name='mean_loss') + mean_sq_alpha\n",
    "    \n",
    "    def calc_survival_value(self, alphas, betas, t): \n",
    "        s = tf.exp(-1 * tf.pow(tf.divide(t, alphas + 1e-6), betas))\n",
    "        return s                                             \n",
    "\n",
    "    def calc_likelyhood(self, alphas, betas, t, y):\n",
    "        ev = tf.multiply(y, tf.add(tf.multiply(betas, tf.log(tf.divide(t, alphas + 1e-6))), tf.log(betas)))\n",
    "        lh = tf.subtract(ev, tf.pow(tf.divide(t, alphas + 1e-6), betas))              \n",
    "        return lh\n",
    "    \n",
    "    def binary_survival_loss(self, t_a, t_b, y_a, y_b, output_a, output_b, target, sample_weight):\n",
    "        \n",
    "        sh = tf.shape(t_a)\n",
    "        alphas = tf.reshape(output_a[:, 0], sh, name='alpha_reshaped_loss')\n",
    "        betas = tf.reshape(output_a[:, 1], sh, name='beta_reshaped_loss')\n",
    "        s_a = self.calc_survival_value(t=t_a, alphas=alphas, betas=betas)\n",
    "        lh_a = self.calc_likelyhood(t=t_a, y=y_a, alphas=alphas, betas=betas)\n",
    "        mean_lh_a =  -1 * tf.reduce_mean(lh_a)\n",
    "        all_alphas = alphas\n",
    "        \n",
    "        alphas = tf.reshape(output_b[:, 0], sh)\n",
    "        betas = tf.reshape(output_b[:, 1], sh)        \n",
    "        s_b = self.calc_survival_value(t=t_b, alphas=alphas, betas=betas)\n",
    "        lh_b = self.calc_likelyhood(t=t_b, y=y_b, alphas=alphas, betas=betas)\n",
    "        mean_lh_b =  -1 * tf.reduce_mean(lh_b)\n",
    "        all_alphas = tf.add(all_alphas, alphas)\n",
    "\n",
    "        # weighted binary cross entropy\n",
    "        sigm = tf.nn.sigmoid(s_a - s_b)\n",
    "        sigm = tf.clip_by_value(sigm, 1e-6, 1 - 1e-6)\n",
    "        label_pos = tf.multiply(target, tf.log(sigm + 1e-6))\n",
    "        label_neg = tf.multiply(1 - target, tf.multiply(tf.log(1 + 1e-6 - sigm), sample_weight))\n",
    "        label_neg = tf.multiply(1 - target, tf.log(1 + 1e-6 - sigm))\n",
    "        ll = tf.add(label_pos, label_neg)\n",
    "        mean_ll = -1 * tf.reduce_mean(ll)\n",
    "        \n",
    "        # alpha reg\n",
    "        mean_sq_alpha = tf.reduce_mean(all_alphas)\n",
    "        \n",
    "        return mean_ll, mean_lh_a, mean_lh_b, mean_sq_alpha\n",
    "\n",
    "\n",
    "model = Model()\n",
    "# # Minimize the squared errors.\n",
    "optimizer = tf.train.GradientDescentOptimizer(0.001)\n",
    "train = optimizer.minimize(model.loss)\n",
    "\n",
    "n_time_bins = 10\n",
    "batch_size = 512\n",
    "dg = DataGenerator(x=x_train, y=y_train, t=t_train, batch_size=batch_size, n_time_bins=n_time_bins)\n",
    "n_batches = min(dg.ij_pos_sorted.shape[1], dg.ij_neg_sorted.shape[1]) // batch_size\n",
    "# n_batches = 200\n",
    "n_epochs = 50\n",
    "\n",
    "hist_losses = []\n",
    "all_pred = []\n",
    "# Launch the graph\n",
    "with tf.Session() as sess:\n",
    "    init = tf.initialize_all_variables()\n",
    "    sess.run(init)\n",
    "    for i in tqdm(range(n_epochs)):\n",
    "        gen = dg.get_batch()\n",
    "        for j in range(n_batches):\n",
    "                [x_batch_left, x_batch_right], y_batch, sample_weight, target = next(gen)\n",
    "                feed_dict = {\n",
    "                    model.x_a: x_batch_left, \n",
    "                    model.x_b: x_batch_right, \n",
    "                    model.t_a: y_batch[:, 0].reshape((batch_size, 1)),\n",
    "                    model.t_b: y_batch[:, 1].reshape((batch_size, 1)),\n",
    "                    model.y_a: y_batch[:, 2].reshape((batch_size, 1)),\n",
    "                    model.y_b: y_batch[:, 3].reshape((batch_size, 1)),\n",
    "                    model.target: target.reshape((batch_size, 1)),\n",
    "                    model.sample_weight: sample_weight\n",
    "                }\n",
    "\n",
    "        _, l = sess.run([train, model.loss], feed_dict=feed_dict)\n",
    "        pred = sess.run(model.o1, feed_dict={model.x_a: x_val})\n",
    "        print(np.mean(pred, axis=0))\n",
    "        all_pred.append(pred)\n",
    "        hist_losses.append(l)\n"
   ]
  },
  {
   "cell_type": "code",
   "execution_count": 50,
   "metadata": {},
   "outputs": [
    {
     "data": {
      "text/plain": [
       "(512, 2)"
      ]
     },
     "execution_count": 50,
     "metadata": {},
     "output_type": "execute_result"
    }
   ],
   "source": [
    "all_pred[0].shape"
   ]
  },
  {
   "cell_type": "code",
   "execution_count": 51,
   "metadata": {},
   "outputs": [
    {
     "data": {
      "image/png": "[encoded data removed]",
      "text/plain": [
       "<Figure size 432x288 with 1 Axes>"
      ]
     },
     "metadata": {
      "needs_background": "light"
     },
     "output_type": "display_data"
    }
   ],
   "source": [
    "plt.plot(hist_losses[1:]);"
   ]
  },
  {
   "cell_type": "code",
   "execution_count": 52,
   "metadata": {},
   "outputs": [
    {
     "data": {
      "image/png": "[encoded data removed]",
      "text/plain": [
       "<Figure size 432x288 with 1 Axes>"
      ]
     },
     "metadata": {
      "needs_background": "light"
     },
     "output_type": "display_data"
    }
   ],
   "source": [
    "plt.hist(all_pred[-1][:, 1]);"
   ]
  },
  {
   "cell_type": "code",
   "execution_count": 53,
   "metadata": {},
   "outputs": [
    {
     "data": {
      "image/png": "[encoded data removed]",
      "text/plain": [
       "<Figure size 432x288 with 1 Axes>"
      ]
     },
     "metadata": {
      "needs_background": "light"
     },
     "output_type": "display_data"
    }
   ],
   "source": [
    "plt.hist(all_pred[-1][:, 0]);"
   ]
  },
  {
   "cell_type": "code",
   "execution_count": 55,
   "metadata": {},
   "outputs": [],
   "source": [
    "dif_times = np.linspace(0, 300, 30, dtype=np.int)\n",
    "\n",
    "all_surv_time = pd.DataFrame()\n",
    "for t in dif_times:\n",
    "    surv_prob = np.exp(-1 * np.power(t / (all_pred[-1][:, 0] + 1e-6), all_pred[-1][:, 1]))\n",
    "    all_surv_time = pd.concat([all_surv_time, pd.DataFrame(surv_prob).T])\n",
    "\n",
    "all_surv_time.index = dif_times"
   ]
  },
  {
   "cell_type": "code",
   "execution_count": 63,
   "metadata": {},
   "outputs": [
    {
     "data": {
      "image/png": "[encoded data removed]",
      "text/plain": [
       "<Figure size 432x288 with 1 Axes>"
      ]
     },
     "metadata": {
      "needs_background": "light"
     },
     "output_type": "display_data"
    }
   ],
   "source": [
    "d = all_surv_time.sample(5, axis=1).loc[1:]\n",
    "obs = d.columns\n",
    "for o in obs:\n",
    "    plt.plot(d.index, d[o])"
   ]
  },
  {
   "cell_type": "code",
   "execution_count": 57,
   "metadata": {},
   "outputs": [],
   "source": [
    "ev1 = EvalSurv(surv=all_surv_time, durations=y_batch[:, 0], events=y_batch[:, 2], censor_surv='km')"
   ]
  },
  {
   "cell_type": "code",
   "execution_count": 62,
   "metadata": {},
   "outputs": [
    {
     "data": {
      "text/plain": [
       "0.4814725261439884"
      ]
     },
     "execution_count": 62,
     "metadata": {},
     "output_type": "execute_result"
    }
   ],
   "source": [
    "ev1.concordance_td('antolini')"
   ]
  },
  {
   "cell_type": "code",
   "execution_count": 61,
   "metadata": {},
   "outputs": [
    {
     "data": {
      "text/plain": [
       "<bound method EvalSurv.brier_score of <pycox.evaluation.eval_surv.EvalSurv object at 0x7f28a8579320>>"
      ]
     },
     "execution_count": 61,
     "metadata": {},
     "output_type": "execute_result"
    }
   ],
   "source": [
    "ev1.concordance_td()"
   ]
  },
  {
   "cell_type": "code",
   "execution_count": 64,
   "metadata": {},
   "outputs": [],
   "source": [
    "import lifelines"
   ]
  },
  {
   "cell_type": "code",
   "execution_count": 78,
   "metadata": {},
   "outputs": [
    {
     "data": {
      "text/plain": [
       "0.4955743041942643"
      ]
     },
     "execution_count": 78,
     "metadata": {},
     "output_type": "execute_result"
    }
   ],
   "source": [
    "lifelines.utils.concordance_index(predicted_scores=all_surv_time.iloc[10, ].values, event_times=y_batch[:, 0], event_observed=y_batch[:, 2])"
   ]
  },
  {
   "cell_type": "code",
   "execution_count": null,
   "metadata": {},
   "outputs": [],
   "source": []
  },
  {
   "cell_type": "code",
   "execution_count": null,
   "metadata": {},
   "outputs": [],
   "source": []
  },
  {
   "cell_type": "code",
   "execution_count": null,
   "metadata": {},
   "outputs": [],
   "source": []
  },
  {
   "cell_type": "code",
   "execution_count": 5,
   "metadata": {},
   "outputs": [],
   "source": []
  },
  {
   "cell_type": "code",
   "execution_count": 6,
   "metadata": {},
   "outputs": [
    {
     "name": "stdout",
     "output_type": "stream",
     "text": [
      "WARNING:tensorflow:From <ipython-input-6-95db08910a4f>:30: dense (from tensorflow.python.layers.core) is deprecated and will be removed in a future version.\n",
      "Instructions for updating:\n",
      "Use keras.layers.dense instead.\n",
      "WARNING:tensorflow:From /home/islam/anaconda3/envs/pycox/lib/python3.6/site-packages/tensorflow/python/ops/init_ops.py:1251: calling VarianceScaling.__init__ (from tensorflow.python.ops.init_ops) with dtype is deprecated and will be removed in a future version.\n",
      "Instructions for updating:\n",
      "Call initializer instance with the dtype argument instead of passing it to the constructor\n",
      "WARNING:tensorflow:Entity <bound method Dense.call of <tensorflow.python.layers.core.Dense object at 0x7fba826dad68>> could not be transformed and will be executed as-is. Please report this to the AutgoGraph team. When filing the bug, set the verbosity to 10 (on Linux, `export AUTOGRAPH_VERBOSITY=10`) and attach the full output. Cause: converting <bound method Dense.call of <tensorflow.python.layers.core.Dense object at 0x7fba826dad68>>: AssertionError: Bad argument number for Name: 3, expecting 4\n",
      "WARNING: Entity <bound method Dense.call of <tensorflow.python.layers.core.Dense object at 0x7fba826dad68>> could not be transformed and will be executed as-is. Please report this to the AutgoGraph team. When filing the bug, set the verbosity to 10 (on Linux, `export AUTOGRAPH_VERBOSITY=10`) and attach the full output. Cause: converting <bound method Dense.call of <tensorflow.python.layers.core.Dense object at 0x7fba826dad68>>: AssertionError: Bad argument number for Name: 3, expecting 4\n",
      "WARNING:tensorflow:From /home/islam/anaconda3/envs/pycox/lib/python3.6/site-packages/tensorflow/python/keras/initializers.py:119: calling RandomUniform.__init__ (from tensorflow.python.ops.init_ops) with dtype is deprecated and will be removed in a future version.\n",
      "Instructions for updating:\n",
      "Call initializer instance with the dtype argument instead of passing it to the constructor\n",
      "WARNING:tensorflow:Entity <bound method Dense.call of <tensorflow.python.layers.core.Dense object at 0x7fbb24118cc0>> could not be transformed and will be executed as-is. Please report this to the AutgoGraph team. When filing the bug, set the verbosity to 10 (on Linux, `export AUTOGRAPH_VERBOSITY=10`) and attach the full output. Cause: converting <bound method Dense.call of <tensorflow.python.layers.core.Dense object at 0x7fbb24118cc0>>: AssertionError: Bad argument number for Name: 3, expecting 4\n",
      "WARNING: Entity <bound method Dense.call of <tensorflow.python.layers.core.Dense object at 0x7fbb24118cc0>> could not be transformed and will be executed as-is. Please report this to the AutgoGraph team. When filing the bug, set the verbosity to 10 (on Linux, `export AUTOGRAPH_VERBOSITY=10`) and attach the full output. Cause: converting <bound method Dense.call of <tensorflow.python.layers.core.Dense object at 0x7fbb24118cc0>>: AssertionError: Bad argument number for Name: 3, expecting 4\n",
      "WARNING:tensorflow:Entity <bound method Dense.call of <tensorflow.python.layers.core.Dense object at 0x7fba826dad68>> could not be transformed and will be executed as-is. Please report this to the AutgoGraph team. When filing the bug, set the verbosity to 10 (on Linux, `export AUTOGRAPH_VERBOSITY=10`) and attach the full output. Cause: converting <bound method Dense.call of <tensorflow.python.layers.core.Dense object at 0x7fba826dad68>>: AssertionError: Bad argument number for Name: 3, expecting 4\n",
      "WARNING: Entity <bound method Dense.call of <tensorflow.python.layers.core.Dense object at 0x7fba826dad68>> could not be transformed and will be executed as-is. Please report this to the AutgoGraph team. When filing the bug, set the verbosity to 10 (on Linux, `export AUTOGRAPH_VERBOSITY=10`) and attach the full output. Cause: converting <bound method Dense.call of <tensorflow.python.layers.core.Dense object at 0x7fba826dad68>>: AssertionError: Bad argument number for Name: 3, expecting 4\n",
      "WARNING:tensorflow:Entity <bound method Dense.call of <tensorflow.python.layers.core.Dense object at 0x7fbb24118cc0>> could not be transformed and will be executed as-is. Please report this to the AutgoGraph team. When filing the bug, set the verbosity to 10 (on Linux, `export AUTOGRAPH_VERBOSITY=10`) and attach the full output. Cause: converting <bound method Dense.call of <tensorflow.python.layers.core.Dense object at 0x7fbb24118cc0>>: AssertionError: Bad argument number for Name: 3, expecting 4\n",
      "WARNING: Entity <bound method Dense.call of <tensorflow.python.layers.core.Dense object at 0x7fbb24118cc0>> could not be transformed and will be executed as-is. Please report this to the AutgoGraph team. When filing the bug, set the verbosity to 10 (on Linux, `export AUTOGRAPH_VERBOSITY=10`) and attach the full output. Cause: converting <bound method Dense.call of <tensorflow.python.layers.core.Dense object at 0x7fbb24118cc0>>: AssertionError: Bad argument number for Name: 3, expecting 4\n",
      "WARNING:tensorflow:From /home/islam/anaconda3/envs/pycox/lib/python3.6/site-packages/tensorflow/python/ops/math_grad.py:1205: add_dispatch_support.<locals>.wrapper (from tensorflow.python.ops.array_ops) is deprecated and will be removed in a future version.\n",
      "Instructions for updating:\n",
      "Use tf.where in 2.0, which has the same broadcast rule as np.where\n",
      "WARNING:tensorflow:From /home/islam/anaconda3/envs/pycox/lib/python3.6/site-packages/tensorflow/python/util/tf_should_use.py:193: initialize_all_variables (from tensorflow.python.ops.variables) is deprecated and will be removed after 2017-03-02.\n",
      "Instructions for updating:\n",
      "Use `tf.global_variables_initializer` instead.\n"
     ]
    },
    {
     "data": {
      "application/vnd.jupyter.widget-view+json": {
       "model_id": "a9f35205bf9c488ea32370b3cfeaa1ec",
       "version_major": 2,
       "version_minor": 0
      },
      "text/plain": [
       "HBox(children=(FloatProgress(value=0.0, max=50.0), HTML(value='')))"
      ]
     },
     "metadata": {},
     "output_type": "display_data"
    },
    {
     "name": "stdout",
     "output_type": "stream",
     "text": [
      "[132.97273      0.69314605]\n",
      "[134.43175      0.69314605]\n",
      "[136.63107      0.69314605]\n",
      "[137.19327      0.69314605]\n",
      "[137.57896      0.69314605]\n",
      "[137.51727      0.69314605]\n",
      "[137.2914       0.69314605]\n",
      "[136.65031      0.69314605]\n",
      "[136.63446      0.69314605]\n",
      "[136.17172      0.69314605]\n",
      "[135.86212      0.69314605]\n",
      "[136.02673      0.69314605]\n",
      "[135.83699      0.69314605]\n",
      "[135.79181      0.69314605]\n",
      "[135.89465      0.69314605]\n",
      "[135.74014      0.69314605]\n",
      "[135.92061      0.69314605]\n",
      "[135.9562       0.69314605]\n",
      "[135.8465       0.69314605]\n",
      "[136.00357      0.69314605]\n",
      "[135.77052      0.69314605]\n",
      "[135.92442      0.69314605]\n",
      "[135.67014      0.69314605]\n",
      "[135.62613      0.69314605]\n",
      "[136.10237      0.69314605]\n",
      "[135.90393      0.69314605]\n",
      "[135.84882      0.69314605]\n",
      "[135.89622      0.69314605]\n",
      "[135.6127       0.69314605]\n",
      "[136.17502      0.69314605]\n",
      "[135.5987       0.69314605]\n",
      "[135.80254      0.69314605]\n",
      "[136.06027      0.69314605]\n",
      "[135.90211      0.69314605]\n",
      "[135.90608      0.69314605]\n",
      "[136.04726      0.69314605]\n",
      "[136.00432      0.69314605]\n",
      "[136.12173      0.69314605]\n",
      "[136.39624      0.69314605]\n",
      "[135.81041      0.69314605]\n",
      "[136.12071      0.69314605]\n",
      "[136.39648      0.69314605]\n",
      "[136.28738      0.69314605]\n",
      "[136.27232      0.69314605]\n",
      "[136.18677      0.69314605]\n",
      "[136.15085      0.69314605]\n",
      "[135.89221      0.69314605]\n",
      "[136.33316      0.69314605]\n",
      "[136.58047      0.69314605]\n",
      "[136.24944      0.69314605]\n",
      "\n"
     ]
    }
   ],
   "source": [
    "class Model(object):\n",
    "    \n",
    "    def __init__(self):\n",
    "        \n",
    "        # features\n",
    "        self.x_a = tf.placeholder(tf.float32, (None, 9))\n",
    "        self.x_b = tf.placeholder(tf.float32, (None, 9))\n",
    "        \n",
    "        # time to event\n",
    "        self.t_a = tf.placeholder(tf.float32, [None, 1], name='t_a')\n",
    "        self.t_b = tf.placeholder(tf.float32, [None, 1], name='t_b')\n",
    "        \n",
    "        # event label\n",
    "        self.y_a = tf.placeholder(tf.float32, [None, 1], name='y_a')\n",
    "        self.y_b = tf.placeholder(tf.float32, [None, 1], name='y_b')\n",
    "        \n",
    "        self.target = tf.placeholder(tf.float32, [None, 1], name='target')\n",
    "        self.sample_weight = tf.placeholder(tf.float32, [None, 1], name='sample_weight')\n",
    "             \n",
    "        with tf.variable_scope(\"siamese\", reuse=tf.AUTO_REUSE) as scope:\n",
    "            self.o1 = self.siamese_net(self.x_a)\n",
    "            scope.reuse_variables()\n",
    "            self.o2 = self.siamese_net(self.x_b)\n",
    "\n",
    "        self.loss = self.calc_loss()\n",
    "    \n",
    "    def siamese_net(self, x):\n",
    "        \n",
    "        # main network\n",
    "        output = tf.layers.dense(inputs=x, units=4, name='dense')\n",
    "        \n",
    "        # weibull parameters layer\n",
    "        init_kernel = tf.keras.initializers.RandomUniform(minval=-0.05, maxval=0.05)\n",
    "        y_pred = tf.layers.dense(inputs=output, units=2, bias_initializer=init_kernel, kernel_initializer=init_kernel, name='weibull_parameters')\n",
    "        alpha = y_pred[:, 0]\n",
    "        beta = y_pred[:, 1]\n",
    "        alpha = tf.clip_by_value(alpha, 0, 12, name='alpha_clipping')\n",
    "        alpha = tf.exp(alpha, name='alpha_act')\n",
    "        beta = tf.clip_by_value(beta, 0, 2, name='beta_clipping')\n",
    "        beta = tf.nn.softplus(beta, name='beta_act')\n",
    "        beta = tf.reshape(beta, (tf.shape(beta)[0], 1), name='beta_reshaped')\n",
    "        alpha = tf.reshape(alpha, (tf.shape(alpha)[0], 1), name='alpha_reshaped')\n",
    "        output = tf.concat((alpha, beta), axis=1, name='wp_concat')\n",
    "        return output\n",
    "\n",
    "    \n",
    "    def calc_loss(self):\n",
    "        \n",
    "        mean_ll, mean_lh_a, mean_lh_b, mean_sq_alpha = self.binary_survival_loss(self.t_a, self.t_b, self.y_a, self.y_b, self.o1, self.o2, self.target, self.sample_weight)\n",
    "        return mean_lh_b + mean_lh_a + 1e-3 * mean_sq_alpha + mean_ll\n",
    "\n",
    "\n",
    "#         return -1 * tf.reduce_mean(lh_a + lh_b, name='mean_loss') + mean_sq_alpha\n",
    "    \n",
    "    def calc_survival_value(self, alphas, betas, t): \n",
    "        s = tf.exp(-1 * tf.pow(tf.divide(t, alphas + 1e-6), betas))\n",
    "        return s                                             \n",
    "\n",
    "    def calc_likelyhood(self, alphas, betas, t, y):\n",
    "        ev = tf.multiply(y, tf.add(tf.multiply(betas, tf.log(tf.divide(t, alphas + 1e-6))), tf.log(betas)))\n",
    "        lh = tf.subtract(ev, tf.pow(tf.divide(t, alphas + 1e-6), betas))              \n",
    "        return lh\n",
    "    \n",
    "    def binary_survival_loss(self, t_a, t_b, y_a, y_b, output_a, output_b, target, sample_weight):\n",
    "        \n",
    "        sh = tf.shape(t_a)\n",
    "        alphas = tf.reshape(output_a[:, 0], sh, name='alpha_reshaped_loss')\n",
    "        betas = tf.reshape(output_a[:, 1], sh, name='beta_reshaped_loss')\n",
    "        s_a = self.calc_survival_value(t=t_a, alphas=alphas, betas=betas)\n",
    "        lh_a = self.calc_likelyhood(t=t_a, y=y_a, alphas=alphas, betas=betas)\n",
    "        mean_lh_a =  -1 * tf.reduce_mean(lh_a)\n",
    "        all_alphas = alphas\n",
    "        \n",
    "        alphas = tf.reshape(output_b[:, 0], sh)\n",
    "        betas = tf.reshape(output_b[:, 1], sh)        \n",
    "        s_b = self.calc_survival_value(t=t_b, alphas=alphas, betas=betas)\n",
    "        lh_b = self.calc_likelyhood(t=t_b, y=y_b, alphas=alphas, betas=betas)\n",
    "        mean_lh_b =  -1 * tf.reduce_mean(lh_b)\n",
    "        all_alphas = tf.add(all_alphas, alphas)\n",
    "\n",
    "        # weighted binary cross entropy\n",
    "        sigm = tf.nn.sigmoid(s_a - s_b)\n",
    "        sigm = tf.clip_by_value(sigm, 1e-6, 1 - 1e-6)\n",
    "        label_pos = tf.multiply(target, tf.log(sigm + 1e-6))\n",
    "        label_neg = tf.multiply(1 - target, tf.multiply(tf.log(1 + 1e-6 - sigm), sample_weight))\n",
    "        label_neg = tf.multiply(1 - target, tf.log(1 + 1e-6 - sigm))\n",
    "        ll = tf.add(label_pos, label_neg)\n",
    "        mean_ll = -1 * tf.reduce_mean(ll)\n",
    "        \n",
    "        # alpha reg\n",
    "        mean_sq_alpha = tf.reduce_mean(all_alphas)\n",
    "        \n",
    "        return mean_ll, mean_lh_a, mean_lh_b, mean_sq_alpha\n",
    "\n",
    "\n",
    "model = Model()\n",
    "# optimizer = tf.train.AdamOptimizer(learning_rate=0.001, beta1=0.9, beta2=0.99)\n",
    "optimizer = tf.train.GradientDescentOptimizer(learning_rate=0.001)\n",
    "train = optimizer.minimize(model.loss)\n",
    "saver = tf.train.Saver()\n",
    "\n",
    "\n",
    "n_time_bins = 10\n",
    "\n",
    "# validation data\n",
    "dg = DataGenerator(x=x_val, y=y_val, t=t_val, batch_size=30228, n_time_bins=n_time_bins)\n",
    "[x_batch_left_val, x_batch_right_val], y_batch_val, sample_weight_val, target_val = next(dg.get_batch())\n",
    "\n",
    "batch_size = 1024\n",
    "dg = DataGenerator(x=x_train, y=y_train, t=t_train, batch_size=batch_size, n_time_bins=n_time_bins)\n",
    "n_batches = min(dg.ij_pos_sorted.shape[1], dg.ij_neg_sorted.shape[1]) // batch_size\n",
    "n_epochs = 50\n",
    "\n",
    "loss_summary = tf.summary.scalar(name='train_loss', tensor=model.loss) \n",
    "val_loss_summary = tf.summary.scalar(name='val_loss', tensor=model.loss)\n",
    "hist_losses = []\n",
    "all_pred = []\n",
    "# Launch the graph\n",
    "with tf.device('/GPU:0'):\n",
    "    with tf.Session() as sess:\n",
    "        init = tf.initialize_all_variables()\n",
    "        sess.run(init)\n",
    "        writer = tf.summary.FileWriter('../logs/graphs', sess.graph)\n",
    "        for i in tqdm(range(n_epochs)):\n",
    "            gen = dg.get_batch()\n",
    "            for j in range(n_batches):\n",
    "                [x_batch_left, x_batch_right], y_batch, sample_weight, target = next(gen)\n",
    "                feed_dict = {\n",
    "                    model.x_a: x_batch_left, \n",
    "                    model.x_b: x_batch_right, \n",
    "                    model.t_a: y_batch[:, 0].reshape((batch_size, 1)),\n",
    "                    model.t_b: y_batch[:, 1].reshape((batch_size, 1)),\n",
    "                    model.y_a: y_batch[:, 2].reshape((batch_size, 1)),\n",
    "                    model.y_b: y_batch[:, 3].reshape((batch_size, 1)),\n",
    "                    model.target: target.reshape((batch_size, 1)),\n",
    "                    model.sample_weight: sample_weight\n",
    "                }\n",
    "                _, l = sess.run([train, model.loss], feed_dict=feed_dict)\n",
    "                \n",
    "            loss_train = sess.run(loss_summary, feed_dict=feed_dict)\n",
    "            loss_val = sess.run(val_loss_summary, feed_dict={\n",
    "                    model.x_a: x_batch_left_val, \n",
    "                    model.x_b: x_batch_right_val, \n",
    "                    model.t_a: y_batch_val[:, 0].reshape((30228, 1)),\n",
    "                    model.t_b: y_batch_val[:, 1].reshape((30228, 1)),\n",
    "                    model.y_a: y_batch_val[:, 2].reshape((30228, 1)),\n",
    "                    model.y_b: y_batch_val[:, 3].reshape((30228, 1)),\n",
    "                    model.target: target_val.reshape((30228, 1)),\n",
    "                    model.sample_weight: sample_weight_val\n",
    "                })\n",
    "            writer.add_summary(loss_train, i)\n",
    "            writer.add_summary(loss_val, i)\n",
    "            pred = sess.run(model.o1, feed_dict={model.x_a: x_val})\n",
    "            print(np.mean(pred, axis=0))\n",
    "            all_pred.append(pred)\n",
    "            hist_losses.append(l)\n",
    "            \n",
    "            saver.save(sess, '../data/my_test_model')\n"
   ]
  },
  {
   "cell_type": "code",
   "execution_count": 7,
   "metadata": {},
   "outputs": [
    {
     "data": {
      "text/plain": [
       "(305, 2)"
      ]
     },
     "execution_count": 7,
     "metadata": {},
     "output_type": "execute_result"
    }
   ],
   "source": [
    "all_pred[0].shape"
   ]
  },
  {
   "cell_type": "code",
   "execution_count": 8,
   "metadata": {},
   "outputs": [
    {
     "data": {
      "image/png": "[encoded data removed]",
      "text/plain": [
       "<Figure size 432x288 with 1 Axes>"
      ]
     },
     "metadata": {
      "needs_background": "light"
     },
     "output_type": "display_data"
    }
   ],
   "source": [
    "plt.plot(hist_losses[1:]);"
   ]
  },
  {
   "cell_type": "code",
   "execution_count": 9,
   "metadata": {},
   "outputs": [
    {
     "data": {
      "image/png": "[encoded data removed]",
      "text/plain": [
       "<Figure size 432x288 with 1 Axes>"
      ]
     },
     "metadata": {
      "needs_background": "light"
     },
     "output_type": "display_data"
    }
   ],
   "source": [
    "plt.hist(all_pred[-1][:, 1]);"
   ]
  },
  {
   "cell_type": "code",
   "execution_count": 10,
   "metadata": {},
   "outputs": [
    {
     "data": {
      "image/png": "[encoded data removed]",
      "text/plain": [
       "<Figure size 432x288 with 1 Axes>"
      ]
     },
     "metadata": {
      "needs_background": "light"
     },
     "output_type": "display_data"
    }
   ],
   "source": [
    "plt.hist(all_pred[-1][:, 0]);"
   ]
  },
  {
   "cell_type": "code",
   "execution_count": 11,
   "metadata": {},
   "outputs": [],
   "source": [
    "dif_times = np.linspace(0, 300, 30, dtype=np.int)\n",
    "\n",
    "all_surv_time = pd.DataFrame()\n",
    "for t in dif_times:\n",
    "    surv_prob = np.exp(-1 * np.power(t / (all_pred[-1][:, 0] + 1e-6), all_pred[-1][:, 1]))\n",
    "    all_surv_time = pd.concat([all_surv_time, pd.DataFrame(surv_prob).T])\n",
    "\n",
    "all_surv_time.index = dif_times"
   ]
  },
  {
   "cell_type": "code",
   "execution_count": 27,
   "metadata": {},
   "outputs": [
    {
     "data": {
      "image/png": "[encoded data removed]",
      "text/plain": [
       "<Figure size 432x288 with 1 Axes>"
      ]
     },
     "metadata": {
      "needs_background": "light"
     },
     "output_type": "display_data"
    }
   ],
   "source": [
    "d = all_surv_time.sample(5, axis=1).loc[1:]\n",
    "obs = d.columns\n",
    "for o in obs:\n",
    "    plt.plot(d.index, d[o])"
   ]
  },
  {
   "cell_type": "code",
   "execution_count": 26,
   "metadata": {},
   "outputs": [
    {
     "data": {
      "image/png": "[encoded data removed]",
      "text/plain": [
       "<Figure size 432x288 with 1 Axes>"
      ]
     },
     "metadata": {
      "needs_background": "light"
     },
     "output_type": "display_data"
    }
   ],
   "source": [
    "all_surv_time[100].hist();"
   ]
  },
  {
   "cell_type": "code",
   "execution_count": 28,
   "metadata": {},
   "outputs": [
    {
     "data": {
      "image/png": "[encoded data removed]",
      "text/plain": [
       "<Figure size 432x288 with 1 Axes>"
      ]
     },
     "metadata": {
      "needs_background": "light"
     },
     "output_type": "display_data"
    }
   ],
   "source": [
    "all_surv_time[200].hist();"
   ]
  },
  {
   "cell_type": "code",
   "execution_count": 30,
   "metadata": {},
   "outputs": [
    {
     "data": {
      "image/png": "[encoded data removed]",
      "text/plain": [
       "<Figure size 432x288 with 1 Axes>"
      ]
     },
     "metadata": {
      "needs_background": "light"
     },
     "output_type": "display_data"
    }
   ],
   "source": [
    "all_surv_time[300].hist();"
   ]
  },
  {
   "cell_type": "code",
   "execution_count": 14,
   "metadata": {},
   "outputs": [],
   "source": [
    "ev1 = EvalSurv(surv=all_surv_time, durations=t_val, events=y_val, censor_surv='km')"
   ]
  },
  {
   "cell_type": "code",
   "execution_count": 15,
   "metadata": {},
   "outputs": [
    {
     "data": {
      "text/plain": [
       "0.60888550729432"
      ]
     },
     "execution_count": 15,
     "metadata": {},
     "output_type": "execute_result"
    }
   ],
   "source": [
    "ev1.concordance_td('antolini')"
   ]
  },
  {
   "cell_type": "code",
   "execution_count": 18,
   "metadata": {},
   "outputs": [
    {
     "data": {
      "text/plain": [
       "0.619901419167025"
      ]
     },
     "execution_count": 18,
     "metadata": {},
     "output_type": "execute_result"
    }
   ],
   "source": [
    "lifelines.utils.concordance_index(predicted_scores=all_surv_time.iloc[10, ].values, event_times=t_val, event_observed=y_val)"
   ]
  },
  {
   "cell_type": "code",
   "execution_count": null,
   "metadata": {},
   "outputs": [],
   "source": []
  },
  {
   "cell_type": "markdown",
   "metadata": {},
   "source": [
    "Удвоим вес ранжирующей компоненты"
   ]
  },
  {
   "cell_type": "code",
   "execution_count": 7,
   "metadata": {},
   "outputs": [
    {
     "name": "stdout",
     "output_type": "stream",
     "text": [
      "WARNING:tensorflow:From /home/islam/anaconda3/envs/pycox/lib/python3.6/site-packages/tensorflow/python/keras/initializers.py:119: calling RandomUniform.__init__ (from tensorflow.python.ops.init_ops) with dtype is deprecated and will be removed in a future version.\n",
      "Instructions for updating:\n",
      "Call initializer instance with the dtype argument instead of passing it to the constructor\n",
      "WARNING:tensorflow:From <ipython-input-7-49a844e8b142>:32: dense (from tensorflow.python.layers.core) is deprecated and will be removed in a future version.\n",
      "Instructions for updating:\n",
      "Use keras.layers.dense instead.\n",
      "WARNING:tensorflow:Entity <bound method Dense.call of <tensorflow.python.layers.core.Dense object at 0x7f65c4ed29b0>> could not be transformed and will be executed as-is. Please report this to the AutgoGraph team. When filing the bug, set the verbosity to 10 (on Linux, `export AUTOGRAPH_VERBOSITY=10`) and attach the full output. Cause: converting <bound method Dense.call of <tensorflow.python.layers.core.Dense object at 0x7f65c4ed29b0>>: AssertionError: Bad argument number for Name: 3, expecting 4\n",
      "WARNING: Entity <bound method Dense.call of <tensorflow.python.layers.core.Dense object at 0x7f65c4ed29b0>> could not be transformed and will be executed as-is. Please report this to the AutgoGraph team. When filing the bug, set the verbosity to 10 (on Linux, `export AUTOGRAPH_VERBOSITY=10`) and attach the full output. Cause: converting <bound method Dense.call of <tensorflow.python.layers.core.Dense object at 0x7f65c4ed29b0>>: AssertionError: Bad argument number for Name: 3, expecting 4\n",
      "WARNING:tensorflow:Entity <bound method Dense.call of <tensorflow.python.layers.core.Dense object at 0x7f65c4ed29b0>> could not be transformed and will be executed as-is. Please report this to the AutgoGraph team. When filing the bug, set the verbosity to 10 (on Linux, `export AUTOGRAPH_VERBOSITY=10`) and attach the full output. Cause: converting <bound method Dense.call of <tensorflow.python.layers.core.Dense object at 0x7f65c4ed29b0>>: AssertionError: Bad argument number for Name: 3, expecting 4\n",
      "WARNING: Entity <bound method Dense.call of <tensorflow.python.layers.core.Dense object at 0x7f65c4ed29b0>> could not be transformed and will be executed as-is. Please report this to the AutgoGraph team. When filing the bug, set the verbosity to 10 (on Linux, `export AUTOGRAPH_VERBOSITY=10`) and attach the full output. Cause: converting <bound method Dense.call of <tensorflow.python.layers.core.Dense object at 0x7f65c4ed29b0>>: AssertionError: Bad argument number for Name: 3, expecting 4\n",
      "WARNING:tensorflow:Entity <bound method Dense.call of <tensorflow.python.layers.core.Dense object at 0x7f661e633e48>> could not be transformed and will be executed as-is. Please report this to the AutgoGraph team. When filing the bug, set the verbosity to 10 (on Linux, `export AUTOGRAPH_VERBOSITY=10`) and attach the full output. Cause: converting <bound method Dense.call of <tensorflow.python.layers.core.Dense object at 0x7f661e633e48>>: AssertionError: Bad argument number for Name: 3, expecting 4\n",
      "WARNING: Entity <bound method Dense.call of <tensorflow.python.layers.core.Dense object at 0x7f661e633e48>> could not be transformed and will be executed as-is. Please report this to the AutgoGraph team. When filing the bug, set the verbosity to 10 (on Linux, `export AUTOGRAPH_VERBOSITY=10`) and attach the full output. Cause: converting <bound method Dense.call of <tensorflow.python.layers.core.Dense object at 0x7f661e633e48>>: AssertionError: Bad argument number for Name: 3, expecting 4\n",
      "WARNING:tensorflow:Entity <bound method Dense.call of <tensorflow.python.layers.core.Dense object at 0x7f66846320f0>> could not be transformed and will be executed as-is. Please report this to the AutgoGraph team. When filing the bug, set the verbosity to 10 (on Linux, `export AUTOGRAPH_VERBOSITY=10`) and attach the full output. Cause: converting <bound method Dense.call of <tensorflow.python.layers.core.Dense object at 0x7f66846320f0>>: AssertionError: Bad argument number for Name: 3, expecting 4\n",
      "WARNING: Entity <bound method Dense.call of <tensorflow.python.layers.core.Dense object at 0x7f66846320f0>> could not be transformed and will be executed as-is. Please report this to the AutgoGraph team. When filing the bug, set the verbosity to 10 (on Linux, `export AUTOGRAPH_VERBOSITY=10`) and attach the full output. Cause: converting <bound method Dense.call of <tensorflow.python.layers.core.Dense object at 0x7f66846320f0>>: AssertionError: Bad argument number for Name: 3, expecting 4\n",
      "WARNING:tensorflow:From /home/islam/anaconda3/envs/pycox/lib/python3.6/site-packages/tensorflow/python/ops/math_grad.py:1205: add_dispatch_support.<locals>.wrapper (from tensorflow.python.ops.array_ops) is deprecated and will be removed in a future version.\n",
      "Instructions for updating:\n",
      "Use tf.where in 2.0, which has the same broadcast rule as np.where\n",
      "WARNING:tensorflow:From /home/islam/anaconda3/envs/pycox/lib/python3.6/site-packages/tensorflow/python/util/tf_should_use.py:193: initialize_all_variables (from tensorflow.python.ops.variables) is deprecated and will be removed after 2017-03-02.\n",
      "Instructions for updating:\n",
      "Use `tf.global_variables_initializer` instead.\n"
     ]
    },
    {
     "data": {
      "application/vnd.jupyter.widget-view+json": {
       "model_id": "0da639134d8048cab7a205e436270354",
       "version_major": 2,
       "version_minor": 0
      },
      "text/plain": [
       "HBox(children=(FloatProgress(value=0.0, max=50.0), HTML(value='')))"
      ]
     },
     "metadata": {},
     "output_type": "display_data"
    },
    {
     "name": "stdout",
     "output_type": "stream",
     "text": [
      "[10.009656    0.69314605]\n",
      "[16.722876    0.69314605]\n",
      "[17.175955    0.69314605]\n",
      "[17.259703    0.69314605]\n",
      "[17.302645    0.69314605]\n",
      "[17.340607    0.69314605]\n",
      "[17.364315    0.69314605]\n",
      "[17.378035    0.69314605]\n",
      "[17.38773     0.69314605]\n",
      "[17.40781     0.69314605]\n",
      "[17.414448    0.69314605]\n",
      "[17.41166     0.69314605]\n",
      "[17.423603    0.69314605]\n",
      "[17.427446    0.69314605]\n",
      "[17.426426    0.69314605]\n",
      "[17.444418    0.69314605]\n",
      "[17.445543    0.69314605]\n",
      "[17.443693    0.69314605]\n",
      "[17.437506    0.69314605]\n",
      "[17.45209     0.69314605]\n",
      "[17.444696    0.69314605]\n",
      "[17.456997    0.69314605]\n",
      "[17.454647    0.69314605]\n",
      "[17.444904    0.69314605]\n",
      "[17.452364    0.69314605]\n",
      "[17.465845    0.69314605]\n",
      "[17.463799    0.69314605]\n",
      "[17.467476    0.69314605]\n",
      "[17.457924    0.69314605]\n",
      "[17.46745     0.69314605]\n",
      "[17.466772    0.69314605]\n",
      "[17.468283    0.69314605]\n",
      "[17.478428    0.69314605]\n",
      "[17.472769    0.69314605]\n",
      "[17.473568    0.69314605]\n",
      "[17.461126    0.69314605]\n",
      "[17.474068    0.69314605]\n",
      "[17.473938    0.69314605]\n",
      "[17.470863    0.69314605]\n",
      "[17.47493     0.69314605]\n",
      "[17.481232    0.69314605]\n",
      "[17.471432    0.69314605]\n",
      "[17.472       0.69314605]\n",
      "[17.476543    0.69314605]\n",
      "[17.48248     0.69314605]\n",
      "[17.476963    0.69314605]\n",
      "[17.4759      0.69314605]\n",
      "[17.477062    0.69314605]\n",
      "[17.483896    0.69314605]\n",
      "[17.475714    0.69314605]\n",
      "\n"
     ]
    }
   ],
   "source": [
    "class Model(object):\n",
    "    \n",
    "    def __init__(self):\n",
    "        \n",
    "        # features\n",
    "        self.x_a = tf.placeholder(tf.float32, (None, 9))\n",
    "        self.x_b = tf.placeholder(tf.float32, (None, 9))\n",
    "        \n",
    "        # time to event\n",
    "        self.t_a = tf.placeholder(tf.float32, [None, 1], name='t_a')\n",
    "        self.t_b = tf.placeholder(tf.float32, [None, 1], name='t_b')\n",
    "        \n",
    "        # event label\n",
    "        self.y_a = tf.placeholder(tf.float32, [None, 1], name='y_a')\n",
    "        self.y_b = tf.placeholder(tf.float32, [None, 1], name='y_b')\n",
    "        \n",
    "        self.target = tf.placeholder(tf.float32, [None, 1], name='target')\n",
    "        self.sample_weight = tf.placeholder(tf.float32, [None, 1], name='sample_weight')\n",
    "             \n",
    "        with tf.variable_scope(\"siamese\", reuse=tf.AUTO_REUSE) as scope:\n",
    "            self.o1 = self.siamese_net(self.x_a)\n",
    "            scope.reuse_variables()\n",
    "            self.o2 = self.siamese_net(self.x_b)\n",
    "\n",
    "        self.loss = self.calc_loss()\n",
    "    \n",
    "    def siamese_net(self, x):\n",
    "        \n",
    "        # main network\n",
    "        init_kernel = tf.keras.initializers.RandomUniform(minval=-0.05, maxval=0.05)\n",
    "        output = tf.layers.dense(inputs=x, units=4, name='dense',kernel_initializer=init_kernel,\n",
    "                                bias_initializer=init_kernel)\n",
    "        \n",
    "        # weibull parameters layer\n",
    "        init_kernel = tf.keras.initializers.RandomUniform(minval=-0.05, maxval=0.05)\n",
    "        y_pred = tf.layers.dense(inputs=output, units=2, bias_initializer=init_kernel,\n",
    "                                 kernel_initializer=init_kernel, name='weibull_parameters')\n",
    "        alpha = y_pred[:, 0]\n",
    "        beta = y_pred[:, 1]\n",
    "        alpha = tf.clip_by_value(alpha, 0, 12, name='alpha_clipping')\n",
    "        alpha = tf.exp(alpha, name='alpha_act')\n",
    "        beta = tf.clip_by_value(beta, 0, 2, name='beta_clipping')\n",
    "        beta = tf.nn.softplus(beta, name='beta_act')\n",
    "        beta = tf.reshape(beta, (tf.shape(beta)[0], 1), name='beta_reshaped')\n",
    "        alpha = tf.reshape(alpha, (tf.shape(alpha)[0], 1), name='alpha_reshaped')\n",
    "        output = tf.concat((alpha, beta), axis=1, name='wp_concat')\n",
    "        return output\n",
    "\n",
    "    \n",
    "    def calc_loss(self):\n",
    "        \n",
    "        mean_ll, mean_lh_a, mean_lh_b, mean_sq_alpha = self.binary_survival_loss(self.t_a, self.t_b, self.y_a, self.y_b, self.o1, self.o2, self.target, self.sample_weight)\n",
    "        return mean_lh_b + mean_lh_a + 1e-1 * mean_sq_alpha + 4 * mean_ll\n",
    "\n",
    "#         return -1 * tf.reduce_mean(lh_a + lh_b, name='mean_loss') + mean_sq_alpha\n",
    "    \n",
    "    def calc_survival_value(self, alphas, betas, t): \n",
    "        s = tf.exp(-1 * tf.pow(tf.divide(t, alphas + 1e-6), betas))\n",
    "        return s                                             \n",
    "\n",
    "    def calc_likelyhood(self, alphas, betas, t, y):\n",
    "        ev = tf.multiply(y, tf.add(tf.multiply(betas, tf.log(tf.divide(t, alphas + 1e-6))), tf.log(betas)))\n",
    "        lh = tf.subtract(ev, tf.pow(tf.divide(t, alphas + 1e-6), betas))              \n",
    "        return lh\n",
    "    \n",
    "    def binary_survival_loss(self, t_a, t_b, y_a, y_b, output_a, output_b, target, sample_weight):\n",
    "        \n",
    "        sh = tf.shape(t_a)\n",
    "        alphas = tf.reshape(output_a[:, 0], sh, name='alpha_reshaped_loss')\n",
    "        betas = tf.reshape(output_a[:, 1], sh, name='beta_reshaped_loss')\n",
    "        s_a = self.calc_survival_value(t=t_a, alphas=alphas, betas=betas)\n",
    "        lh_a = self.calc_likelyhood(t=t_a, y=y_a, alphas=alphas, betas=betas)\n",
    "        mean_lh_a =  -1 * tf.reduce_mean(lh_a)\n",
    "        all_alphas = alphas\n",
    "        \n",
    "        alphas = tf.reshape(output_b[:, 0], sh)\n",
    "        betas = tf.reshape(output_b[:, 1], sh)        \n",
    "        s_b = self.calc_survival_value(t=t_b, alphas=alphas, betas=betas)\n",
    "        lh_b = self.calc_likelyhood(t=t_b, y=y_b, alphas=alphas, betas=betas)\n",
    "        mean_lh_b =  -1 * tf.reduce_mean(lh_b)\n",
    "        all_alphas = tf.add(all_alphas, alphas)\n",
    "\n",
    "        # weighted binary cross entropy\n",
    "        sigm = tf.nn.sigmoid(s_a - s_b)\n",
    "        sigm = tf.clip_by_value(sigm, 1e-6, 1 - 1e-6)\n",
    "        label_pos = tf.multiply(target, tf.log(sigm + 1e-6))\n",
    "        label_neg = tf.multiply(1 - target, tf.multiply(tf.log(1 + 1e-6 - sigm), sample_weight))\n",
    "        label_neg = tf.multiply(1 - target, tf.log(1 + 1e-6 - sigm))\n",
    "        ll = tf.add(label_pos, label_neg)\n",
    "        mean_ll = -1 * tf.reduce_mean(ll)\n",
    "        \n",
    "        # alpha reg\n",
    "        mean_sq_alpha = tf.reduce_mean(all_alphas)\n",
    "        \n",
    "        return mean_ll, mean_lh_a, mean_lh_b, mean_sq_alpha\n",
    "\n",
    "\n",
    "model = Model()\n",
    "# optimizer = tf.train.AdamOptimizer(learning_rate=0.001, beta1=0.9, beta2=0.99)\n",
    "optimizer = tf.train.GradientDescentOptimizer(learning_rate=0.001)\n",
    "train = optimizer.minimize(model.loss)\n",
    "saver = tf.train.Saver()\n",
    "\n",
    "\n",
    "n_time_bins = 10\n",
    "\n",
    "# validation data\n",
    "dg = DataGenerator(x=x_val, y=y_val, t=t_val, batch_size=30228, n_time_bins=n_time_bins)\n",
    "[x_batch_left_val, x_batch_right_val], y_batch_val, sample_weight_val, target_val = next(dg.get_batch())\n",
    "\n",
    "batch_size = 4112\n",
    "dg = DataGenerator(x=x_train, y=y_train, t=t_train, batch_size=batch_size, n_time_bins=n_time_bins)\n",
    "n_batches = min(dg.ij_pos_sorted.shape[1], dg.ij_neg_sorted.shape[1]) // batch_size\n",
    "n_epochs = 50\n",
    "\n",
    "loss_summary = tf.summary.scalar(name='train_loss', tensor=model.loss) \n",
    "val_loss_summary = tf.summary.scalar(name='val_loss', tensor=model.loss)\n",
    "hist_losses = []\n",
    "all_pred = []\n",
    "# Launch the graph\n",
    "with tf.device('/GPU:0'):\n",
    "    with tf.Session() as sess:\n",
    "        init = tf.initialize_all_variables()\n",
    "        sess.run(init)\n",
    "        writer = tf.summary.FileWriter('../logs/graphs', sess.graph)\n",
    "        for i in tqdm(range(n_epochs)):\n",
    "            gen = dg.get_batch()\n",
    "            for j in range(n_batches):\n",
    "                [x_batch_left, x_batch_right], y_batch, sample_weight, target = next(gen)\n",
    "                feed_dict = {\n",
    "                    model.x_a: x_batch_left, \n",
    "                    model.x_b: x_batch_right, \n",
    "                    model.t_a: y_batch[:, 0].reshape((batch_size, 1)),\n",
    "                    model.t_b: y_batch[:, 1].reshape((batch_size, 1)),\n",
    "                    model.y_a: y_batch[:, 2].reshape((batch_size, 1)),\n",
    "                    model.y_b: y_batch[:, 3].reshape((batch_size, 1)),\n",
    "                    model.target: target.reshape((batch_size, 1)),\n",
    "                    model.sample_weight: sample_weight\n",
    "                }\n",
    "                _, l = sess.run([train, model.loss], feed_dict=feed_dict)\n",
    "                \n",
    "            loss_train = sess.run(loss_summary, feed_dict=feed_dict)\n",
    "            loss_val = sess.run(val_loss_summary, feed_dict={\n",
    "                    model.x_a: x_batch_left_val, \n",
    "                    model.x_b: x_batch_right_val, \n",
    "                    model.t_a: y_batch_val[:, 0].reshape((30228, 1)),\n",
    "                    model.t_b: y_batch_val[:, 1].reshape((30228, 1)),\n",
    "                    model.y_a: y_batch_val[:, 2].reshape((30228, 1)),\n",
    "                    model.y_b: y_batch_val[:, 3].reshape((30228, 1)),\n",
    "                    model.target: target_val.reshape((30228, 1)),\n",
    "                    model.sample_weight: sample_weight_val\n",
    "                })\n",
    "            writer.add_summary(loss_train, i)\n",
    "            writer.add_summary(loss_val, i)\n",
    "            pred = sess.run(model.o1, feed_dict={model.x_a: x_val})\n",
    "            print(np.mean(pred, axis=0))\n",
    "            all_pred.append(pred)\n",
    "            hist_losses.append(l)\n",
    "            \n",
    "            saver.save(sess, '../data/my_test_model_new')\n"
   ]
  },
  {
   "cell_type": "code",
   "execution_count": 8,
   "metadata": {},
   "outputs": [
    {
     "data": {
      "image/png": "[encoded data removed]",
      "text/plain": [
       "<Figure size 432x288 with 1 Axes>"
      ]
     },
     "metadata": {
      "needs_background": "light"
     },
     "output_type": "display_data"
    }
   ],
   "source": [
    "plt.plot(hist_losses[1:]);"
   ]
  },
  {
   "cell_type": "code",
   "execution_count": 9,
   "metadata": {},
   "outputs": [
    {
     "data": {
      "image/png": "[encoded data removed]",
      "text/plain": [
       "<Figure size 432x288 with 1 Axes>"
      ]
     },
     "metadata": {
      "needs_background": "light"
     },
     "output_type": "display_data"
    }
   ],
   "source": [
    "plt.hist(all_pred[-1][:, 1]);"
   ]
  },
  {
   "cell_type": "code",
   "execution_count": 10,
   "metadata": {},
   "outputs": [
    {
     "data": {
      "image/png": "[encoded data removed]",
      "text/plain": [
       "<Figure size 432x288 with 1 Axes>"
      ]
     },
     "metadata": {
      "needs_background": "light"
     },
     "output_type": "display_data"
    }
   ],
   "source": [
    "plt.hist(all_pred[-1][:, 0]);"
   ]
  },
  {
   "cell_type": "code",
   "execution_count": 11,
   "metadata": {},
   "outputs": [],
   "source": [
    "dif_times = np.linspace(0, 300, 30, dtype=np.int)\n",
    "\n",
    "all_surv_time = pd.DataFrame()\n",
    "for t in dif_times:\n",
    "    surv_prob = np.exp(-1 * np.power(t / (all_pred[-1][:, 0] + 1e-6), all_pred[-1][:, 1]))\n",
    "    all_surv_time = pd.concat([all_surv_time, pd.DataFrame(surv_prob).T])\n",
    "\n",
    "all_surv_time.index = dif_times"
   ]
  },
  {
   "cell_type": "code",
   "execution_count": 13,
   "metadata": {},
   "outputs": [
    {
     "data": {
      "image/png": "[encoded data removed]",
      "text/plain": [
       "<Figure size 432x288 with 1 Axes>"
      ]
     },
     "metadata": {
      "needs_background": "light"
     },
     "output_type": "display_data"
    }
   ],
   "source": [
    "d = all_surv_time.sample(5, axis=1).loc[1:]\n",
    "obs = d.columns\n",
    "for o in obs:\n",
    "    plt.plot(d.index, d[o])"
   ]
  },
  {
   "cell_type": "code",
   "execution_count": 14,
   "metadata": {},
   "outputs": [
    {
     "data": {
      "image/png": "[encoded data removed]",
      "text/plain": [
       "<Figure size 432x288 with 1 Axes>"
      ]
     },
     "metadata": {
      "needs_background": "light"
     },
     "output_type": "display_data"
    }
   ],
   "source": [
    "all_surv_time[100].hist();"
   ]
  },
  {
   "cell_type": "code",
   "execution_count": 15,
   "metadata": {},
   "outputs": [],
   "source": [
    "ev1 = EvalSurv(surv=all_surv_time, durations=t_val, events=y_val, censor_surv='km')"
   ]
  },
  {
   "cell_type": "code",
   "execution_count": 16,
   "metadata": {},
   "outputs": [
    {
     "data": {
      "text/plain": [
       "0.6036918191140958"
      ]
     },
     "execution_count": 16,
     "metadata": {},
     "output_type": "execute_result"
    }
   ],
   "source": [
    "ev1.concordance_td('antolini')"
   ]
  },
  {
   "cell_type": "code",
   "execution_count": 17,
   "metadata": {},
   "outputs": [
    {
     "data": {
      "text/plain": [
       "0.6160971252770518"
      ]
     },
     "execution_count": 17,
     "metadata": {},
     "output_type": "execute_result"
    }
   ],
   "source": [
    "lifelines.utils.concordance_index(predicted_scores=all_surv_time.iloc[10, ].values, event_times=t_val, event_observed=y_val)"
   ]
  },
  {
   "cell_type": "code",
   "execution_count": null,
   "metadata": {},
   "outputs": [],
   "source": []
  },
  {
   "cell_type": "markdown",
   "metadata": {},
   "source": [
    "Compare with baseline model - same general population alpha-beta"
   ]
  },
  {
   "cell_type": "code",
   "execution_count": 54,
   "metadata": {},
   "outputs": [
    {
     "name": "stdout",
     "output_type": "stream",
     "text": [
      "init_alpha:  205.33489420694383 mean uncensored:  0.6042692939244664\n"
     ]
    }
   ],
   "source": [
    "# Paramaeters for output activation layer initialization.\n",
    "# Start at naive geometric (beta=1) MLE:\n",
    "tte_mean_train = np.nanmean(t_train)\n",
    "init_alpha = -1.0 / np.log(1.0 - 1.0 / (tte_mean_train + 1.0) )\n",
    "mean_u = np.nanmean(y_train)\n",
    "init_alpha = init_alpha / mean_u\n",
    "print('init_alpha: ', init_alpha, 'mean uncensored: ', mean_u)"
   ]
  },
  {
   "cell_type": "code",
   "execution_count": 67,
   "metadata": {},
   "outputs": [],
   "source": [
    "baseline_surv_time = pd.DataFrame()\n",
    "\n",
    "for t in dif_times:\n",
    "    bas_s = K.eval(calc_survival_value(y_true=np.array([t]), y_pred=np.array([[init_alpha, 1]])))\n",
    "    baseline_surv_time = pd.concat([baseline_surv_time, pd.DataFrame(np.repeat(bas_s[0], t_test.shape[0])).T])\n",
    "\n",
    "baseline_surv_time.index = dif_times"
   ]
  },
  {
   "cell_type": "code",
   "execution_count": 69,
   "metadata": {},
   "outputs": [],
   "source": [
    "ev = EvalSurv(surv=baseline_surv_time, durations=t_test, events=y_test, censor_surv='km')"
   ]
  },
  {
   "cell_type": "code",
   "execution_count": 70,
   "metadata": {},
   "outputs": [
    {
     "data": {
      "text/plain": [
       "0.0"
      ]
     },
     "execution_count": 70,
     "metadata": {},
     "output_type": "execute_result"
    }
   ],
   "source": [
    "ev.concordance_td('antolini')"
   ]
  },
  {
   "cell_type": "code",
   "execution_count": 83,
   "metadata": {},
   "outputs": [
    {
     "data": {
      "image/png": "[encoded data removed]",
      "text/plain": [
       "<Figure size 432x288 with 1 Axes>"
      ]
     },
     "metadata": {
      "needs_background": "light"
     },
     "output_type": "display_data"
    }
   ],
   "source": [
    "ev.nbll(dif_times).plot()\n",
    "plt.ylabel('NBLL')\n",
    "_ = plt.xlabel('Time')"
   ]
  },
  {
   "cell_type": "code",
   "execution_count": 84,
   "metadata": {},
   "outputs": [
    {
     "data": {
      "image/png": "[encoded data removed]",
      "text/plain": [
       "<Figure size 432x288 with 1 Axes>"
      ]
     },
     "metadata": {
      "needs_background": "light"
     },
     "output_type": "display_data"
    }
   ],
   "source": [
    "ev1.nbll(dif_times).plot()\n",
    "plt.ylabel('NBLL')\n",
    "_ = plt.xlabel('Time')"
   ]
  },
  {
   "cell_type": "code",
   "execution_count": 85,
   "metadata": {},
   "outputs": [
    {
     "data": {
      "image/png": "[encoded data removed]",
      "text/plain": [
       "<Figure size 432x288 with 1 Axes>"
      ]
     },
     "metadata": {
      "needs_background": "light"
     },
     "output_type": "display_data"
    }
   ],
   "source": [
    "ev.brier_score(dif_times).plot()\n",
    "plt.ylabel('Brier score')\n",
    "_ = plt.xlabel('Time')"
   ]
  },
  {
   "cell_type": "code",
   "execution_count": 86,
   "metadata": {},
   "outputs": [
    {
     "data": {
      "image/png": "[encoded data removed]",
      "text/plain": [
       "<Figure size 432x288 with 1 Axes>"
      ]
     },
     "metadata": {
      "needs_background": "light"
     },
     "output_type": "display_data"
    }
   ],
   "source": [
    "ev1.brier_score(dif_times).plot()\n",
    "plt.ylabel('Brier score')\n",
    "_ = plt.xlabel('Time')"
   ]
  },
  {
   "cell_type": "code",
   "execution_count": null,
   "metadata": {},
   "outputs": [],
   "source": []
  }
 ],
 "metadata": {
  "kernelspec": {
   "display_name": "Python 3",
   "language": "python",
   "name": "python3"
  },
  "language_info": {
   "codemirror_mode": {
    "name": "ipython",
    "version": 3
   },
   "file_extension": ".py",
   "mimetype": "text/x-python",
   "name": "python",
   "nbconvert_exporter": "python",
   "pygments_lexer": "ipython3",
   "version": "3.6.9"
  }
 },
 "nbformat": 4,
 "nbformat_minor": 4
}
