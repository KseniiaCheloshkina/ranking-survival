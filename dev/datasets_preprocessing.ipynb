{
 "cells": [
  {
   "cell_type": "code",
   "execution_count": 35,
   "metadata": {},
   "outputs": [],
   "source": [
    "import pickle\n",
    "\n",
    "import pandas as pd\n",
    "import numpy as np\n",
    "import matplotlib.pyplot as plt\n",
    "from pycox.datasets import metabric\n",
    "from sklearn.model_selection import ParameterGrid\n",
    "from sklearn.model_selection import StratifiedShuffleSplit, StratifiedKFold"
   ]
  },
  {
   "cell_type": "code",
   "execution_count": 36,
   "metadata": {},
   "outputs": [],
   "source": [
    "s = 1"
   ]
  },
  {
   "cell_type": "markdown",
   "metadata": {},
   "source": [
    "# EDA"
   ]
  },
  {
   "cell_type": "markdown",
   "metadata": {},
   "source": [
    "#### 1. METABRIC"
   ]
  },
  {
   "cell_type": "markdown",
   "metadata": {},
   "source": [
    "<b> Pycox (Time-to-Event Prediction with Neural Networks and Cox Regression): </b>\n",
    "    \n",
    "data -> cv + val\n",
    "cv - 5 folds stratified by y and time bin\n",
    "\n",
    "hp search:\n",
    "    for every cv fold:\n",
    "        fit on all cv folds except this fold\n",
    "        save quality on val\n",
    "select the best parameters by val quality\n",
    "\n",
    "train and evaluate model with best parameters in 5fold CV (train on 4, test on one) - out average\n",
    "\n",
    "\n",
    "As the four data sets are somewhat small, we scored our fitted models using 5-fold cross-\n",
    "validation, where the hyperparameter search was performed individually for each fold. For\n",
    "all the neural networks, we performed a random hyperparameter search over 300 parameter\n",
    "configurations and chose the model with the best score on a held-out validation set.\n",
    "we sample 300 random parameter configurations for each method,\n",
    "for each fold of each data set\n",
    "Table 2 shows the time-dependent concordance, or C td , averaged over the five cross-\n",
    "validation folds."
   ]
  },
  {
   "cell_type": "code",
   "execution_count": 37,
   "metadata": {},
   "outputs": [],
   "source": [
    "df_all = metabric.read_df()"
   ]
  },
  {
   "cell_type": "code",
   "execution_count": 38,
   "metadata": {},
   "outputs": [
    {
     "data": {
      "text/html": [
       "<div>\n",
       "<style scoped>\n",
       "    .dataframe tbody tr th:only-of-type {\n",
       "        vertical-align: middle;\n",
       "    }\n",
       "\n",
       "    .dataframe tbody tr th {\n",
       "        vertical-align: top;\n",
       "    }\n",
       "\n",
       "    .dataframe thead th {\n",
       "        text-align: right;\n",
       "    }\n",
       "</style>\n",
       "<table border=\"1\" class=\"dataframe\">\n",
       "  <thead>\n",
       "    <tr style=\"text-align: right;\">\n",
       "      <th></th>\n",
       "      <th>x0</th>\n",
       "      <th>x1</th>\n",
       "      <th>x2</th>\n",
       "      <th>x3</th>\n",
       "      <th>x4</th>\n",
       "      <th>x5</th>\n",
       "      <th>x6</th>\n",
       "      <th>x7</th>\n",
       "      <th>x8</th>\n",
       "      <th>duration</th>\n",
       "      <th>event</th>\n",
       "    </tr>\n",
       "  </thead>\n",
       "  <tbody>\n",
       "    <tr>\n",
       "      <td>count</td>\n",
       "      <td>1904.000000</td>\n",
       "      <td>1904.000000</td>\n",
       "      <td>1904.000000</td>\n",
       "      <td>1904.000000</td>\n",
       "      <td>1904.000000</td>\n",
       "      <td>1904.000000</td>\n",
       "      <td>1904.000000</td>\n",
       "      <td>1904.000000</td>\n",
       "      <td>1904.000000</td>\n",
       "      <td>1904.000000</td>\n",
       "      <td>1904.000000</td>\n",
       "    </tr>\n",
       "    <tr>\n",
       "      <td>mean</td>\n",
       "      <td>6.210830</td>\n",
       "      <td>6.237199</td>\n",
       "      <td>10.765366</td>\n",
       "      <td>5.872822</td>\n",
       "      <td>0.616597</td>\n",
       "      <td>0.597164</td>\n",
       "      <td>0.207983</td>\n",
       "      <td>0.758929</td>\n",
       "      <td>61.087112</td>\n",
       "      <td>125.025055</td>\n",
       "      <td>0.579307</td>\n",
       "    </tr>\n",
       "    <tr>\n",
       "      <td>std</td>\n",
       "      <td>0.862968</td>\n",
       "      <td>1.020872</td>\n",
       "      <td>1.357359</td>\n",
       "      <td>0.341254</td>\n",
       "      <td>0.486344</td>\n",
       "      <td>0.490591</td>\n",
       "      <td>0.405970</td>\n",
       "      <td>0.427844</td>\n",
       "      <td>12.978707</td>\n",
       "      <td>76.334206</td>\n",
       "      <td>0.493800</td>\n",
       "    </tr>\n",
       "    <tr>\n",
       "      <td>min</td>\n",
       "      <td>5.158794</td>\n",
       "      <td>4.860645</td>\n",
       "      <td>6.372949</td>\n",
       "      <td>5.101093</td>\n",
       "      <td>0.000000</td>\n",
       "      <td>0.000000</td>\n",
       "      <td>0.000000</td>\n",
       "      <td>0.000000</td>\n",
       "      <td>21.930000</td>\n",
       "      <td>0.000000</td>\n",
       "      <td>0.000000</td>\n",
       "    </tr>\n",
       "    <tr>\n",
       "      <td>25%</td>\n",
       "      <td>5.692096</td>\n",
       "      <td>5.408728</td>\n",
       "      <td>9.969681</td>\n",
       "      <td>5.622290</td>\n",
       "      <td>0.000000</td>\n",
       "      <td>0.000000</td>\n",
       "      <td>0.000000</td>\n",
       "      <td>1.000000</td>\n",
       "      <td>51.375001</td>\n",
       "      <td>60.824999</td>\n",
       "      <td>0.000000</td>\n",
       "    </tr>\n",
       "    <tr>\n",
       "      <td>50%</td>\n",
       "      <td>5.949283</td>\n",
       "      <td>5.877591</td>\n",
       "      <td>10.530301</td>\n",
       "      <td>5.816998</td>\n",
       "      <td>1.000000</td>\n",
       "      <td>1.000000</td>\n",
       "      <td>0.000000</td>\n",
       "      <td>1.000000</td>\n",
       "      <td>61.769999</td>\n",
       "      <td>114.900002</td>\n",
       "      <td>1.000000</td>\n",
       "    </tr>\n",
       "    <tr>\n",
       "      <td>75%</td>\n",
       "      <td>6.458780</td>\n",
       "      <td>6.899220</td>\n",
       "      <td>11.159306</td>\n",
       "      <td>6.058293</td>\n",
       "      <td>1.000000</td>\n",
       "      <td>1.000000</td>\n",
       "      <td>0.000000</td>\n",
       "      <td>1.000000</td>\n",
       "      <td>70.592497</td>\n",
       "      <td>184.474995</td>\n",
       "      <td>1.000000</td>\n",
       "    </tr>\n",
       "    <tr>\n",
       "      <td>max</td>\n",
       "      <td>14.443632</td>\n",
       "      <td>9.932116</td>\n",
       "      <td>14.643900</td>\n",
       "      <td>7.658863</td>\n",
       "      <td>1.000000</td>\n",
       "      <td>1.000000</td>\n",
       "      <td>1.000000</td>\n",
       "      <td>1.000000</td>\n",
       "      <td>96.290001</td>\n",
       "      <td>355.200012</td>\n",
       "      <td>1.000000</td>\n",
       "    </tr>\n",
       "  </tbody>\n",
       "</table>\n",
       "</div>"
      ],
      "text/plain": [
       "                x0           x1           x2           x3           x4  \\\n",
       "count  1904.000000  1904.000000  1904.000000  1904.000000  1904.000000   \n",
       "mean      6.210830     6.237199    10.765366     5.872822     0.616597   \n",
       "std       0.862968     1.020872     1.357359     0.341254     0.486344   \n",
       "min       5.158794     4.860645     6.372949     5.101093     0.000000   \n",
       "25%       5.692096     5.408728     9.969681     5.622290     0.000000   \n",
       "50%       5.949283     5.877591    10.530301     5.816998     1.000000   \n",
       "75%       6.458780     6.899220    11.159306     6.058293     1.000000   \n",
       "max      14.443632     9.932116    14.643900     7.658863     1.000000   \n",
       "\n",
       "                x5           x6           x7           x8     duration  \\\n",
       "count  1904.000000  1904.000000  1904.000000  1904.000000  1904.000000   \n",
       "mean      0.597164     0.207983     0.758929    61.087112   125.025055   \n",
       "std       0.490591     0.405970     0.427844    12.978707    76.334206   \n",
       "min       0.000000     0.000000     0.000000    21.930000     0.000000   \n",
       "25%       0.000000     0.000000     1.000000    51.375001    60.824999   \n",
       "50%       1.000000     0.000000     1.000000    61.769999   114.900002   \n",
       "75%       1.000000     0.000000     1.000000    70.592497   184.474995   \n",
       "max       1.000000     1.000000     1.000000    96.290001   355.200012   \n",
       "\n",
       "             event  \n",
       "count  1904.000000  \n",
       "mean      0.579307  \n",
       "std       0.493800  \n",
       "min       0.000000  \n",
       "25%       0.000000  \n",
       "50%       1.000000  \n",
       "75%       1.000000  \n",
       "max       1.000000  "
      ]
     },
     "execution_count": 38,
     "metadata": {},
     "output_type": "execute_result"
    }
   ],
   "source": [
    "df_all.describe()"
   ]
  },
  {
   "cell_type": "code",
   "execution_count": 39,
   "metadata": {},
   "outputs": [],
   "source": [
    "df_all = df_all[df_all['duration'] != 0]"
   ]
  },
  {
   "cell_type": "code",
   "execution_count": 40,
   "metadata": {},
   "outputs": [],
   "source": [
    "cols_standardize = ['x0', 'x1', 'x2', 'x3', 'x8']\n",
    "cols_leave = ['x4', 'x5', 'x6', 'x7']"
   ]
  },
  {
   "cell_type": "code",
   "execution_count": 41,
   "metadata": {},
   "outputs": [
    {
     "data": {
      "image/png": "[encoded data removed]",
      "text/plain": [
       "<Figure size 432x288 with 1 Axes>"
      ]
     },
     "metadata": {
      "needs_background": "light"
     },
     "output_type": "display_data"
    }
   ],
   "source": [
    "df_all['duration'].hist(alpha=0.6);"
   ]
  },
  {
   "cell_type": "code",
   "execution_count": 42,
   "metadata": {},
   "outputs": [],
   "source": [
    "df_all = metabric.read_df()\n",
    "\n",
    "def preprocess_metabric(df_all):\n",
    "    df_all = df_all[df_all['duration'] != 0]\n",
    "    cols_standardize = ['x0', 'x1', 'x2', 'x3', 'x8']\n",
    "    cols_leave = ['x4', 'x5', 'x6', 'x7']"
   ]
  },
  {
   "cell_type": "code",
   "execution_count": 43,
   "metadata": {},
   "outputs": [],
   "source": [
    "quan = np.arange(0, 1, 0.2)\n",
    "bins = df_all['duration'].quantile(quan).values\n",
    "bins = np.append(bins, np.inf)\n",
    "df_all['duration_bin'] = pd.cut(df_all['duration'], bins=bins, labels=np.arange(0, 5, 1))\n",
    "df_all['strata'] = df_all['event'].astype(str) + \"_\" + df_all['duration_bin'].astype(int).astype(str)"
   ]
  },
  {
   "cell_type": "code",
   "execution_count": 44,
   "metadata": {},
   "outputs": [
    {
     "data": {
      "text/plain": [
       "0_-9223372036854775808      1\n",
       "0_0                        45\n",
       "0_1                       110\n",
       "0_2                       181\n",
       "0_3                       211\n",
       "0_4                       253\n",
       "1_0                       335\n",
       "1_1                       271\n",
       "1_2                       200\n",
       "1_3                       170\n",
       "1_4                       127\n",
       "Name: strata, dtype: int64"
      ]
     },
     "execution_count": 44,
     "metadata": {},
     "output_type": "execute_result"
    }
   ],
   "source": [
    "df_all['strata'].value_counts(dropna=False).sort_index()"
   ]
  },
  {
   "cell_type": "code",
   "execution_count": 45,
   "metadata": {},
   "outputs": [],
   "source": [
    "df_all = df_all[df_all['strata'] != '0_-9223372036854775808']"
   ]
  },
  {
   "cell_type": "code",
   "execution_count": 46,
   "metadata": {},
   "outputs": [
    {
     "data": {
      "text/plain": [
       "0_0     45\n",
       "0_1    110\n",
       "0_2    181\n",
       "0_3    211\n",
       "0_4    253\n",
       "1_0    335\n",
       "1_1    271\n",
       "1_2    200\n",
       "1_3    170\n",
       "1_4    127\n",
       "Name: strata, dtype: int64"
      ]
     },
     "execution_count": 46,
     "metadata": {},
     "output_type": "execute_result"
    }
   ],
   "source": [
    "df_all['strata'].value_counts(dropna=False).sort_index()"
   ]
  },
  {
   "cell_type": "markdown",
   "metadata": {},
   "source": [
    "CV + VAL set"
   ]
  },
  {
   "cell_type": "code",
   "execution_count": 25,
   "metadata": {},
   "outputs": [],
   "source": [
    "# get validation data\n",
    "sss = StratifiedShuffleSplit(n_splits=1, test_size=0.2, random_state=1)\n",
    "df_all.reset_index(drop=True, inplace=True)\n",
    "for tr_i, te_i in sss.split(df_all, df_all['strata']):\n",
    "    # split\n",
    "    df_val = df_all.iloc[te_i, ]\n",
    "    df_cv = df_all.iloc[tr_i, ]\n",
    "    # preprocess val\n",
    "    m = df_cv[cols_standardize].mean()\n",
    "    v = df_cv[cols_standardize].std()\n",
    "    df_val_tr = df_val.copy(deep=True)\n",
    "    for idx, col in enumerate(cols_standardize):\n",
    "        df_val_tr[col] = df_val_tr[col] - m.values[idx]\n",
    "        df_val_tr[col] = df_val_tr[col] / v.values[idx]\n",
    "    x_val = df_val_tr[cols_standardize + cols_leave].values\n",
    "    y_val = df_val_tr['event'].values\n",
    "    t_val = df_val_tr['duration'].astype(int).values"
   ]
  },
  {
   "cell_type": "code",
   "execution_count": 26,
   "metadata": {},
   "outputs": [
    {
     "name": "stderr",
     "output_type": "stream",
     "text": [
      "/home/islam/anaconda3/envs/pycox/lib/python3.6/site-packages/ipykernel_launcher.py:13: SettingWithCopyWarning: \n",
      "A value is trying to be set on a copy of a slice from a DataFrame.\n",
      "Try using .loc[row_indexer,col_indexer] = value instead\n",
      "\n",
      "See the caveats in the documentation: http://pandas.pydata.org/pandas-docs/stable/user_guide/indexing.html#returning-a-view-versus-a-copy\n",
      "  del sys.path[0]\n",
      "/home/islam/anaconda3/envs/pycox/lib/python3.6/site-packages/ipykernel_launcher.py:14: SettingWithCopyWarning: \n",
      "A value is trying to be set on a copy of a slice from a DataFrame.\n",
      "Try using .loc[row_indexer,col_indexer] = value instead\n",
      "\n",
      "See the caveats in the documentation: http://pandas.pydata.org/pandas-docs/stable/user_guide/indexing.html#returning-a-view-versus-a-copy\n",
      "  \n",
      "/home/islam/anaconda3/envs/pycox/lib/python3.6/site-packages/ipykernel_launcher.py:15: SettingWithCopyWarning: \n",
      "A value is trying to be set on a copy of a slice from a DataFrame.\n",
      "Try using .loc[row_indexer,col_indexer] = value instead\n",
      "\n",
      "See the caveats in the documentation: http://pandas.pydata.org/pandas-docs/stable/user_guide/indexing.html#returning-a-view-versus-a-copy\n",
      "  from ipykernel import kernelapp as app\n",
      "/home/islam/anaconda3/envs/pycox/lib/python3.6/site-packages/ipykernel_launcher.py:16: SettingWithCopyWarning: \n",
      "A value is trying to be set on a copy of a slice from a DataFrame.\n",
      "Try using .loc[row_indexer,col_indexer] = value instead\n",
      "\n",
      "See the caveats in the documentation: http://pandas.pydata.org/pandas-docs/stable/user_guide/indexing.html#returning-a-view-versus-a-copy\n",
      "  app.launch_new_instance()\n"
     ]
    }
   ],
   "source": [
    "# get cv data\n",
    "df_cv_data = dict()\n",
    "df_cv.reset_index(drop=True, inplace=True)\n",
    "sf = StratifiedKFold(n_splits=5, random_state=1)\n",
    "for i, (tr_i, te_i) in enumerate(sf.split(df_cv, df_cv['strata'])):\n",
    "    # split\n",
    "    df_train = df_cv.iloc[tr_i, ]\n",
    "    df_test = df_cv.iloc[te_i, ]\n",
    "    # preprocess\n",
    "    m = df_train[cols_standardize].mean()\n",
    "    v = df_train[cols_standardize].std()\n",
    "    for idx, col in enumerate(cols_standardize):\n",
    "        df_train[col] = df_train[col] - m.values[idx]\n",
    "        df_train[col] = df_train[col] / v.values[idx]\n",
    "        df_test[col] = df_test[col] - m.values[idx]\n",
    "        df_test[col] = df_test[col] / v.values[idx]\n",
    "    df_cv_data[i] = {\n",
    "        'test': {\n",
    "            'x': df_test[cols_standardize + cols_leave].values,\n",
    "            'y': df_test['event'].values,\n",
    "            't': df_test['duration'].astype(int).values \n",
    "        },\n",
    "        'train': {\n",
    "            'x': df_train[cols_standardize + cols_leave].values,\n",
    "            'y': df_train['event'].values,\n",
    "            't': df_train['duration'].astype(int).values \n",
    "        }\n",
    "    }"
   ]
  },
  {
   "cell_type": "code",
   "execution_count": 27,
   "metadata": {},
   "outputs": [],
   "source": [
    "data = {\n",
    "    'val': {\n",
    "        'x': x_val,\n",
    "        'y': y_val,\n",
    "        't': t_val\n",
    "    },\n",
    "    'cv': df_cv_data\n",
    "}\n",
    "\n",
    "with open('../data/metabric_cv.pkl', 'wb') as f:\n",
    "    pickle.dump(data, f)"
   ]
  },
  {
   "cell_type": "code",
   "execution_count": null,
   "metadata": {},
   "outputs": [],
   "source": []
  },
  {
   "cell_type": "code",
   "execution_count": 34,
   "metadata": {},
   "outputs": [],
   "source": []
  },
  {
   "cell_type": "markdown",
   "metadata": {},
   "source": [
    "CV"
   ]
  },
  {
   "cell_type": "code",
   "execution_count": 47,
   "metadata": {},
   "outputs": [
    {
     "name": "stderr",
     "output_type": "stream",
     "text": [
      "/home/islam/anaconda3/envs/pycox/lib/python3.6/site-packages/ipykernel_launcher.py:13: SettingWithCopyWarning: \n",
      "A value is trying to be set on a copy of a slice from a DataFrame.\n",
      "Try using .loc[row_indexer,col_indexer] = value instead\n",
      "\n",
      "See the caveats in the documentation: http://pandas.pydata.org/pandas-docs/stable/user_guide/indexing.html#returning-a-view-versus-a-copy\n",
      "  del sys.path[0]\n",
      "/home/islam/anaconda3/envs/pycox/lib/python3.6/site-packages/ipykernel_launcher.py:14: SettingWithCopyWarning: \n",
      "A value is trying to be set on a copy of a slice from a DataFrame.\n",
      "Try using .loc[row_indexer,col_indexer] = value instead\n",
      "\n",
      "See the caveats in the documentation: http://pandas.pydata.org/pandas-docs/stable/user_guide/indexing.html#returning-a-view-versus-a-copy\n",
      "  \n",
      "/home/islam/anaconda3/envs/pycox/lib/python3.6/site-packages/ipykernel_launcher.py:15: SettingWithCopyWarning: \n",
      "A value is trying to be set on a copy of a slice from a DataFrame.\n",
      "Try using .loc[row_indexer,col_indexer] = value instead\n",
      "\n",
      "See the caveats in the documentation: http://pandas.pydata.org/pandas-docs/stable/user_guide/indexing.html#returning-a-view-versus-a-copy\n",
      "  from ipykernel import kernelapp as app\n",
      "/home/islam/anaconda3/envs/pycox/lib/python3.6/site-packages/ipykernel_launcher.py:16: SettingWithCopyWarning: \n",
      "A value is trying to be set on a copy of a slice from a DataFrame.\n",
      "Try using .loc[row_indexer,col_indexer] = value instead\n",
      "\n",
      "See the caveats in the documentation: http://pandas.pydata.org/pandas-docs/stable/user_guide/indexing.html#returning-a-view-versus-a-copy\n",
      "  app.launch_new_instance()\n"
     ]
    }
   ],
   "source": [
    "# get cv data\n",
    "df_cv_data = dict()\n",
    "df_cv.reset_index(drop=True, inplace=True)\n",
    "sf = StratifiedKFold(n_splits=5, random_state=1)\n",
    "for i, (tr_i, te_i) in enumerate(sf.split(df_all, df_all['strata'])):\n",
    "    # split\n",
    "    df_train = df_all.iloc[tr_i, ]\n",
    "    df_test = df_all.iloc[te_i, ]\n",
    "    # preprocess\n",
    "    m = df_train[cols_standardize].mean()\n",
    "    v = df_train[cols_standardize].std()\n",
    "    for idx, col in enumerate(cols_standardize):\n",
    "        df_train[col] = df_train[col] - m.values[idx]\n",
    "        df_train[col] = df_train[col] / v.values[idx]\n",
    "        df_test[col] = df_test[col] - m.values[idx]\n",
    "        df_test[col] = df_test[col] / v.values[idx]\n",
    "    df_cv_data[i] = {\n",
    "        'test': {\n",
    "            'x': df_test[cols_standardize + cols_leave].values,\n",
    "            'y': df_test['event'].values,\n",
    "            't': df_test['duration'].astype(int).values \n",
    "        },\n",
    "        'train': {\n",
    "            'x': df_train[cols_standardize + cols_leave].values,\n",
    "            'y': df_train['event'].values,\n",
    "            't': df_train['duration'].astype(int).values \n",
    "        }\n",
    "    }"
   ]
  },
  {
   "cell_type": "code",
   "execution_count": 53,
   "metadata": {},
   "outputs": [],
   "source": [
    "for i in range(5):\n",
    "    with open('../data/metabric_preprocessed_cv_{}_train.pkl'.format(i), 'wb') as f:\n",
    "        pickle.dump(df_cv_data[i]['train'], f)\n",
    "    with open('../data/metabric_preprocessed_cv_{}_test.pkl'.format(i), 'wb') as f:\n",
    "        pickle.dump(df_cv_data[i]['test'], f)"
   ]
  },
  {
   "cell_type": "code",
   "execution_count": null,
   "metadata": {},
   "outputs": [],
   "source": []
  },
  {
   "cell_type": "markdown",
   "metadata": {},
   "source": [
    "#### 2. KKBOX"
   ]
  },
  {
   "cell_type": "markdown",
   "metadata": {},
   "source": [
    "- split on train-test-val by client\n",
    "- select parameters on val\n",
    "- and also report results on test with selected parameters\n",
    "- how to get: pycox_examples/01_introduction_save_data.ipynb"
   ]
  },
  {
   "cell_type": "markdown",
   "metadata": {},
   "source": [
    "<b> Pycox (Time-to-Event Prediction with Neural Networks and Cox Regression): </b>\n",
    "    \n",
    "data -> train - test - val\n",
    "\n",
    "select hyperparameters with the help of val\n",
    "\n",
    "report results on test when each model if fitted 5 times on train\n"
   ]
  },
  {
   "cell_type": "code",
   "execution_count": 3,
   "metadata": {},
   "outputs": [],
   "source": [
    "from pycox.datasets import kkbox_v1"
   ]
  },
  {
   "cell_type": "code",
   "execution_count": 78,
   "metadata": {},
   "outputs": [
    {
     "data": {
      "text/plain": [
       "(1786333, 18)"
      ]
     },
     "execution_count": 78,
     "metadata": {},
     "output_type": "execute_result"
    }
   ],
   "source": [
    "df_train = kkbox_v1.read_df(subset='train')\n",
    "df_train.shape"
   ]
  },
  {
   "cell_type": "code",
   "execution_count": 79,
   "metadata": {},
   "outputs": [
    {
     "data": {
      "text/html": [
       "<div>\n",
       "<style scoped>\n",
       "    .dataframe tbody tr th:only-of-type {\n",
       "        vertical-align: middle;\n",
       "    }\n",
       "\n",
       "    .dataframe tbody tr th {\n",
       "        vertical-align: top;\n",
       "    }\n",
       "\n",
       "    .dataframe thead th {\n",
       "        text-align: right;\n",
       "    }\n",
       "</style>\n",
       "<table border=\"1\" class=\"dataframe\">\n",
       "  <thead>\n",
       "    <tr style=\"text-align: right;\">\n",
       "      <th></th>\n",
       "      <th>msno</th>\n",
       "      <th>event</th>\n",
       "      <th>n_prev_churns</th>\n",
       "      <th>log_days_between_subs</th>\n",
       "      <th>duration</th>\n",
       "      <th>log_days_since_reg_init</th>\n",
       "      <th>log_payment_plan_days</th>\n",
       "      <th>log_plan_list_price</th>\n",
       "      <th>log_actual_amount_paid</th>\n",
       "      <th>is_auto_renew</th>\n",
       "      <th>is_cancel</th>\n",
       "      <th>city</th>\n",
       "      <th>gender</th>\n",
       "      <th>registered_via</th>\n",
       "      <th>age_at_start</th>\n",
       "      <th>strange_age</th>\n",
       "      <th>nan_days_since_reg_init</th>\n",
       "      <th>no_prev_churns</th>\n",
       "    </tr>\n",
       "  </thead>\n",
       "  <tbody>\n",
       "    <tr>\n",
       "      <td>516037</td>\n",
       "      <td>GQvuyV/7K1pVKlzJ+BVkTOy4AV2YzpVUCRnRMyqh2eo=</td>\n",
       "      <td>1.0</td>\n",
       "      <td>1.0</td>\n",
       "      <td>0.000000</td>\n",
       "      <td>380.0</td>\n",
       "      <td>7.664347</td>\n",
       "      <td>0.000000</td>\n",
       "      <td>0.000000</td>\n",
       "      <td>5.010635</td>\n",
       "      <td>1.0</td>\n",
       "      <td>0.0</td>\n",
       "      <td>13</td>\n",
       "      <td>female</td>\n",
       "      <td>9</td>\n",
       "      <td>48.0</td>\n",
       "      <td>0.0</td>\n",
       "      <td>0.0</td>\n",
       "      <td>0.0</td>\n",
       "    </tr>\n",
       "    <tr>\n",
       "      <td>352954</td>\n",
       "      <td>AZY+unq2wYbg2SI3M/SjVCErLRhmSJfNeW9Yxu1UTzg=</td>\n",
       "      <td>1.0</td>\n",
       "      <td>0.0</td>\n",
       "      <td>0.000000</td>\n",
       "      <td>108.0</td>\n",
       "      <td>2.302585</td>\n",
       "      <td>3.433987</td>\n",
       "      <td>5.010635</td>\n",
       "      <td>5.010635</td>\n",
       "      <td>0.0</td>\n",
       "      <td>0.0</td>\n",
       "      <td>22</td>\n",
       "      <td>female</td>\n",
       "      <td>3</td>\n",
       "      <td>31.0</td>\n",
       "      <td>0.0</td>\n",
       "      <td>0.0</td>\n",
       "      <td>1.0</td>\n",
       "    </tr>\n",
       "    <tr>\n",
       "      <td>1671762</td>\n",
       "      <td>vr/5i/k6pL4h1usFasY0xC+B2ifeHFj8iV/KIfIoBjc=</td>\n",
       "      <td>1.0</td>\n",
       "      <td>0.0</td>\n",
       "      <td>0.000000</td>\n",
       "      <td>73.0</td>\n",
       "      <td>6.129050</td>\n",
       "      <td>3.433987</td>\n",
       "      <td>5.010635</td>\n",
       "      <td>5.010635</td>\n",
       "      <td>0.0</td>\n",
       "      <td>0.0</td>\n",
       "      <td>1</td>\n",
       "      <td>NaN</td>\n",
       "      <td>3</td>\n",
       "      <td>0.0</td>\n",
       "      <td>1.0</td>\n",
       "      <td>0.0</td>\n",
       "      <td>1.0</td>\n",
       "    </tr>\n",
       "    <tr>\n",
       "      <td>1474648</td>\n",
       "      <td>on9HcTo/rKXD9R09VuBaIwjAoK/ATSf32kg90LYus+0=</td>\n",
       "      <td>1.0</td>\n",
       "      <td>0.0</td>\n",
       "      <td>0.000000</td>\n",
       "      <td>158.0</td>\n",
       "      <td>0.693147</td>\n",
       "      <td>3.433987</td>\n",
       "      <td>5.010635</td>\n",
       "      <td>5.010635</td>\n",
       "      <td>0.0</td>\n",
       "      <td>0.0</td>\n",
       "      <td>5</td>\n",
       "      <td>male</td>\n",
       "      <td>4</td>\n",
       "      <td>21.0</td>\n",
       "      <td>0.0</td>\n",
       "      <td>0.0</td>\n",
       "      <td>1.0</td>\n",
       "    </tr>\n",
       "    <tr>\n",
       "      <td>81821</td>\n",
       "      <td>0tQq4JQr8CFah+GmZLp1vdVbxpbX3N3ihdjoOeYjrhs=</td>\n",
       "      <td>1.0</td>\n",
       "      <td>1.0</td>\n",
       "      <td>5.786897</td>\n",
       "      <td>5.0</td>\n",
       "      <td>5.840642</td>\n",
       "      <td>2.079442</td>\n",
       "      <td>0.000000</td>\n",
       "      <td>0.000000</td>\n",
       "      <td>0.0</td>\n",
       "      <td>0.0</td>\n",
       "      <td>5</td>\n",
       "      <td>female</td>\n",
       "      <td>3</td>\n",
       "      <td>27.0</td>\n",
       "      <td>0.0</td>\n",
       "      <td>0.0</td>\n",
       "      <td>0.0</td>\n",
       "    </tr>\n",
       "    <tr>\n",
       "      <td>125820</td>\n",
       "      <td>2S/4ddoB+vifZhFwsgig+lFG2HE2FPmthRc97slIdTU=</td>\n",
       "      <td>1.0</td>\n",
       "      <td>1.0</td>\n",
       "      <td>4.127134</td>\n",
       "      <td>10.0</td>\n",
       "      <td>7.441320</td>\n",
       "      <td>2.079442</td>\n",
       "      <td>0.000000</td>\n",
       "      <td>0.000000</td>\n",
       "      <td>0.0</td>\n",
       "      <td>0.0</td>\n",
       "      <td>15</td>\n",
       "      <td>male</td>\n",
       "      <td>9</td>\n",
       "      <td>22.0</td>\n",
       "      <td>0.0</td>\n",
       "      <td>0.0</td>\n",
       "      <td>0.0</td>\n",
       "    </tr>\n",
       "    <tr>\n",
       "      <td>388654</td>\n",
       "      <td>Brrn/rUQ4kZeJFVWOLzqI/VIW/o+ukx6QhmPPkV72VE=</td>\n",
       "      <td>1.0</td>\n",
       "      <td>0.0</td>\n",
       "      <td>0.000000</td>\n",
       "      <td>11.0</td>\n",
       "      <td>4.605170</td>\n",
       "      <td>2.079442</td>\n",
       "      <td>0.000000</td>\n",
       "      <td>0.000000</td>\n",
       "      <td>0.0</td>\n",
       "      <td>0.0</td>\n",
       "      <td>1</td>\n",
       "      <td>NaN</td>\n",
       "      <td>9</td>\n",
       "      <td>0.0</td>\n",
       "      <td>1.0</td>\n",
       "      <td>0.0</td>\n",
       "      <td>1.0</td>\n",
       "    </tr>\n",
       "    <tr>\n",
       "      <td>433952</td>\n",
       "      <td>DUHLIrFvfGAYcHFTLo8L+b6NWjXX73R184HEc9L3qOE=</td>\n",
       "      <td>1.0</td>\n",
       "      <td>0.0</td>\n",
       "      <td>0.000000</td>\n",
       "      <td>29.0</td>\n",
       "      <td>0.000000</td>\n",
       "      <td>3.433987</td>\n",
       "      <td>5.010635</td>\n",
       "      <td>0.000000</td>\n",
       "      <td>1.0</td>\n",
       "      <td>0.0</td>\n",
       "      <td>NaN</td>\n",
       "      <td>NaN</td>\n",
       "      <td>NaN</td>\n",
       "      <td>-1.0</td>\n",
       "      <td>0.0</td>\n",
       "      <td>1.0</td>\n",
       "      <td>1.0</td>\n",
       "    </tr>\n",
       "    <tr>\n",
       "      <td>263530</td>\n",
       "      <td>7N6Rqwt6SGRvwuU62bS1fnqbChLF3qJcYu3jqYV35nU=</td>\n",
       "      <td>1.0</td>\n",
       "      <td>0.0</td>\n",
       "      <td>0.000000</td>\n",
       "      <td>5.0</td>\n",
       "      <td>4.976734</td>\n",
       "      <td>2.079442</td>\n",
       "      <td>0.000000</td>\n",
       "      <td>0.000000</td>\n",
       "      <td>0.0</td>\n",
       "      <td>0.0</td>\n",
       "      <td>1</td>\n",
       "      <td>NaN</td>\n",
       "      <td>9</td>\n",
       "      <td>0.0</td>\n",
       "      <td>1.0</td>\n",
       "      <td>0.0</td>\n",
       "      <td>1.0</td>\n",
       "    </tr>\n",
       "    <tr>\n",
       "      <td>1740945</td>\n",
       "      <td>yLEveKA8xbElrQaIBwcyCdWmXWDHhUdheG/0fA+w/1Y=</td>\n",
       "      <td>1.0</td>\n",
       "      <td>0.0</td>\n",
       "      <td>0.000000</td>\n",
       "      <td>28.0</td>\n",
       "      <td>0.000000</td>\n",
       "      <td>3.433987</td>\n",
       "      <td>5.010635</td>\n",
       "      <td>0.000000</td>\n",
       "      <td>1.0</td>\n",
       "      <td>0.0</td>\n",
       "      <td>NaN</td>\n",
       "      <td>NaN</td>\n",
       "      <td>NaN</td>\n",
       "      <td>-1.0</td>\n",
       "      <td>0.0</td>\n",
       "      <td>1.0</td>\n",
       "      <td>1.0</td>\n",
       "    </tr>\n",
       "  </tbody>\n",
       "</table>\n",
       "</div>"
      ],
      "text/plain": [
       "                                                 msno  event  n_prev_churns  \\\n",
       "516037   GQvuyV/7K1pVKlzJ+BVkTOy4AV2YzpVUCRnRMyqh2eo=    1.0            1.0   \n",
       "352954   AZY+unq2wYbg2SI3M/SjVCErLRhmSJfNeW9Yxu1UTzg=    1.0            0.0   \n",
       "1671762  vr/5i/k6pL4h1usFasY0xC+B2ifeHFj8iV/KIfIoBjc=    1.0            0.0   \n",
       "1474648  on9HcTo/rKXD9R09VuBaIwjAoK/ATSf32kg90LYus+0=    1.0            0.0   \n",
       "81821    0tQq4JQr8CFah+GmZLp1vdVbxpbX3N3ihdjoOeYjrhs=    1.0            1.0   \n",
       "125820   2S/4ddoB+vifZhFwsgig+lFG2HE2FPmthRc97slIdTU=    1.0            1.0   \n",
       "388654   Brrn/rUQ4kZeJFVWOLzqI/VIW/o+ukx6QhmPPkV72VE=    1.0            0.0   \n",
       "433952   DUHLIrFvfGAYcHFTLo8L+b6NWjXX73R184HEc9L3qOE=    1.0            0.0   \n",
       "263530   7N6Rqwt6SGRvwuU62bS1fnqbChLF3qJcYu3jqYV35nU=    1.0            0.0   \n",
       "1740945  yLEveKA8xbElrQaIBwcyCdWmXWDHhUdheG/0fA+w/1Y=    1.0            0.0   \n",
       "\n",
       "         log_days_between_subs  duration  log_days_since_reg_init  \\\n",
       "516037                0.000000     380.0                 7.664347   \n",
       "352954                0.000000     108.0                 2.302585   \n",
       "1671762               0.000000      73.0                 6.129050   \n",
       "1474648               0.000000     158.0                 0.693147   \n",
       "81821                 5.786897       5.0                 5.840642   \n",
       "125820                4.127134      10.0                 7.441320   \n",
       "388654                0.000000      11.0                 4.605170   \n",
       "433952                0.000000      29.0                 0.000000   \n",
       "263530                0.000000       5.0                 4.976734   \n",
       "1740945               0.000000      28.0                 0.000000   \n",
       "\n",
       "         log_payment_plan_days  log_plan_list_price  log_actual_amount_paid  \\\n",
       "516037                0.000000             0.000000                5.010635   \n",
       "352954                3.433987             5.010635                5.010635   \n",
       "1671762               3.433987             5.010635                5.010635   \n",
       "1474648               3.433987             5.010635                5.010635   \n",
       "81821                 2.079442             0.000000                0.000000   \n",
       "125820                2.079442             0.000000                0.000000   \n",
       "388654                2.079442             0.000000                0.000000   \n",
       "433952                3.433987             5.010635                0.000000   \n",
       "263530                2.079442             0.000000                0.000000   \n",
       "1740945               3.433987             5.010635                0.000000   \n",
       "\n",
       "         is_auto_renew  is_cancel city  gender registered_via  age_at_start  \\\n",
       "516037             1.0        0.0   13  female              9          48.0   \n",
       "352954             0.0        0.0   22  female              3          31.0   \n",
       "1671762            0.0        0.0    1     NaN              3           0.0   \n",
       "1474648            0.0        0.0    5    male              4          21.0   \n",
       "81821              0.0        0.0    5  female              3          27.0   \n",
       "125820             0.0        0.0   15    male              9          22.0   \n",
       "388654             0.0        0.0    1     NaN              9           0.0   \n",
       "433952             1.0        0.0  NaN     NaN            NaN          -1.0   \n",
       "263530             0.0        0.0    1     NaN              9           0.0   \n",
       "1740945            1.0        0.0  NaN     NaN            NaN          -1.0   \n",
       "\n",
       "         strange_age  nan_days_since_reg_init  no_prev_churns  \n",
       "516037           0.0                      0.0             0.0  \n",
       "352954           0.0                      0.0             1.0  \n",
       "1671762          1.0                      0.0             1.0  \n",
       "1474648          0.0                      0.0             1.0  \n",
       "81821            0.0                      0.0             0.0  \n",
       "125820           0.0                      0.0             0.0  \n",
       "388654           1.0                      0.0             1.0  \n",
       "433952           0.0                      1.0             1.0  \n",
       "263530           1.0                      0.0             1.0  \n",
       "1740945          0.0                      1.0             1.0  "
      ]
     },
     "execution_count": 79,
     "metadata": {},
     "output_type": "execute_result"
    }
   ],
   "source": [
    "df_train.sample(10)"
   ]
  },
  {
   "cell_type": "code",
   "execution_count": 80,
   "metadata": {},
   "outputs": [
    {
     "data": {
      "text/plain": [
       "(661748, 18)"
      ]
     },
     "execution_count": 80,
     "metadata": {},
     "output_type": "execute_result"
    }
   ],
   "source": [
    "df_test = kkbox_v1.read_df(subset='test')\n",
    "df_test.shape"
   ]
  },
  {
   "cell_type": "code",
   "execution_count": 81,
   "metadata": {},
   "outputs": [
    {
     "data": {
      "text/plain": [
       "(198665, 18)"
      ]
     },
     "execution_count": 81,
     "metadata": {},
     "output_type": "execute_result"
    }
   ],
   "source": [
    "df_val = kkbox_v1.read_df(subset='val')\n",
    "df_val.shape"
   ]
  },
  {
   "cell_type": "code",
   "execution_count": null,
   "metadata": {},
   "outputs": [],
   "source": []
  },
  {
   "cell_type": "code",
   "execution_count": 82,
   "metadata": {},
   "outputs": [
    {
     "name": "stdout",
     "output_type": "stream",
     "text": [
      "Zero duration in train:  (0, 18)\n",
      "Zero duration in test:  (0, 18)\n",
      "Zero duration in val:  (0, 18)\n"
     ]
    }
   ],
   "source": [
    "print(\"Zero duration in train: \", df_train[df_train['duration'] == 0].shape)\n",
    "print(\"Zero duration in test: \", df_test[df_test['duration'] == 0].shape)\n",
    "print(\"Zero duration in val: \", df_val[df_val['duration'] == 0].shape)"
   ]
  },
  {
   "cell_type": "code",
   "execution_count": 9,
   "metadata": {},
   "outputs": [
    {
     "data": {
      "text/html": [
       "<div>\n",
       "<style scoped>\n",
       "    .dataframe tbody tr th:only-of-type {\n",
       "        vertical-align: middle;\n",
       "    }\n",
       "\n",
       "    .dataframe tbody tr th {\n",
       "        vertical-align: top;\n",
       "    }\n",
       "\n",
       "    .dataframe thead th {\n",
       "        text-align: right;\n",
       "    }\n",
       "</style>\n",
       "<table border=\"1\" class=\"dataframe\">\n",
       "  <thead>\n",
       "    <tr style=\"text-align: right;\">\n",
       "      <th></th>\n",
       "      <th>event</th>\n",
       "      <th>n_prev_churns</th>\n",
       "      <th>log_days_between_subs</th>\n",
       "      <th>duration</th>\n",
       "      <th>log_days_since_reg_init</th>\n",
       "      <th>log_payment_plan_days</th>\n",
       "      <th>log_plan_list_price</th>\n",
       "      <th>log_actual_amount_paid</th>\n",
       "      <th>is_auto_renew</th>\n",
       "      <th>is_cancel</th>\n",
       "      <th>age_at_start</th>\n",
       "      <th>strange_age</th>\n",
       "      <th>nan_days_since_reg_init</th>\n",
       "      <th>no_prev_churns</th>\n",
       "    </tr>\n",
       "  </thead>\n",
       "  <tbody>\n",
       "    <tr>\n",
       "      <td>count</td>\n",
       "      <td>1.786333e+06</td>\n",
       "      <td>1.786333e+06</td>\n",
       "      <td>1.786333e+06</td>\n",
       "      <td>1.786333e+06</td>\n",
       "      <td>1.786333e+06</td>\n",
       "      <td>1.786333e+06</td>\n",
       "      <td>1.786333e+06</td>\n",
       "      <td>1.786333e+06</td>\n",
       "      <td>1.786333e+06</td>\n",
       "      <td>1.786333e+06</td>\n",
       "      <td>1.786333e+06</td>\n",
       "      <td>1.786333e+06</td>\n",
       "      <td>1.786333e+06</td>\n",
       "      <td>1.786333e+06</td>\n",
       "    </tr>\n",
       "    <tr>\n",
       "      <td>mean</td>\n",
       "      <td>7.161923e-01</td>\n",
       "      <td>1.543900e-01</td>\n",
       "      <td>2.993105e-01</td>\n",
       "      <td>2.285690e+02</td>\n",
       "      <td>4.207446e+00</td>\n",
       "      <td>3.150953e+00</td>\n",
       "      <td>3.868665e+00</td>\n",
       "      <td>3.549763e+00</td>\n",
       "      <td>5.549358e-01</td>\n",
       "      <td>7.635755e-03</td>\n",
       "      <td>1.212652e+01</td>\n",
       "      <td>3.980977e-01</td>\n",
       "      <td>1.624440e-01</td>\n",
       "      <td>8.852555e-01</td>\n",
       "    </tr>\n",
       "    <tr>\n",
       "      <td>std</td>\n",
       "      <td>4.520748e-01</td>\n",
       "      <td>4.908541e-01</td>\n",
       "      <td>1.146079e+00</td>\n",
       "      <td>2.526903e+02</td>\n",
       "      <td>3.036363e+00</td>\n",
       "      <td>1.044879e+00</td>\n",
       "      <td>2.234905e+00</td>\n",
       "      <td>2.405540e+00</td>\n",
       "      <td>4.964042e-01</td>\n",
       "      <td>8.673631e-02</td>\n",
       "      <td>1.536644e+01</td>\n",
       "      <td>4.898612e-01</td>\n",
       "      <td>3.709731e-01</td>\n",
       "      <td>3.203050e-01</td>\n",
       "    </tr>\n",
       "    <tr>\n",
       "      <td>min</td>\n",
       "      <td>0.000000e+00</td>\n",
       "      <td>0.000000e+00</td>\n",
       "      <td>0.000000e+00</td>\n",
       "      <td>1.000000e+00</td>\n",
       "      <td>0.000000e+00</td>\n",
       "      <td>0.000000e+00</td>\n",
       "      <td>0.000000e+00</td>\n",
       "      <td>0.000000e+00</td>\n",
       "      <td>0.000000e+00</td>\n",
       "      <td>0.000000e+00</td>\n",
       "      <td>-1.000000e+00</td>\n",
       "      <td>0.000000e+00</td>\n",
       "      <td>0.000000e+00</td>\n",
       "      <td>0.000000e+00</td>\n",
       "    </tr>\n",
       "    <tr>\n",
       "      <td>25%</td>\n",
       "      <td>0.000000e+00</td>\n",
       "      <td>0.000000e+00</td>\n",
       "      <td>0.000000e+00</td>\n",
       "      <td>2.900000e+01</td>\n",
       "      <td>6.931472e-01</td>\n",
       "      <td>3.433987e+00</td>\n",
       "      <td>4.605170e+00</td>\n",
       "      <td>0.000000e+00</td>\n",
       "      <td>0.000000e+00</td>\n",
       "      <td>0.000000e+00</td>\n",
       "      <td>0.000000e+00</td>\n",
       "      <td>0.000000e+00</td>\n",
       "      <td>0.000000e+00</td>\n",
       "      <td>1.000000e+00</td>\n",
       "    </tr>\n",
       "    <tr>\n",
       "      <td>50%</td>\n",
       "      <td>1.000000e+00</td>\n",
       "      <td>0.000000e+00</td>\n",
       "      <td>0.000000e+00</td>\n",
       "      <td>1.010000e+02</td>\n",
       "      <td>5.420535e+00</td>\n",
       "      <td>3.433987e+00</td>\n",
       "      <td>5.010635e+00</td>\n",
       "      <td>5.010635e+00</td>\n",
       "      <td>1.000000e+00</td>\n",
       "      <td>0.000000e+00</td>\n",
       "      <td>0.000000e+00</td>\n",
       "      <td>0.000000e+00</td>\n",
       "      <td>0.000000e+00</td>\n",
       "      <td>1.000000e+00</td>\n",
       "    </tr>\n",
       "    <tr>\n",
       "      <td>75%</td>\n",
       "      <td>1.000000e+00</td>\n",
       "      <td>0.000000e+00</td>\n",
       "      <td>0.000000e+00</td>\n",
       "      <td>4.100000e+02</td>\n",
       "      <td>6.919684e+00</td>\n",
       "      <td>3.433987e+00</td>\n",
       "      <td>5.010635e+00</td>\n",
       "      <td>5.010635e+00</td>\n",
       "      <td>1.000000e+00</td>\n",
       "      <td>0.000000e+00</td>\n",
       "      <td>2.500000e+01</td>\n",
       "      <td>1.000000e+00</td>\n",
       "      <td>0.000000e+00</td>\n",
       "      <td>1.000000e+00</td>\n",
       "    </tr>\n",
       "    <tr>\n",
       "      <td>max</td>\n",
       "      <td>1.000000e+00</td>\n",
       "      <td>7.000000e+00</td>\n",
       "      <td>6.559615e+00</td>\n",
       "      <td>8.200000e+02</td>\n",
       "      <td>8.459140e+00</td>\n",
       "      <td>6.111467e+00</td>\n",
       "      <td>7.601402e+00</td>\n",
       "      <td>7.601402e+00</td>\n",
       "      <td>1.000000e+00</td>\n",
       "      <td>1.000000e+00</td>\n",
       "      <td>1.000000e+02</td>\n",
       "      <td>1.000000e+00</td>\n",
       "      <td>1.000000e+00</td>\n",
       "      <td>1.000000e+00</td>\n",
       "    </tr>\n",
       "  </tbody>\n",
       "</table>\n",
       "</div>"
      ],
      "text/plain": [
       "              event  n_prev_churns  log_days_between_subs      duration  \\\n",
       "count  1.786333e+06   1.786333e+06           1.786333e+06  1.786333e+06   \n",
       "mean   7.161923e-01   1.543900e-01           2.993105e-01  2.285690e+02   \n",
       "std    4.520748e-01   4.908541e-01           1.146079e+00  2.526903e+02   \n",
       "min    0.000000e+00   0.000000e+00           0.000000e+00  1.000000e+00   \n",
       "25%    0.000000e+00   0.000000e+00           0.000000e+00  2.900000e+01   \n",
       "50%    1.000000e+00   0.000000e+00           0.000000e+00  1.010000e+02   \n",
       "75%    1.000000e+00   0.000000e+00           0.000000e+00  4.100000e+02   \n",
       "max    1.000000e+00   7.000000e+00           6.559615e+00  8.200000e+02   \n",
       "\n",
       "       log_days_since_reg_init  log_payment_plan_days  log_plan_list_price  \\\n",
       "count             1.786333e+06           1.786333e+06         1.786333e+06   \n",
       "mean              4.207446e+00           3.150953e+00         3.868665e+00   \n",
       "std               3.036363e+00           1.044879e+00         2.234905e+00   \n",
       "min               0.000000e+00           0.000000e+00         0.000000e+00   \n",
       "25%               6.931472e-01           3.433987e+00         4.605170e+00   \n",
       "50%               5.420535e+00           3.433987e+00         5.010635e+00   \n",
       "75%               6.919684e+00           3.433987e+00         5.010635e+00   \n",
       "max               8.459140e+00           6.111467e+00         7.601402e+00   \n",
       "\n",
       "       log_actual_amount_paid  is_auto_renew     is_cancel  age_at_start  \\\n",
       "count            1.786333e+06   1.786333e+06  1.786333e+06  1.786333e+06   \n",
       "mean             3.549763e+00   5.549358e-01  7.635755e-03  1.212652e+01   \n",
       "std              2.405540e+00   4.964042e-01  8.673631e-02  1.536644e+01   \n",
       "min              0.000000e+00   0.000000e+00  0.000000e+00 -1.000000e+00   \n",
       "25%              0.000000e+00   0.000000e+00  0.000000e+00  0.000000e+00   \n",
       "50%              5.010635e+00   1.000000e+00  0.000000e+00  0.000000e+00   \n",
       "75%              5.010635e+00   1.000000e+00  0.000000e+00  2.500000e+01   \n",
       "max              7.601402e+00   1.000000e+00  1.000000e+00  1.000000e+02   \n",
       "\n",
       "        strange_age  nan_days_since_reg_init  no_prev_churns  \n",
       "count  1.786333e+06             1.786333e+06    1.786333e+06  \n",
       "mean   3.980977e-01             1.624440e-01    8.852555e-01  \n",
       "std    4.898612e-01             3.709731e-01    3.203050e-01  \n",
       "min    0.000000e+00             0.000000e+00    0.000000e+00  \n",
       "25%    0.000000e+00             0.000000e+00    1.000000e+00  \n",
       "50%    0.000000e+00             0.000000e+00    1.000000e+00  \n",
       "75%    1.000000e+00             0.000000e+00    1.000000e+00  \n",
       "max    1.000000e+00             1.000000e+00    1.000000e+00  "
      ]
     },
     "execution_count": 9,
     "metadata": {},
     "output_type": "execute_result"
    }
   ],
   "source": [
    "df_train.describe()"
   ]
  },
  {
   "cell_type": "code",
   "execution_count": 10,
   "metadata": {},
   "outputs": [],
   "source": [
    "t = df_train['duration']\n",
    "y = df_train['event'].astype(int)\n",
    "binary_cols = ['is_auto_renew', 'is_cancel', 'strange_age', 'nan_days_since_reg_init', 'no_prev_churns']\n",
    "batchnorm_cols = ['n_prev_churns', 'log_days_between_subs', 'log_days_since_reg_init', 'log_payment_plan_days', 'log_plan_list_price',\n",
    "                  'log_actual_amount_paid', 'age_at_start']\n",
    "cat_cols = ['city', 'gender', 'registered_via']"
   ]
  },
  {
   "cell_type": "code",
   "execution_count": 11,
   "metadata": {},
   "outputs": [
    {
     "name": "stdout",
     "output_type": "stream",
     "text": [
      "There are 5 binary cols\n",
      "There are 7 continous cols\n"
     ]
    }
   ],
   "source": [
    "print(\"There are {} binary cols\".format(len(binary_cols)))\n",
    "print(\"There are {} continous cols\".format(len(batchnorm_cols)))"
   ]
  },
  {
   "cell_type": "code",
   "execution_count": 12,
   "metadata": {},
   "outputs": [
    {
     "data": {
      "image/png": "[encoded data removed]",
      "text/plain": [
       "<Figure size 432x288 with 1 Axes>"
      ]
     },
     "metadata": {
      "needs_background": "light"
     },
     "output_type": "display_data"
    }
   ],
   "source": [
    "df_train['duration'].hist(alpha=0.6, bins=100);"
   ]
  },
  {
   "cell_type": "code",
   "execution_count": null,
   "metadata": {},
   "outputs": [],
   "source": []
  },
  {
   "cell_type": "code",
   "execution_count": 19,
   "metadata": {},
   "outputs": [
    {
     "data": {
      "text/plain": [
       "NaN       990574\n",
       "male      419392\n",
       "female    376367\n",
       "Name: gender, dtype: int64"
      ]
     },
     "execution_count": 19,
     "metadata": {},
     "output_type": "execute_result"
    }
   ],
   "source": [
    "df_train['gender'].value_counts(dropna=False)"
   ]
  },
  {
   "cell_type": "code",
   "execution_count": 20,
   "metadata": {},
   "outputs": [
    {
     "data": {
      "text/plain": [
       "NaN       367465\n",
       "male      155199\n",
       "female    139084\n",
       "Name: gender, dtype: int64"
      ]
     },
     "execution_count": 20,
     "metadata": {},
     "output_type": "execute_result"
    }
   ],
   "source": [
    "df_test['gender'].value_counts(dropna=False)"
   ]
  },
  {
   "cell_type": "code",
   "execution_count": 21,
   "metadata": {},
   "outputs": [
    {
     "data": {
      "text/plain": [
       "NaN       109660\n",
       "male       46919\n",
       "female     42086\n",
       "Name: gender, dtype: int64"
      ]
     },
     "execution_count": 21,
     "metadata": {},
     "output_type": "execute_result"
    }
   ],
   "source": [
    "df_val['gender'].value_counts(dropna=False)"
   ]
  },
  {
   "cell_type": "code",
   "execution_count": 22,
   "metadata": {},
   "outputs": [],
   "source": [
    "gender_map = {\n",
    "    'male': 0,\n",
    "    'female': 1\n",
    "}"
   ]
  },
  {
   "cell_type": "code",
   "execution_count": null,
   "metadata": {},
   "outputs": [],
   "source": []
  },
  {
   "cell_type": "code",
   "execution_count": 13,
   "metadata": {},
   "outputs": [
    {
     "data": {
      "text/plain": [
       "1.0     1002197\n",
       "NaN      430310\n",
       "13.0     259864\n",
       "5.0      209847\n",
       "4.0      139727\n",
       "15.0     122656\n",
       "22.0     121784\n",
       "6.0       75349\n",
       "14.0      55590\n",
       "9.0       42039\n",
       "12.0      36379\n",
       "11.0      25636\n",
       "8.0       23826\n",
       "18.0      22563\n",
       "10.0      19396\n",
       "21.0      16898\n",
       "17.0      15214\n",
       "3.0       14914\n",
       "7.0        7080\n",
       "16.0       2842\n",
       "20.0       2131\n",
       "19.0        504\n",
       "Name: city, dtype: int64"
      ]
     },
     "execution_count": 13,
     "metadata": {},
     "output_type": "execute_result"
    }
   ],
   "source": [
    "pd.concat([df_train['city'], df_test['city'], df_val['city']], axis=0).value_counts(dropna=False)"
   ]
  },
  {
   "cell_type": "code",
   "execution_count": 53,
   "metadata": {},
   "outputs": [],
   "source": [
    "common_city = np.intersect1d(\n",
    "    np.intersect1d(df_train['city'].unique().astype(str), df_test['city'].unique().astype(str)),\n",
    "    df_val['city'].unique().astype(str))"
   ]
  },
  {
   "cell_type": "code",
   "execution_count": 54,
   "metadata": {},
   "outputs": [
    {
     "data": {
      "text/plain": [
       "(22,)"
      ]
     },
     "execution_count": 54,
     "metadata": {},
     "output_type": "execute_result"
    }
   ],
   "source": [
    "common_city.shape"
   ]
  },
  {
   "cell_type": "code",
   "execution_count": 57,
   "metadata": {},
   "outputs": [
    {
     "data": {
      "text/plain": [
       "(21,)"
      ]
     },
     "execution_count": 57,
     "metadata": {},
     "output_type": "execute_result"
    }
   ],
   "source": [
    "common_city[common_city != 'nan'].shape"
   ]
  },
  {
   "cell_type": "code",
   "execution_count": 123,
   "metadata": {},
   "outputs": [
    {
     "data": {
      "text/plain": [
       "{'1.0': 0,\n",
       " '10.0': 1,\n",
       " '11.0': 2,\n",
       " '12.0': 3,\n",
       " '13.0': 4,\n",
       " '14.0': 5,\n",
       " '15.0': 6,\n",
       " '16.0': 7,\n",
       " '17.0': 8,\n",
       " '18.0': 9,\n",
       " '19.0': 10,\n",
       " '20.0': 11,\n",
       " '21.0': 12,\n",
       " '22.0': 13,\n",
       " '3.0': 14,\n",
       " '4.0': 15,\n",
       " '5.0': 16,\n",
       " '6.0': 17,\n",
       " '7.0': 18,\n",
       " '8.0': 19,\n",
       " '9.0': 20}"
      ]
     },
     "execution_count": 123,
     "metadata": {},
     "output_type": "execute_result"
    }
   ],
   "source": [
    "{j: i for i, j in enumerate(common_city[common_city != 'nan'])}"
   ]
  },
  {
   "cell_type": "code",
   "execution_count": null,
   "metadata": {},
   "outputs": [],
   "source": []
  },
  {
   "cell_type": "code",
   "execution_count": null,
   "metadata": {},
   "outputs": [],
   "source": []
  },
  {
   "cell_type": "code",
   "execution_count": 84,
   "metadata": {},
   "outputs": [
    {
     "data": {
      "text/plain": [
       " 9.0     57340\n",
       " 7.0     52195\n",
       " 3.0     36077\n",
       " NaN     32339\n",
       " 4.0     20420\n",
       " 13.0      294\n",
       " 16.0        0\n",
       " 14.0        0\n",
       " 11.0        0\n",
       " 10.0        0\n",
       " 19.0        0\n",
       " 8.0         0\n",
       " 17.0        0\n",
       " 6.0         0\n",
       " 5.0         0\n",
       " 18.0        0\n",
       " 2.0         0\n",
       " 1.0         0\n",
       "-1.0         0\n",
       "Name: registered_via, dtype: int64"
      ]
     },
     "execution_count": 84,
     "metadata": {},
     "output_type": "execute_result"
    }
   ],
   "source": [
    "df_val['registered_via'].value_counts(dropna=False)"
   ]
  },
  {
   "cell_type": "code",
   "execution_count": 85,
   "metadata": {},
   "outputs": [
    {
     "data": {
      "text/plain": [
       " 9.0     517047\n",
       " 7.0     467235\n",
       " 3.0     324925\n",
       " NaN     290179\n",
       " 4.0     184066\n",
       " 13.0      2873\n",
       " 10.0         6\n",
       " 16.0         2\n",
       " 14.0         0\n",
       " 11.0         0\n",
       " 19.0         0\n",
       " 8.0          0\n",
       " 17.0         0\n",
       " 6.0          0\n",
       " 5.0          0\n",
       " 18.0         0\n",
       " 2.0          0\n",
       " 1.0          0\n",
       "-1.0          0\n",
       "Name: registered_via, dtype: int64"
      ]
     },
     "execution_count": 85,
     "metadata": {},
     "output_type": "execute_result"
    }
   ],
   "source": [
    "df_train['registered_via'].value_counts(dropna=False)"
   ]
  },
  {
   "cell_type": "code",
   "execution_count": 86,
   "metadata": {},
   "outputs": [
    {
     "data": {
      "text/plain": [
       " 9.0     191882\n",
       " 7.0     172968\n",
       " 3.0     119779\n",
       " NaN     107792\n",
       " 4.0      68292\n",
       " 13.0      1032\n",
       " 10.0         3\n",
       " 16.0         0\n",
       " 14.0         0\n",
       " 11.0         0\n",
       " 19.0         0\n",
       " 8.0          0\n",
       " 17.0         0\n",
       " 6.0          0\n",
       " 5.0          0\n",
       " 18.0         0\n",
       " 2.0          0\n",
       " 1.0          0\n",
       "-1.0          0\n",
       "Name: registered_via, dtype: int64"
      ]
     },
     "execution_count": 86,
     "metadata": {},
     "output_type": "execute_result"
    }
   ],
   "source": [
    "df_test['registered_via'].value_counts(dropna=False)"
   ]
  },
  {
   "cell_type": "code",
   "execution_count": 88,
   "metadata": {},
   "outputs": [],
   "source": [
    "registered_via_counts = df_train['registered_via'].value_counts()"
   ]
  },
  {
   "cell_type": "code",
   "execution_count": 106,
   "metadata": {},
   "outputs": [],
   "source": [
    "registered_via = registered_via_counts[registered_via_counts > 2000].index.astype(float).astype(str)"
   ]
  },
  {
   "cell_type": "code",
   "execution_count": 107,
   "metadata": {},
   "outputs": [
    {
     "data": {
      "text/plain": [
       "Index(['9.0', '7.0', '3.0', '4.0', '13.0'], dtype='object')"
      ]
     },
     "execution_count": 107,
     "metadata": {},
     "output_type": "execute_result"
    }
   ],
   "source": [
    "registered_via"
   ]
  },
  {
   "cell_type": "code",
   "execution_count": 111,
   "metadata": {},
   "outputs": [
    {
     "data": {
      "text/plain": [
       "0.8375515651337124"
      ]
     },
     "execution_count": 111,
     "metadata": {},
     "output_type": "execute_result"
    }
   ],
   "source": [
    "df_train[df_train['registered_via'].astype(float).astype(str).isin(registered_via)].shape[0] / df_train.shape[0]"
   ]
  },
  {
   "cell_type": "code",
   "execution_count": 112,
   "metadata": {},
   "outputs": [
    {
     "data": {
      "text/plain": [
       "0.8371056656008027"
      ]
     },
     "execution_count": 112,
     "metadata": {},
     "output_type": "execute_result"
    }
   ],
   "source": [
    "df_test[df_test['registered_via'].astype(float).astype(str).isin(registered_via)].shape[0] / df_test.shape[0]"
   ]
  },
  {
   "cell_type": "code",
   "execution_count": 113,
   "metadata": {},
   "outputs": [
    {
     "data": {
      "text/plain": [
       "0.8372184330405457"
      ]
     },
     "execution_count": 113,
     "metadata": {},
     "output_type": "execute_result"
    }
   ],
   "source": [
    "df_val[df_val['registered_via'].astype(float).astype(str).isin(registered_via)].shape[0] / df_val.shape[0]"
   ]
  },
  {
   "cell_type": "code",
   "execution_count": 115,
   "metadata": {},
   "outputs": [
    {
     "data": {
      "text/plain": [
       "{'9.0': 0, '7.0': 1, '3.0': 2, '4.0': 3, '13.0': 4}"
      ]
     },
     "execution_count": 115,
     "metadata": {},
     "output_type": "execute_result"
    }
   ],
   "source": [
    "registered_via_cats_map = {cat: i for i, cat in enumerate(registered_via)}\n",
    "registered_via_cats_map"
   ]
  },
  {
   "cell_type": "code",
   "execution_count": 124,
   "metadata": {},
   "outputs": [],
   "source": [
    "def preprocess_kkbox(df):\n",
    "    \n",
    "    def get_one_hot_encoded(values, cat_series):\n",
    "        out_array = np.zeros((cat_series.shape[0], len(values)))\n",
    "        for val in values:\n",
    "            out_array[:, val] = (cat_series == val).astype(int)\n",
    "        return out_array\n",
    "\n",
    "    df1 = df.copy(deep=True)\n",
    "    # target\n",
    "    t = df['duration'].astype(int).values\n",
    "    y = df['event'].astype(int).values\n",
    "    # work with cat features\n",
    "    gender_map = {\n",
    "        'male': 0,\n",
    "        'female': 1\n",
    "    }\n",
    "    df1['gender'] = df['gender'].astype(str).map(gender_map).fillna(0).astype(int)\n",
    "    \n",
    "    cities_map = {\n",
    "        '1.0': 0,\n",
    "        '10.0': 1,\n",
    "        '11.0': 2,\n",
    "        '12.0': 3,\n",
    "        '13.0': 4,\n",
    "        '14.0': 5,\n",
    "        '15.0': 6,\n",
    "        '16.0': 7,\n",
    "        '17.0': 8,\n",
    "        '18.0': 9,\n",
    "        '19.0': 10,\n",
    "        '20.0': 11,\n",
    "        '21.0': 12,\n",
    "        '22.0': 13,\n",
    "        '3.0': 14,\n",
    "        '4.0': 15,\n",
    "        '5.0': 16,\n",
    "        '6.0': 17,\n",
    "        '7.0': 18,\n",
    "        '8.0': 19,\n",
    "        '9.0': 20\n",
    "    }\n",
    "    df1['city'] = df['city'].astype(str).map(cities_map)\n",
    "    \n",
    "    registered_via_cats_map = {\n",
    "        '9.0': 0, \n",
    "        '7.0': 1,\n",
    "        '3.0': 2, \n",
    "        '4.0': 3,\n",
    "        '13.0': 4\n",
    "    }\n",
    "    df1['registered_via'] = df['registered_via'].astype(float).astype(str).map(registered_via_cats_map)\n",
    "    # categories to one-hot\n",
    "    gender_values = [0, 1]\n",
    "    city_values = np.arange(21)\n",
    "    registered_via_values = np.arange(5)\n",
    "    gender_ = get_one_hot_encoded(gender_values, df1['gender'])\n",
    "    city_ = get_one_hot_encoded(city_values, df1['city'])\n",
    "    registered_via_values_ = get_one_hot_encoded(registered_via_values, df1['registered_via'])  \n",
    "    # binary cols as is\n",
    "    binary_cols = ['is_auto_renew', 'is_cancel', 'strange_age', 'nan_days_since_reg_init', 'no_prev_churns'] \n",
    "    binary_ = df1[binary_cols].values\n",
    "    # continous cols  - apply batchnorm in network\n",
    "    batchnorm_cols = ['n_prev_churns', 'log_days_between_subs', 'log_days_since_reg_init', 'log_payment_plan_days', 'log_plan_list_price',\n",
    "                      'log_actual_amount_paid', 'age_at_start']\n",
    "    batchnorm_ = df1[batchnorm_cols].values\n",
    "    # final features\n",
    "    x = np.hstack([gender_, city_, registered_via_values_, binary_, batchnorm_])\n",
    "    return x, t, y"
   ]
  },
  {
   "cell_type": "code",
   "execution_count": 125,
   "metadata": {},
   "outputs": [],
   "source": [
    "x, t, y = preprocess_kkbox(df_train)\n",
    "x_val, t_val, y_val = preprocess_kkbox(df_val)\n",
    "x_t, t_t, y_t = preprocess_kkbox(df_test)"
   ]
  },
  {
   "cell_type": "code",
   "execution_count": 92,
   "metadata": {},
   "outputs": [],
   "source": [
    "# remove outliers?\n",
    "# https://towardsdatascience.com/enhancing-categorical-features-with-entity-embeddings-e6850a5e34ff"
   ]
  },
  {
   "cell_type": "code",
   "execution_count": 126,
   "metadata": {},
   "outputs": [
    {
     "data": {
      "text/plain": [
       "array([ 0.        ,  1.        ,  0.        ,  0.        ,  0.        ,\n",
       "        0.        ,  0.        ,  0.        ,  1.        ,  0.        ,\n",
       "        0.        ,  0.        ,  0.        ,  0.        ,  0.        ,\n",
       "        0.        ,  0.        ,  0.        ,  0.        ,  0.        ,\n",
       "        0.        ,  0.        ,  0.        ,  1.        ,  0.        ,\n",
       "        0.        ,  0.        ,  0.        ,  0.        ,  0.        ,\n",
       "        0.        ,  0.        ,  1.        ,  0.        ,  0.        ,\n",
       "        8.42310227,  2.07944154,  0.        ,  0.        , 28.        ])"
      ]
     },
     "execution_count": 126,
     "metadata": {},
     "output_type": "execute_result"
    }
   ],
   "source": [
    "x[0, :]"
   ]
  },
  {
   "cell_type": "code",
   "execution_count": 127,
   "metadata": {},
   "outputs": [
    {
     "data": {
      "text/plain": [
       "array([1.40996600e+06, 3.76367000e+05, 6.76807000e+05, 1.30200000e+04,\n",
       "       1.72520000e+04, 2.45270000e+04, 1.75368000e+05, 3.73130000e+04,\n",
       "       8.29720000e+04, 1.95100000e+03, 1.02430000e+04, 1.52490000e+04,\n",
       "       3.50000000e+02, 1.43600000e+03, 1.13330000e+04, 8.20920000e+04,\n",
       "       1.01400000e+04, 9.42680000e+04, 1.41680000e+05, 5.10160000e+04,\n",
       "       4.76100000e+03, 1.60710000e+04, 2.83050000e+04, 5.17047000e+05,\n",
       "       4.67235000e+05, 3.24925000e+05, 1.84066000e+05, 2.87300000e+03,\n",
       "       9.91300000e+05, 1.36400000e+04, 7.11135000e+05, 2.90179000e+05,\n",
       "       1.58136100e+06, 2.75792000e+05, 5.34668235e+05, 7.51589916e+06,\n",
       "       5.62865105e+06, 6.91072382e+06, 6.34105849e+06, 2.16227340e+07])"
      ]
     },
     "execution_count": 127,
     "metadata": {},
     "output_type": "execute_result"
    }
   ],
   "source": [
    "np.sum(x, axis=0)"
   ]
  },
  {
   "cell_type": "code",
   "execution_count": 128,
   "metadata": {},
   "outputs": [
    {
     "data": {
      "text/plain": [
       "array([1.56579000e+05, 4.20860000e+04, 7.47230000e+04, 1.47700000e+03,\n",
       "       1.89900000e+03, 2.72200000e+03, 1.95400000e+04, 4.26800000e+03,\n",
       "       9.23400000e+03, 1.97000000e+02, 1.14900000e+03, 1.79800000e+03,\n",
       "       3.60000000e+01, 1.51000000e+02, 1.33000000e+03, 9.28900000e+03,\n",
       "       1.13000000e+03, 1.05420000e+04, 1.57790000e+04, 5.55800000e+03,\n",
       "       5.43000000e+02, 1.85000000e+03, 3.11100000e+03, 5.73400000e+04,\n",
       "       5.21950000e+04, 3.60770000e+04, 2.04200000e+04, 2.94000000e+02,\n",
       "       1.10671000e+05, 1.50300000e+03, 7.86010000e+04, 3.23390000e+04,\n",
       "       1.75709000e+05, 3.07940000e+04, 5.92956736e+04, 8.36147847e+05,\n",
       "       6.26403622e+05, 7.70077567e+05, 7.07546171e+05, 2.41892800e+06])"
      ]
     },
     "execution_count": 128,
     "metadata": {},
     "output_type": "execute_result"
    }
   ],
   "source": [
    "np.sum(x_val, axis=0)"
   ]
  },
  {
   "cell_type": "code",
   "execution_count": 129,
   "metadata": {},
   "outputs": [
    {
     "data": {
      "text/plain": [
       "array([5.22664000e+05, 1.39084000e+05, 2.50667000e+05, 4.89900000e+03,\n",
       "       6.48500000e+03, 9.13000000e+03, 6.49560000e+04, 1.40090000e+04,\n",
       "       3.04500000e+04, 6.94000000e+02, 3.82200000e+03, 5.51600000e+03,\n",
       "       1.18000000e+02, 5.44000000e+02, 4.23500000e+03, 3.04030000e+04,\n",
       "       3.64400000e+03, 3.49170000e+04, 5.23880000e+04, 1.87750000e+04,\n",
       "       1.77600000e+03, 5.90500000e+03, 1.06230000e+04, 1.91882000e+05,\n",
       "       1.72968000e+05, 1.19779000e+05, 6.82920000e+04, 1.03200000e+03,\n",
       "       3.67459000e+05, 5.17500000e+03, 2.63665000e+05, 1.07792000e+05,\n",
       "       5.85690000e+05, 1.02410000e+05, 1.97567792e+05, 2.78306975e+06,\n",
       "       2.08598620e+06, 2.56343169e+06, 2.35489055e+06, 7.98484200e+06])"
      ]
     },
     "execution_count": 129,
     "metadata": {},
     "output_type": "execute_result"
    }
   ],
   "source": [
    "np.sum(x_t, axis=0)"
   ]
  },
  {
   "cell_type": "code",
   "execution_count": 131,
   "metadata": {},
   "outputs": [
    {
     "data": {
      "text/plain": [
       "(661748, 40)"
      ]
     },
     "execution_count": 131,
     "metadata": {},
     "output_type": "execute_result"
    }
   ],
   "source": [
    "x_t.shape"
   ]
  },
  {
   "cell_type": "code",
   "execution_count": null,
   "metadata": {},
   "outputs": [],
   "source": []
  },
  {
   "cell_type": "markdown",
   "metadata": {},
   "source": [
    "# Save preprocessed datasets"
   ]
  },
  {
   "cell_type": "code",
   "execution_count": 1,
   "metadata": {},
   "outputs": [],
   "source": [
    "from pycox.datasets import kkbox_v1\n",
    "import sys\n",
    "import pickle\n",
    "sys.path.append(\"../\")\n",
    "\n",
    "from tools import preprocess_kkbox, transform_kkbox"
   ]
  },
  {
   "cell_type": "markdown",
   "metadata": {},
   "source": [
    "#### 1. METABRIC"
   ]
  },
  {
   "cell_type": "code",
   "execution_count": null,
   "metadata": {},
   "outputs": [],
   "source": [
    "with open('../data/metabric_cv.pkl', 'rb') as f:\n",
    "    data = pickle.load(f)\n",
    "\n",
    "    \n",
    "with open('../data/metabric_preprocessed_train.pkl', 'wb') as f:\n",
    "    pickle.dump(data['cv'][0]['train'], f)\n",
    "    \n",
    "with open('../data/metabric_preprocessed_test.pkl', 'wb') as f:\n",
    "    pickle.dump(data['cv'][0]['test'], f)\n",
    "    \n",
    "with open('../data/metabric_preprocessed_val.pkl', 'wb') as f:\n",
    "    pickle.dump(data['val'], f)"
   ]
  },
  {
   "cell_type": "markdown",
   "metadata": {},
   "source": [
    "#### 2. KKBOX"
   ]
  },
  {
   "cell_type": "code",
   "execution_count": 2,
   "metadata": {},
   "outputs": [],
   "source": [
    "df_train = kkbox_v1.read_df(subset='train')\n",
    "df_test = kkbox_v1.read_df(subset='test')\n",
    "df_val = kkbox_v1.read_df(subset='val')\n",
    "\n",
    "x_train, t_train, y_train = preprocess_kkbox(df_train)\n",
    "x_val, t_val, y_val = preprocess_kkbox(df_val)\n",
    "x_test, t_test, y_test = preprocess_kkbox(df_test)\n",
    "\n",
    "x_train, x_test, x_val = transform_kkbox(x_train, x_test, x_val)\n",
    "\n",
    "\n",
    "data = {\n",
    "    'x': x_train,\n",
    "    'y': y_train,\n",
    "    't': t_train\n",
    "}\n",
    "with open('../data/kkbox_preprocessed_train.pkl', 'wb') as f:\n",
    "    pickle.dump(data, f)\n",
    "    \n",
    "data = {\n",
    "    'x': x_test,\n",
    "    'y': y_test,\n",
    "    't': t_test            \n",
    "}\n",
    "with open('../data/kkbox_preprocessed_test.pkl', 'wb') as f:\n",
    "    pickle.dump(data, f)\n",
    "    \n",
    "data = {\n",
    "    'x': x_val,\n",
    "    'y': y_val,\n",
    "    't': t_val            \n",
    "}\n",
    "with open('../data/kkbox_preprocessed_val.pkl', 'wb') as f:\n",
    "    pickle.dump(data, f)"
   ]
  },
  {
   "cell_type": "code",
   "execution_count": null,
   "metadata": {},
   "outputs": [],
   "source": []
  }
 ],
 "metadata": {
  "kernelspec": {
   "display_name": "Python 3",
   "language": "python",
   "name": "python3"
  },
  "language_info": {
   "codemirror_mode": {
    "name": "ipython",
    "version": 3
   },
   "file_extension": ".py",
   "mimetype": "text/x-python",
   "name": "python",
   "nbconvert_exporter": "python",
   "pygments_lexer": "ipython3",
   "version": "3.6.9"
  }
 },
 "nbformat": 4,
 "nbformat_minor": 4
}
