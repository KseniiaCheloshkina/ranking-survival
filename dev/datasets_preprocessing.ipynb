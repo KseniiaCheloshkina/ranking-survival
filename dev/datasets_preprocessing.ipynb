{
 "cells": [
  {
   "cell_type": "code",
   "execution_count": 16,
   "metadata": {},
   "outputs": [],
   "source": [
    "import pickle\n",
    "\n",
    "import pandas as pd\n",
    "import numpy as np\n",
    "import matplotlib.pyplot as plt\n",
    "from pycox.datasets import metabric\n",
    "from sklearn.model_selection import ParameterGrid\n",
    "from sklearn.model_selection import StratifiedShuffleSplit, StratifiedKFold"
   ]
  },
  {
   "cell_type": "code",
   "execution_count": 2,
   "metadata": {},
   "outputs": [],
   "source": [
    "s = 1"
   ]
  },
  {
   "cell_type": "markdown",
   "metadata": {},
   "source": [
    "#### METABRIC"
   ]
  },
  {
   "cell_type": "markdown",
   "metadata": {},
   "source": [
    "<b> Pycox (Time-to-Event Prediction with Neural Networks and Cox Regression): </b>\n",
    "    \n",
    "data -> cv + val\n",
    "cv - 5 folds stratified by y and time bin\n",
    "\n",
    "hp search:\n",
    "    for every cv fold:\n",
    "        fit on all cv folds except this fold\n",
    "        save quality on val\n",
    "select the best parameters by val quality\n",
    "\n",
    "train and evaluate model with best parameters in 5fold CV (train on 4, test on one) - out average\n",
    "\n",
    "\n",
    "As the four data sets are somewhat small, we scored our fitted models using 5-fold cross-\n",
    "validation, where the hyperparameter search was performed individually for each fold. For\n",
    "all the neural networks, we performed a random hyperparameter search over 300 parameter\n",
    "configurations and chose the model with the best score on a held-out validation set.\n",
    "we sample 300 random parameter configurations for each method,\n",
    "for each fold of each data set\n",
    "Table 2 shows the time-dependent concordance, or C td , averaged over the five cross-\n",
    "validation folds."
   ]
  },
  {
   "cell_type": "code",
   "execution_count": 3,
   "metadata": {},
   "outputs": [],
   "source": [
    "df_all = metabric.read_df()"
   ]
  },
  {
   "cell_type": "code",
   "execution_count": 4,
   "metadata": {},
   "outputs": [
    {
     "data": {
      "text/html": [
       "<div>\n",
       "<style scoped>\n",
       "    .dataframe tbody tr th:only-of-type {\n",
       "        vertical-align: middle;\n",
       "    }\n",
       "\n",
       "    .dataframe tbody tr th {\n",
       "        vertical-align: top;\n",
       "    }\n",
       "\n",
       "    .dataframe thead th {\n",
       "        text-align: right;\n",
       "    }\n",
       "</style>\n",
       "<table border=\"1\" class=\"dataframe\">\n",
       "  <thead>\n",
       "    <tr style=\"text-align: right;\">\n",
       "      <th></th>\n",
       "      <th>x0</th>\n",
       "      <th>x1</th>\n",
       "      <th>x2</th>\n",
       "      <th>x3</th>\n",
       "      <th>x4</th>\n",
       "      <th>x5</th>\n",
       "      <th>x6</th>\n",
       "      <th>x7</th>\n",
       "      <th>x8</th>\n",
       "      <th>duration</th>\n",
       "      <th>event</th>\n",
       "    </tr>\n",
       "  </thead>\n",
       "  <tbody>\n",
       "    <tr>\n",
       "      <td>count</td>\n",
       "      <td>1904.000000</td>\n",
       "      <td>1904.000000</td>\n",
       "      <td>1904.000000</td>\n",
       "      <td>1904.000000</td>\n",
       "      <td>1904.000000</td>\n",
       "      <td>1904.000000</td>\n",
       "      <td>1904.000000</td>\n",
       "      <td>1904.000000</td>\n",
       "      <td>1904.000000</td>\n",
       "      <td>1904.000000</td>\n",
       "      <td>1904.000000</td>\n",
       "    </tr>\n",
       "    <tr>\n",
       "      <td>mean</td>\n",
       "      <td>6.210830</td>\n",
       "      <td>6.237199</td>\n",
       "      <td>10.765366</td>\n",
       "      <td>5.872822</td>\n",
       "      <td>0.616597</td>\n",
       "      <td>0.597164</td>\n",
       "      <td>0.207983</td>\n",
       "      <td>0.758929</td>\n",
       "      <td>61.087112</td>\n",
       "      <td>125.025055</td>\n",
       "      <td>0.579307</td>\n",
       "    </tr>\n",
       "    <tr>\n",
       "      <td>std</td>\n",
       "      <td>0.862968</td>\n",
       "      <td>1.020872</td>\n",
       "      <td>1.357359</td>\n",
       "      <td>0.341254</td>\n",
       "      <td>0.486344</td>\n",
       "      <td>0.490591</td>\n",
       "      <td>0.405970</td>\n",
       "      <td>0.427844</td>\n",
       "      <td>12.978707</td>\n",
       "      <td>76.334206</td>\n",
       "      <td>0.493800</td>\n",
       "    </tr>\n",
       "    <tr>\n",
       "      <td>min</td>\n",
       "      <td>5.158794</td>\n",
       "      <td>4.860645</td>\n",
       "      <td>6.372949</td>\n",
       "      <td>5.101093</td>\n",
       "      <td>0.000000</td>\n",
       "      <td>0.000000</td>\n",
       "      <td>0.000000</td>\n",
       "      <td>0.000000</td>\n",
       "      <td>21.930000</td>\n",
       "      <td>0.000000</td>\n",
       "      <td>0.000000</td>\n",
       "    </tr>\n",
       "    <tr>\n",
       "      <td>25%</td>\n",
       "      <td>5.692096</td>\n",
       "      <td>5.408728</td>\n",
       "      <td>9.969681</td>\n",
       "      <td>5.622290</td>\n",
       "      <td>0.000000</td>\n",
       "      <td>0.000000</td>\n",
       "      <td>0.000000</td>\n",
       "      <td>1.000000</td>\n",
       "      <td>51.375001</td>\n",
       "      <td>60.824999</td>\n",
       "      <td>0.000000</td>\n",
       "    </tr>\n",
       "    <tr>\n",
       "      <td>50%</td>\n",
       "      <td>5.949283</td>\n",
       "      <td>5.877591</td>\n",
       "      <td>10.530301</td>\n",
       "      <td>5.816998</td>\n",
       "      <td>1.000000</td>\n",
       "      <td>1.000000</td>\n",
       "      <td>0.000000</td>\n",
       "      <td>1.000000</td>\n",
       "      <td>61.769999</td>\n",
       "      <td>114.900002</td>\n",
       "      <td>1.000000</td>\n",
       "    </tr>\n",
       "    <tr>\n",
       "      <td>75%</td>\n",
       "      <td>6.458780</td>\n",
       "      <td>6.899220</td>\n",
       "      <td>11.159306</td>\n",
       "      <td>6.058293</td>\n",
       "      <td>1.000000</td>\n",
       "      <td>1.000000</td>\n",
       "      <td>0.000000</td>\n",
       "      <td>1.000000</td>\n",
       "      <td>70.592497</td>\n",
       "      <td>184.474995</td>\n",
       "      <td>1.000000</td>\n",
       "    </tr>\n",
       "    <tr>\n",
       "      <td>max</td>\n",
       "      <td>14.443632</td>\n",
       "      <td>9.932116</td>\n",
       "      <td>14.643900</td>\n",
       "      <td>7.658863</td>\n",
       "      <td>1.000000</td>\n",
       "      <td>1.000000</td>\n",
       "      <td>1.000000</td>\n",
       "      <td>1.000000</td>\n",
       "      <td>96.290001</td>\n",
       "      <td>355.200012</td>\n",
       "      <td>1.000000</td>\n",
       "    </tr>\n",
       "  </tbody>\n",
       "</table>\n",
       "</div>"
      ],
      "text/plain": [
       "                x0           x1           x2           x3           x4  \\\n",
       "count  1904.000000  1904.000000  1904.000000  1904.000000  1904.000000   \n",
       "mean      6.210830     6.237199    10.765366     5.872822     0.616597   \n",
       "std       0.862968     1.020872     1.357359     0.341254     0.486344   \n",
       "min       5.158794     4.860645     6.372949     5.101093     0.000000   \n",
       "25%       5.692096     5.408728     9.969681     5.622290     0.000000   \n",
       "50%       5.949283     5.877591    10.530301     5.816998     1.000000   \n",
       "75%       6.458780     6.899220    11.159306     6.058293     1.000000   \n",
       "max      14.443632     9.932116    14.643900     7.658863     1.000000   \n",
       "\n",
       "                x5           x6           x7           x8     duration  \\\n",
       "count  1904.000000  1904.000000  1904.000000  1904.000000  1904.000000   \n",
       "mean      0.597164     0.207983     0.758929    61.087112   125.025055   \n",
       "std       0.490591     0.405970     0.427844    12.978707    76.334206   \n",
       "min       0.000000     0.000000     0.000000    21.930000     0.000000   \n",
       "25%       0.000000     0.000000     1.000000    51.375001    60.824999   \n",
       "50%       1.000000     0.000000     1.000000    61.769999   114.900002   \n",
       "75%       1.000000     0.000000     1.000000    70.592497   184.474995   \n",
       "max       1.000000     1.000000     1.000000    96.290001   355.200012   \n",
       "\n",
       "             event  \n",
       "count  1904.000000  \n",
       "mean      0.579307  \n",
       "std       0.493800  \n",
       "min       0.000000  \n",
       "25%       0.000000  \n",
       "50%       1.000000  \n",
       "75%       1.000000  \n",
       "max       1.000000  "
      ]
     },
     "execution_count": 4,
     "metadata": {},
     "output_type": "execute_result"
    }
   ],
   "source": [
    "df_all.describe()"
   ]
  },
  {
   "cell_type": "code",
   "execution_count": 7,
   "metadata": {},
   "outputs": [],
   "source": [
    "df_all = df_all[df_all['duration'] != 0]"
   ]
  },
  {
   "cell_type": "code",
   "execution_count": 8,
   "metadata": {},
   "outputs": [],
   "source": [
    "cols_standardize = ['x0', 'x1', 'x2', 'x3', 'x8']\n",
    "cols_leave = ['x4', 'x5', 'x6', 'x7']"
   ]
  },
  {
   "cell_type": "code",
   "execution_count": 9,
   "metadata": {},
   "outputs": [
    {
     "data": {
      "image/png": "[encoded data removed]",
      "text/plain": [
       "<Figure size 432x288 with 1 Axes>"
      ]
     },
     "metadata": {
      "needs_background": "light"
     },
     "output_type": "display_data"
    }
   ],
   "source": [
    "df_all['duration'].hist(alpha=0.6);"
   ]
  },
  {
   "cell_type": "code",
   "execution_count": 10,
   "metadata": {},
   "outputs": [
    {
     "name": "stderr",
     "output_type": "stream",
     "text": [
      "/home/islam/anaconda3/envs/pycox/lib/python3.6/site-packages/ipykernel_launcher.py:4: SettingWithCopyWarning: \n",
      "A value is trying to be set on a copy of a slice from a DataFrame.\n",
      "Try using .loc[row_indexer,col_indexer] = value instead\n",
      "\n",
      "See the caveats in the documentation: http://pandas.pydata.org/pandas-docs/stable/user_guide/indexing.html#returning-a-view-versus-a-copy\n",
      "  after removing the cwd from sys.path.\n",
      "/home/islam/anaconda3/envs/pycox/lib/python3.6/site-packages/ipykernel_launcher.py:5: SettingWithCopyWarning: \n",
      "A value is trying to be set on a copy of a slice from a DataFrame.\n",
      "Try using .loc[row_indexer,col_indexer] = value instead\n",
      "\n",
      "See the caveats in the documentation: http://pandas.pydata.org/pandas-docs/stable/user_guide/indexing.html#returning-a-view-versus-a-copy\n",
      "  \"\"\"\n"
     ]
    }
   ],
   "source": [
    "quan = np.arange(0, 1, 0.2)\n",
    "bins = df_all['duration'].quantile(quan).values\n",
    "bins = np.append(bins, np.inf)\n",
    "df_all['duration_bin'] = pd.cut(df_all['duration'], bins=bins, labels=np.arange(0, 5, 1))\n",
    "df_all['strata'] = df_all['event'].astype(str) + \"_\" + df_all['duration_bin'].astype(int).astype(str)"
   ]
  },
  {
   "cell_type": "code",
   "execution_count": 11,
   "metadata": {},
   "outputs": [
    {
     "data": {
      "text/plain": [
       "0_0                        45\n",
       "0_1                       110\n",
       "0_2                       181\n",
       "0_3                       211\n",
       "0_4                       253\n",
       "1_-9223372036854775808      1\n",
       "1_0                       335\n",
       "1_1                       270\n",
       "1_2                       200\n",
       "1_3                       170\n",
       "1_4                       127\n",
       "Name: strata, dtype: int64"
      ]
     },
     "execution_count": 11,
     "metadata": {},
     "output_type": "execute_result"
    }
   ],
   "source": [
    "df_all['strata'].value_counts(dropna=False).sort_index()"
   ]
  },
  {
   "cell_type": "code",
   "execution_count": 12,
   "metadata": {},
   "outputs": [],
   "source": [
    "df_all = df_all[df_all['strata'] != '1_-9223372036854775808']"
   ]
  },
  {
   "cell_type": "code",
   "execution_count": 13,
   "metadata": {},
   "outputs": [
    {
     "data": {
      "text/plain": [
       "0_0     45\n",
       "0_1    110\n",
       "0_2    181\n",
       "0_3    211\n",
       "0_4    253\n",
       "1_0    335\n",
       "1_1    270\n",
       "1_2    200\n",
       "1_3    170\n",
       "1_4    127\n",
       "Name: strata, dtype: int64"
      ]
     },
     "execution_count": 13,
     "metadata": {},
     "output_type": "execute_result"
    }
   ],
   "source": [
    "df_all['strata'].value_counts(dropna=False).sort_index()"
   ]
  },
  {
   "cell_type": "code",
   "execution_count": 14,
   "metadata": {},
   "outputs": [],
   "source": [
    "# get validation data\n",
    "sss = StratifiedShuffleSplit(n_splits=1, test_size=0.2, random_state=1)\n",
    "df_all.reset_index(drop=True, inplace=True)\n",
    "for tr_i, te_i in sss.split(df_all, df_all['strata']):\n",
    "    # split\n",
    "    df_val = df_all.iloc[te_i, ]\n",
    "    df_cv = df_all.iloc[tr_i, ]\n",
    "    # preprocess val\n",
    "    m = df_cv[cols_standardize].mean()\n",
    "    v = df_cv[cols_standardize].std()\n",
    "    df_val_tr = df_val.copy(deep=True)\n",
    "    for idx, col in enumerate(cols_standardize):\n",
    "        df_val_tr[col] = df_val_tr[col] - m.values[idx]\n",
    "        df_val_tr[col] = df_val_tr[col] / v.values[idx]\n",
    "    x_val = df_val_tr[cols_standardize + cols_leave].values\n",
    "    y_val = df_val_tr['event'].values\n",
    "    t_val = df_val_tr['duration'].astype(int).values"
   ]
  },
  {
   "cell_type": "code",
   "execution_count": 15,
   "metadata": {},
   "outputs": [
    {
     "name": "stderr",
     "output_type": "stream",
     "text": [
      "/home/islam/anaconda3/envs/pycox/lib/python3.6/site-packages/ipykernel_launcher.py:13: SettingWithCopyWarning: \n",
      "A value is trying to be set on a copy of a slice from a DataFrame.\n",
      "Try using .loc[row_indexer,col_indexer] = value instead\n",
      "\n",
      "See the caveats in the documentation: http://pandas.pydata.org/pandas-docs/stable/user_guide/indexing.html#returning-a-view-versus-a-copy\n",
      "  del sys.path[0]\n",
      "/home/islam/anaconda3/envs/pycox/lib/python3.6/site-packages/ipykernel_launcher.py:14: SettingWithCopyWarning: \n",
      "A value is trying to be set on a copy of a slice from a DataFrame.\n",
      "Try using .loc[row_indexer,col_indexer] = value instead\n",
      "\n",
      "See the caveats in the documentation: http://pandas.pydata.org/pandas-docs/stable/user_guide/indexing.html#returning-a-view-versus-a-copy\n",
      "  \n",
      "/home/islam/anaconda3/envs/pycox/lib/python3.6/site-packages/ipykernel_launcher.py:15: SettingWithCopyWarning: \n",
      "A value is trying to be set on a copy of a slice from a DataFrame.\n",
      "Try using .loc[row_indexer,col_indexer] = value instead\n",
      "\n",
      "See the caveats in the documentation: http://pandas.pydata.org/pandas-docs/stable/user_guide/indexing.html#returning-a-view-versus-a-copy\n",
      "  from ipykernel import kernelapp as app\n",
      "/home/islam/anaconda3/envs/pycox/lib/python3.6/site-packages/ipykernel_launcher.py:16: SettingWithCopyWarning: \n",
      "A value is trying to be set on a copy of a slice from a DataFrame.\n",
      "Try using .loc[row_indexer,col_indexer] = value instead\n",
      "\n",
      "See the caveats in the documentation: http://pandas.pydata.org/pandas-docs/stable/user_guide/indexing.html#returning-a-view-versus-a-copy\n",
      "  app.launch_new_instance()\n"
     ]
    }
   ],
   "source": [
    "# get cv data\n",
    "df_cv_data = dict()\n",
    "df_cv.reset_index(drop=True, inplace=True)\n",
    "sf = StratifiedKFold(n_splits=5, random_state=1)\n",
    "for i, (tr_i, te_i) in enumerate(sf.split(df_cv, df_cv['strata'])):\n",
    "    # split\n",
    "    df_train = df_cv.iloc[tr_i, ]\n",
    "    df_test = df_cv.iloc[te_i, ]\n",
    "    # preprocess\n",
    "    m = df_train[cols_standardize].mean()\n",
    "    v = df_train[cols_standardize].std()\n",
    "    for idx, col in enumerate(cols_standardize):\n",
    "        df_train[col] = df_train[col] - m.values[idx]\n",
    "        df_train[col] = df_train[col] / v.values[idx]\n",
    "        df_test[col] = df_test[col] - m.values[idx]\n",
    "        df_test[col] = df_test[col] / v.values[idx]\n",
    "    df_cv_data[i] = {\n",
    "        'test': {\n",
    "            'x': df_test[cols_standardize + cols_leave].values,\n",
    "            'y': df_test['event'].values,\n",
    "            't': df_test['duration'].astype(int).values \n",
    "        },\n",
    "        'train': {\n",
    "            'x': df_train[cols_standardize + cols_leave].values,\n",
    "            'y': df_train['event'].values,\n",
    "            't': df_train['duration'].astype(int).values \n",
    "        }\n",
    "    }"
   ]
  },
  {
   "cell_type": "code",
   "execution_count": 16,
   "metadata": {},
   "outputs": [],
   "source": [
    "data = {\n",
    "    'val': {\n",
    "        'x': x_val,\n",
    "        'y': y_val,\n",
    "        't': t_val\n",
    "    },\n",
    "    'cv': df_cv_data\n",
    "}\n",
    "\n",
    "with open('../data/metabric_cv.pkl', 'wb') as f:\n",
    "    pickle.dump(data, f)"
   ]
  },
  {
   "cell_type": "code",
   "execution_count": null,
   "metadata": {},
   "outputs": [],
   "source": []
  },
  {
   "cell_type": "markdown",
   "metadata": {},
   "source": [
    "### KKBOX"
   ]
  },
  {
   "cell_type": "markdown",
   "metadata": {},
   "source": [
    "- split on train-test-val by client\n",
    "- select parameters on val\n",
    "- and also report results on test with selected parameters\n",
    "- how to get: pycox_examples/01_introduction_save_data.ipynb"
   ]
  },
  {
   "cell_type": "markdown",
   "metadata": {},
   "source": [
    "<b> Pycox (Time-to-Event Prediction with Neural Networks and Cox Regression): </b>\n",
    "    \n",
    "data -> train - test - val\n",
    "\n",
    "select hyperparameters with the help of val\n",
    "\n",
    "report results on test when each model if fitted 5 times on train\n"
   ]
  },
  {
   "cell_type": "code",
   "execution_count": 23,
   "metadata": {},
   "outputs": [],
   "source": [
    "from pycox.datasets import kkbox_v1"
   ]
  },
  {
   "cell_type": "code",
   "execution_count": 119,
   "metadata": {},
   "outputs": [
    {
     "data": {
      "text/plain": [
       "(1786333, 18)"
      ]
     },
     "execution_count": 119,
     "metadata": {},
     "output_type": "execute_result"
    }
   ],
   "source": [
    "df_train = kkbox_v1.read_df(subset='train')\n",
    "df_train.shape"
   ]
  },
  {
   "cell_type": "code",
   "execution_count": 120,
   "metadata": {},
   "outputs": [
    {
     "data": {
      "text/html": [
       "<div>\n",
       "<style scoped>\n",
       "    .dataframe tbody tr th:only-of-type {\n",
       "        vertical-align: middle;\n",
       "    }\n",
       "\n",
       "    .dataframe tbody tr th {\n",
       "        vertical-align: top;\n",
       "    }\n",
       "\n",
       "    .dataframe thead th {\n",
       "        text-align: right;\n",
       "    }\n",
       "</style>\n",
       "<table border=\"1\" class=\"dataframe\">\n",
       "  <thead>\n",
       "    <tr style=\"text-align: right;\">\n",
       "      <th></th>\n",
       "      <th>msno</th>\n",
       "      <th>event</th>\n",
       "      <th>n_prev_churns</th>\n",
       "      <th>log_days_between_subs</th>\n",
       "      <th>duration</th>\n",
       "      <th>log_days_since_reg_init</th>\n",
       "      <th>log_payment_plan_days</th>\n",
       "      <th>log_plan_list_price</th>\n",
       "      <th>log_actual_amount_paid</th>\n",
       "      <th>is_auto_renew</th>\n",
       "      <th>is_cancel</th>\n",
       "      <th>city</th>\n",
       "      <th>gender</th>\n",
       "      <th>registered_via</th>\n",
       "      <th>age_at_start</th>\n",
       "      <th>strange_age</th>\n",
       "      <th>nan_days_since_reg_init</th>\n",
       "      <th>no_prev_churns</th>\n",
       "    </tr>\n",
       "  </thead>\n",
       "  <tbody>\n",
       "    <tr>\n",
       "      <td>1338502</td>\n",
       "      <td>juBAwNSe6LXGdAj4/HPVq+S0PZB5RY2iNyVWH0C3w/M=</td>\n",
       "      <td>1.0</td>\n",
       "      <td>0.0</td>\n",
       "      <td>0.0</td>\n",
       "      <td>700.0</td>\n",
       "      <td>6.280396</td>\n",
       "      <td>3.433987</td>\n",
       "      <td>5.010635</td>\n",
       "      <td>5.010635</td>\n",
       "      <td>0.0</td>\n",
       "      <td>0.0</td>\n",
       "      <td>13</td>\n",
       "      <td>female</td>\n",
       "      <td>9</td>\n",
       "      <td>20.0</td>\n",
       "      <td>0.0</td>\n",
       "      <td>0.0</td>\n",
       "      <td>1.0</td>\n",
       "    </tr>\n",
       "    <tr>\n",
       "      <td>192119</td>\n",
       "      <td>4pS3kmRE1QP2ETx1Z7qinGIErXqiXVasfSyy7hwX07o=</td>\n",
       "      <td>0.0</td>\n",
       "      <td>0.0</td>\n",
       "      <td>0.0</td>\n",
       "      <td>180.0</td>\n",
       "      <td>6.583409</td>\n",
       "      <td>3.433987</td>\n",
       "      <td>4.605170</td>\n",
       "      <td>4.605170</td>\n",
       "      <td>1.0</td>\n",
       "      <td>0.0</td>\n",
       "      <td>1</td>\n",
       "      <td>NaN</td>\n",
       "      <td>7</td>\n",
       "      <td>-0.0</td>\n",
       "      <td>1.0</td>\n",
       "      <td>0.0</td>\n",
       "      <td>1.0</td>\n",
       "    </tr>\n",
       "    <tr>\n",
       "      <td>834324</td>\n",
       "      <td>RrLUN/704wV253moeuhkuTtJaDA95C0Hr1oGA9eNv4k=</td>\n",
       "      <td>1.0</td>\n",
       "      <td>0.0</td>\n",
       "      <td>0.0</td>\n",
       "      <td>136.0</td>\n",
       "      <td>0.693147</td>\n",
       "      <td>3.433987</td>\n",
       "      <td>5.010635</td>\n",
       "      <td>5.010635</td>\n",
       "      <td>1.0</td>\n",
       "      <td>0.0</td>\n",
       "      <td>1</td>\n",
       "      <td>NaN</td>\n",
       "      <td>7</td>\n",
       "      <td>0.0</td>\n",
       "      <td>1.0</td>\n",
       "      <td>0.0</td>\n",
       "      <td>1.0</td>\n",
       "    </tr>\n",
       "    <tr>\n",
       "      <td>766477</td>\n",
       "      <td>PPtTLp1bv67nWBoOSv/n+ZVMRYz5xiv5v9cWDC5nC2c=</td>\n",
       "      <td>1.0</td>\n",
       "      <td>0.0</td>\n",
       "      <td>0.0</td>\n",
       "      <td>231.0</td>\n",
       "      <td>4.976734</td>\n",
       "      <td>3.465736</td>\n",
       "      <td>5.010635</td>\n",
       "      <td>5.010635</td>\n",
       "      <td>1.0</td>\n",
       "      <td>0.0</td>\n",
       "      <td>14</td>\n",
       "      <td>male</td>\n",
       "      <td>3</td>\n",
       "      <td>24.0</td>\n",
       "      <td>0.0</td>\n",
       "      <td>0.0</td>\n",
       "      <td>1.0</td>\n",
       "    </tr>\n",
       "    <tr>\n",
       "      <td>684670</td>\n",
       "      <td>MU8OBTrgEDkmDx3a75PJWqXQV6zfwJVfXMX/CuUIpIM=</td>\n",
       "      <td>1.0</td>\n",
       "      <td>0.0</td>\n",
       "      <td>0.0</td>\n",
       "      <td>104.0</td>\n",
       "      <td>4.330733</td>\n",
       "      <td>3.433987</td>\n",
       "      <td>5.010635</td>\n",
       "      <td>5.010635</td>\n",
       "      <td>0.0</td>\n",
       "      <td>0.0</td>\n",
       "      <td>1</td>\n",
       "      <td>NaN</td>\n",
       "      <td>9</td>\n",
       "      <td>0.0</td>\n",
       "      <td>1.0</td>\n",
       "      <td>0.0</td>\n",
       "      <td>1.0</td>\n",
       "    </tr>\n",
       "    <tr>\n",
       "      <td>1312527</td>\n",
       "      <td>iz0HBr+zN83g29TC6FCOKWVDjxnWZ5RSnCsgkLnL3P8=</td>\n",
       "      <td>1.0</td>\n",
       "      <td>0.0</td>\n",
       "      <td>0.0</td>\n",
       "      <td>203.0</td>\n",
       "      <td>5.690359</td>\n",
       "      <td>3.433987</td>\n",
       "      <td>4.867534</td>\n",
       "      <td>4.867534</td>\n",
       "      <td>1.0</td>\n",
       "      <td>0.0</td>\n",
       "      <td>8</td>\n",
       "      <td>male</td>\n",
       "      <td>4</td>\n",
       "      <td>25.0</td>\n",
       "      <td>0.0</td>\n",
       "      <td>0.0</td>\n",
       "      <td>1.0</td>\n",
       "    </tr>\n",
       "    <tr>\n",
       "      <td>987132</td>\n",
       "      <td>XK7ya7SMlJFX32Xh6dHU1umxDSIER5dlTc5vdycCVJ4=</td>\n",
       "      <td>1.0</td>\n",
       "      <td>0.0</td>\n",
       "      <td>0.0</td>\n",
       "      <td>247.0</td>\n",
       "      <td>0.693147</td>\n",
       "      <td>0.000000</td>\n",
       "      <td>0.000000</td>\n",
       "      <td>4.867534</td>\n",
       "      <td>1.0</td>\n",
       "      <td>0.0</td>\n",
       "      <td>1</td>\n",
       "      <td>NaN</td>\n",
       "      <td>7</td>\n",
       "      <td>0.0</td>\n",
       "      <td>1.0</td>\n",
       "      <td>0.0</td>\n",
       "      <td>1.0</td>\n",
       "    </tr>\n",
       "    <tr>\n",
       "      <td>1674399</td>\n",
       "      <td>vx7XuEfd8CBcEkP9OccN8SOqhfgkTRzERax2/KIR4C4=</td>\n",
       "      <td>0.0</td>\n",
       "      <td>0.0</td>\n",
       "      <td>0.0</td>\n",
       "      <td>790.0</td>\n",
       "      <td>7.247793</td>\n",
       "      <td>3.433987</td>\n",
       "      <td>5.010635</td>\n",
       "      <td>5.010635</td>\n",
       "      <td>1.0</td>\n",
       "      <td>0.0</td>\n",
       "      <td>1</td>\n",
       "      <td>NaN</td>\n",
       "      <td>7</td>\n",
       "      <td>0.0</td>\n",
       "      <td>1.0</td>\n",
       "      <td>0.0</td>\n",
       "      <td>1.0</td>\n",
       "    </tr>\n",
       "    <tr>\n",
       "      <td>713387</td>\n",
       "      <td>NWV9+VAv+EePRlQyQW2FR9CthyAFwHWDXApGRPPxl/U=</td>\n",
       "      <td>1.0</td>\n",
       "      <td>2.0</td>\n",
       "      <td>0.0</td>\n",
       "      <td>48.0</td>\n",
       "      <td>6.620073</td>\n",
       "      <td>2.397895</td>\n",
       "      <td>0.000000</td>\n",
       "      <td>0.000000</td>\n",
       "      <td>0.0</td>\n",
       "      <td>0.0</td>\n",
       "      <td>15</td>\n",
       "      <td>female</td>\n",
       "      <td>3</td>\n",
       "      <td>26.0</td>\n",
       "      <td>0.0</td>\n",
       "      <td>0.0</td>\n",
       "      <td>0.0</td>\n",
       "    </tr>\n",
       "    <tr>\n",
       "      <td>923582</td>\n",
       "      <td>V2+YKPp1Nkn+u5BfBOBPzeo9DvFWGvisIRHPJCU2RjQ=</td>\n",
       "      <td>1.0</td>\n",
       "      <td>0.0</td>\n",
       "      <td>0.0</td>\n",
       "      <td>175.0</td>\n",
       "      <td>6.192362</td>\n",
       "      <td>3.433987</td>\n",
       "      <td>5.010635</td>\n",
       "      <td>5.010635</td>\n",
       "      <td>0.0</td>\n",
       "      <td>0.0</td>\n",
       "      <td>5</td>\n",
       "      <td>male</td>\n",
       "      <td>7</td>\n",
       "      <td>14.0</td>\n",
       "      <td>0.0</td>\n",
       "      <td>0.0</td>\n",
       "      <td>1.0</td>\n",
       "    </tr>\n",
       "  </tbody>\n",
       "</table>\n",
       "</div>"
      ],
      "text/plain": [
       "                                                 msno  event  n_prev_churns  \\\n",
       "1338502  juBAwNSe6LXGdAj4/HPVq+S0PZB5RY2iNyVWH0C3w/M=    1.0            0.0   \n",
       "192119   4pS3kmRE1QP2ETx1Z7qinGIErXqiXVasfSyy7hwX07o=    0.0            0.0   \n",
       "834324   RrLUN/704wV253moeuhkuTtJaDA95C0Hr1oGA9eNv4k=    1.0            0.0   \n",
       "766477   PPtTLp1bv67nWBoOSv/n+ZVMRYz5xiv5v9cWDC5nC2c=    1.0            0.0   \n",
       "684670   MU8OBTrgEDkmDx3a75PJWqXQV6zfwJVfXMX/CuUIpIM=    1.0            0.0   \n",
       "1312527  iz0HBr+zN83g29TC6FCOKWVDjxnWZ5RSnCsgkLnL3P8=    1.0            0.0   \n",
       "987132   XK7ya7SMlJFX32Xh6dHU1umxDSIER5dlTc5vdycCVJ4=    1.0            0.0   \n",
       "1674399  vx7XuEfd8CBcEkP9OccN8SOqhfgkTRzERax2/KIR4C4=    0.0            0.0   \n",
       "713387   NWV9+VAv+EePRlQyQW2FR9CthyAFwHWDXApGRPPxl/U=    1.0            2.0   \n",
       "923582   V2+YKPp1Nkn+u5BfBOBPzeo9DvFWGvisIRHPJCU2RjQ=    1.0            0.0   \n",
       "\n",
       "         log_days_between_subs  duration  log_days_since_reg_init  \\\n",
       "1338502                    0.0     700.0                 6.280396   \n",
       "192119                     0.0     180.0                 6.583409   \n",
       "834324                     0.0     136.0                 0.693147   \n",
       "766477                     0.0     231.0                 4.976734   \n",
       "684670                     0.0     104.0                 4.330733   \n",
       "1312527                    0.0     203.0                 5.690359   \n",
       "987132                     0.0     247.0                 0.693147   \n",
       "1674399                    0.0     790.0                 7.247793   \n",
       "713387                     0.0      48.0                 6.620073   \n",
       "923582                     0.0     175.0                 6.192362   \n",
       "\n",
       "         log_payment_plan_days  log_plan_list_price  log_actual_amount_paid  \\\n",
       "1338502               3.433987             5.010635                5.010635   \n",
       "192119                3.433987             4.605170                4.605170   \n",
       "834324                3.433987             5.010635                5.010635   \n",
       "766477                3.465736             5.010635                5.010635   \n",
       "684670                3.433987             5.010635                5.010635   \n",
       "1312527               3.433987             4.867534                4.867534   \n",
       "987132                0.000000             0.000000                4.867534   \n",
       "1674399               3.433987             5.010635                5.010635   \n",
       "713387                2.397895             0.000000                0.000000   \n",
       "923582                3.433987             5.010635                5.010635   \n",
       "\n",
       "         is_auto_renew  is_cancel city  gender registered_via  age_at_start  \\\n",
       "1338502            0.0        0.0   13  female              9          20.0   \n",
       "192119             1.0        0.0    1     NaN              7          -0.0   \n",
       "834324             1.0        0.0    1     NaN              7           0.0   \n",
       "766477             1.0        0.0   14    male              3          24.0   \n",
       "684670             0.0        0.0    1     NaN              9           0.0   \n",
       "1312527            1.0        0.0    8    male              4          25.0   \n",
       "987132             1.0        0.0    1     NaN              7           0.0   \n",
       "1674399            1.0        0.0    1     NaN              7           0.0   \n",
       "713387             0.0        0.0   15  female              3          26.0   \n",
       "923582             0.0        0.0    5    male              7          14.0   \n",
       "\n",
       "         strange_age  nan_days_since_reg_init  no_prev_churns  \n",
       "1338502          0.0                      0.0             1.0  \n",
       "192119           1.0                      0.0             1.0  \n",
       "834324           1.0                      0.0             1.0  \n",
       "766477           0.0                      0.0             1.0  \n",
       "684670           1.0                      0.0             1.0  \n",
       "1312527          0.0                      0.0             1.0  \n",
       "987132           1.0                      0.0             1.0  \n",
       "1674399          1.0                      0.0             1.0  \n",
       "713387           0.0                      0.0             0.0  \n",
       "923582           0.0                      0.0             1.0  "
      ]
     },
     "execution_count": 120,
     "metadata": {},
     "output_type": "execute_result"
    }
   ],
   "source": [
    "df_train.sample(10)"
   ]
  },
  {
   "cell_type": "code",
   "execution_count": 105,
   "metadata": {},
   "outputs": [
    {
     "data": {
      "text/plain": [
       "(661748, 18)"
      ]
     },
     "execution_count": 105,
     "metadata": {},
     "output_type": "execute_result"
    }
   ],
   "source": [
    "df_test = kkbox_v1.read_df(subset='test')\n",
    "df_test.shape"
   ]
  },
  {
   "cell_type": "code",
   "execution_count": 106,
   "metadata": {},
   "outputs": [
    {
     "data": {
      "text/plain": [
       "(198665, 18)"
      ]
     },
     "execution_count": 106,
     "metadata": {},
     "output_type": "execute_result"
    }
   ],
   "source": [
    "df_val = kkbox_v1.read_df(subset='val')\n",
    "df_val.shape"
   ]
  },
  {
   "cell_type": "code",
   "execution_count": null,
   "metadata": {},
   "outputs": [],
   "source": []
  },
  {
   "cell_type": "code",
   "execution_count": 107,
   "metadata": {},
   "outputs": [
    {
     "name": "stdout",
     "output_type": "stream",
     "text": [
      "Zero duration in train:  (0, 18)\n",
      "Zero duration in test:  (0, 18)\n",
      "Zero duration in val:  (0, 18)\n"
     ]
    }
   ],
   "source": [
    "print(\"Zero duration in train: \", df_train[df_train['duration'] == 0].shape)\n",
    "print(\"Zero duration in test: \", df_test[df_test['duration'] == 0].shape)\n",
    "print(\"Zero duration in val: \", df_val[df_val['duration'] == 0].shape)"
   ]
  },
  {
   "cell_type": "code",
   "execution_count": 108,
   "metadata": {},
   "outputs": [
    {
     "data": {
      "text/html": [
       "<div>\n",
       "<style scoped>\n",
       "    .dataframe tbody tr th:only-of-type {\n",
       "        vertical-align: middle;\n",
       "    }\n",
       "\n",
       "    .dataframe tbody tr th {\n",
       "        vertical-align: top;\n",
       "    }\n",
       "\n",
       "    .dataframe thead th {\n",
       "        text-align: right;\n",
       "    }\n",
       "</style>\n",
       "<table border=\"1\" class=\"dataframe\">\n",
       "  <thead>\n",
       "    <tr style=\"text-align: right;\">\n",
       "      <th></th>\n",
       "      <th>event</th>\n",
       "      <th>n_prev_churns</th>\n",
       "      <th>log_days_between_subs</th>\n",
       "      <th>duration</th>\n",
       "      <th>log_days_since_reg_init</th>\n",
       "      <th>log_payment_plan_days</th>\n",
       "      <th>log_plan_list_price</th>\n",
       "      <th>log_actual_amount_paid</th>\n",
       "      <th>is_auto_renew</th>\n",
       "      <th>is_cancel</th>\n",
       "      <th>age_at_start</th>\n",
       "      <th>strange_age</th>\n",
       "      <th>nan_days_since_reg_init</th>\n",
       "      <th>no_prev_churns</th>\n",
       "    </tr>\n",
       "  </thead>\n",
       "  <tbody>\n",
       "    <tr>\n",
       "      <td>count</td>\n",
       "      <td>1.786333e+06</td>\n",
       "      <td>1.786333e+06</td>\n",
       "      <td>1.786333e+06</td>\n",
       "      <td>1.786333e+06</td>\n",
       "      <td>1.786333e+06</td>\n",
       "      <td>1.786333e+06</td>\n",
       "      <td>1.786333e+06</td>\n",
       "      <td>1.786333e+06</td>\n",
       "      <td>1.786333e+06</td>\n",
       "      <td>1.786333e+06</td>\n",
       "      <td>1.786333e+06</td>\n",
       "      <td>1.786333e+06</td>\n",
       "      <td>1.786333e+06</td>\n",
       "      <td>1.786333e+06</td>\n",
       "    </tr>\n",
       "    <tr>\n",
       "      <td>mean</td>\n",
       "      <td>7.161923e-01</td>\n",
       "      <td>1.543900e-01</td>\n",
       "      <td>2.993105e-01</td>\n",
       "      <td>2.285690e+02</td>\n",
       "      <td>4.207446e+00</td>\n",
       "      <td>3.150953e+00</td>\n",
       "      <td>3.868665e+00</td>\n",
       "      <td>3.549763e+00</td>\n",
       "      <td>5.549358e-01</td>\n",
       "      <td>7.635755e-03</td>\n",
       "      <td>1.212652e+01</td>\n",
       "      <td>3.980977e-01</td>\n",
       "      <td>1.624440e-01</td>\n",
       "      <td>8.852555e-01</td>\n",
       "    </tr>\n",
       "    <tr>\n",
       "      <td>std</td>\n",
       "      <td>4.520748e-01</td>\n",
       "      <td>4.908541e-01</td>\n",
       "      <td>1.146079e+00</td>\n",
       "      <td>2.526903e+02</td>\n",
       "      <td>3.036363e+00</td>\n",
       "      <td>1.044879e+00</td>\n",
       "      <td>2.234905e+00</td>\n",
       "      <td>2.405540e+00</td>\n",
       "      <td>4.964042e-01</td>\n",
       "      <td>8.673631e-02</td>\n",
       "      <td>1.536644e+01</td>\n",
       "      <td>4.898612e-01</td>\n",
       "      <td>3.709731e-01</td>\n",
       "      <td>3.203050e-01</td>\n",
       "    </tr>\n",
       "    <tr>\n",
       "      <td>min</td>\n",
       "      <td>0.000000e+00</td>\n",
       "      <td>0.000000e+00</td>\n",
       "      <td>0.000000e+00</td>\n",
       "      <td>1.000000e+00</td>\n",
       "      <td>0.000000e+00</td>\n",
       "      <td>0.000000e+00</td>\n",
       "      <td>0.000000e+00</td>\n",
       "      <td>0.000000e+00</td>\n",
       "      <td>0.000000e+00</td>\n",
       "      <td>0.000000e+00</td>\n",
       "      <td>-1.000000e+00</td>\n",
       "      <td>0.000000e+00</td>\n",
       "      <td>0.000000e+00</td>\n",
       "      <td>0.000000e+00</td>\n",
       "    </tr>\n",
       "    <tr>\n",
       "      <td>25%</td>\n",
       "      <td>0.000000e+00</td>\n",
       "      <td>0.000000e+00</td>\n",
       "      <td>0.000000e+00</td>\n",
       "      <td>2.900000e+01</td>\n",
       "      <td>6.931472e-01</td>\n",
       "      <td>3.433987e+00</td>\n",
       "      <td>4.605170e+00</td>\n",
       "      <td>0.000000e+00</td>\n",
       "      <td>0.000000e+00</td>\n",
       "      <td>0.000000e+00</td>\n",
       "      <td>0.000000e+00</td>\n",
       "      <td>0.000000e+00</td>\n",
       "      <td>0.000000e+00</td>\n",
       "      <td>1.000000e+00</td>\n",
       "    </tr>\n",
       "    <tr>\n",
       "      <td>50%</td>\n",
       "      <td>1.000000e+00</td>\n",
       "      <td>0.000000e+00</td>\n",
       "      <td>0.000000e+00</td>\n",
       "      <td>1.010000e+02</td>\n",
       "      <td>5.420535e+00</td>\n",
       "      <td>3.433987e+00</td>\n",
       "      <td>5.010635e+00</td>\n",
       "      <td>5.010635e+00</td>\n",
       "      <td>1.000000e+00</td>\n",
       "      <td>0.000000e+00</td>\n",
       "      <td>0.000000e+00</td>\n",
       "      <td>0.000000e+00</td>\n",
       "      <td>0.000000e+00</td>\n",
       "      <td>1.000000e+00</td>\n",
       "    </tr>\n",
       "    <tr>\n",
       "      <td>75%</td>\n",
       "      <td>1.000000e+00</td>\n",
       "      <td>0.000000e+00</td>\n",
       "      <td>0.000000e+00</td>\n",
       "      <td>4.100000e+02</td>\n",
       "      <td>6.919684e+00</td>\n",
       "      <td>3.433987e+00</td>\n",
       "      <td>5.010635e+00</td>\n",
       "      <td>5.010635e+00</td>\n",
       "      <td>1.000000e+00</td>\n",
       "      <td>0.000000e+00</td>\n",
       "      <td>2.500000e+01</td>\n",
       "      <td>1.000000e+00</td>\n",
       "      <td>0.000000e+00</td>\n",
       "      <td>1.000000e+00</td>\n",
       "    </tr>\n",
       "    <tr>\n",
       "      <td>max</td>\n",
       "      <td>1.000000e+00</td>\n",
       "      <td>7.000000e+00</td>\n",
       "      <td>6.559615e+00</td>\n",
       "      <td>8.200000e+02</td>\n",
       "      <td>8.459140e+00</td>\n",
       "      <td>6.111467e+00</td>\n",
       "      <td>7.601402e+00</td>\n",
       "      <td>7.601402e+00</td>\n",
       "      <td>1.000000e+00</td>\n",
       "      <td>1.000000e+00</td>\n",
       "      <td>1.000000e+02</td>\n",
       "      <td>1.000000e+00</td>\n",
       "      <td>1.000000e+00</td>\n",
       "      <td>1.000000e+00</td>\n",
       "    </tr>\n",
       "  </tbody>\n",
       "</table>\n",
       "</div>"
      ],
      "text/plain": [
       "              event  n_prev_churns  log_days_between_subs      duration  \\\n",
       "count  1.786333e+06   1.786333e+06           1.786333e+06  1.786333e+06   \n",
       "mean   7.161923e-01   1.543900e-01           2.993105e-01  2.285690e+02   \n",
       "std    4.520748e-01   4.908541e-01           1.146079e+00  2.526903e+02   \n",
       "min    0.000000e+00   0.000000e+00           0.000000e+00  1.000000e+00   \n",
       "25%    0.000000e+00   0.000000e+00           0.000000e+00  2.900000e+01   \n",
       "50%    1.000000e+00   0.000000e+00           0.000000e+00  1.010000e+02   \n",
       "75%    1.000000e+00   0.000000e+00           0.000000e+00  4.100000e+02   \n",
       "max    1.000000e+00   7.000000e+00           6.559615e+00  8.200000e+02   \n",
       "\n",
       "       log_days_since_reg_init  log_payment_plan_days  log_plan_list_price  \\\n",
       "count             1.786333e+06           1.786333e+06         1.786333e+06   \n",
       "mean              4.207446e+00           3.150953e+00         3.868665e+00   \n",
       "std               3.036363e+00           1.044879e+00         2.234905e+00   \n",
       "min               0.000000e+00           0.000000e+00         0.000000e+00   \n",
       "25%               6.931472e-01           3.433987e+00         4.605170e+00   \n",
       "50%               5.420535e+00           3.433987e+00         5.010635e+00   \n",
       "75%               6.919684e+00           3.433987e+00         5.010635e+00   \n",
       "max               8.459140e+00           6.111467e+00         7.601402e+00   \n",
       "\n",
       "       log_actual_amount_paid  is_auto_renew     is_cancel  age_at_start  \\\n",
       "count            1.786333e+06   1.786333e+06  1.786333e+06  1.786333e+06   \n",
       "mean             3.549763e+00   5.549358e-01  7.635755e-03  1.212652e+01   \n",
       "std              2.405540e+00   4.964042e-01  8.673631e-02  1.536644e+01   \n",
       "min              0.000000e+00   0.000000e+00  0.000000e+00 -1.000000e+00   \n",
       "25%              0.000000e+00   0.000000e+00  0.000000e+00  0.000000e+00   \n",
       "50%              5.010635e+00   1.000000e+00  0.000000e+00  0.000000e+00   \n",
       "75%              5.010635e+00   1.000000e+00  0.000000e+00  2.500000e+01   \n",
       "max              7.601402e+00   1.000000e+00  1.000000e+00  1.000000e+02   \n",
       "\n",
       "        strange_age  nan_days_since_reg_init  no_prev_churns  \n",
       "count  1.786333e+06             1.786333e+06    1.786333e+06  \n",
       "mean   3.980977e-01             1.624440e-01    8.852555e-01  \n",
       "std    4.898612e-01             3.709731e-01    3.203050e-01  \n",
       "min    0.000000e+00             0.000000e+00    0.000000e+00  \n",
       "25%    0.000000e+00             0.000000e+00    1.000000e+00  \n",
       "50%    0.000000e+00             0.000000e+00    1.000000e+00  \n",
       "75%    1.000000e+00             0.000000e+00    1.000000e+00  \n",
       "max    1.000000e+00             1.000000e+00    1.000000e+00  "
      ]
     },
     "execution_count": 108,
     "metadata": {},
     "output_type": "execute_result"
    }
   ],
   "source": [
    "df_train.describe()"
   ]
  },
  {
   "cell_type": "code",
   "execution_count": 109,
   "metadata": {},
   "outputs": [],
   "source": [
    "t = df_train['duration']\n",
    "y = df_train['event'].astype(int)\n",
    "binary_cols = ['is_auto_renew', 'is_cancel', 'strange_age', 'nan_days_since_reg_init', 'no_prev_churns']\n",
    "batchnorm_cols = ['n_prev_churns', 'log_days_between_subs', 'log_days_since_reg_init', 'log_payment_plan_days', 'log_plan_list_price',\n",
    "                  'log_actual_amount_paid', 'age_at_start']\n",
    "cat_cols = ['city', 'gender', 'registered_via']"
   ]
  },
  {
   "cell_type": "code",
   "execution_count": 110,
   "metadata": {},
   "outputs": [
    {
     "name": "stdout",
     "output_type": "stream",
     "text": [
      "There are 5 binary cols\n",
      "There are 7 continous cols\n"
     ]
    }
   ],
   "source": [
    "print(\"There are {} binary cols\".format(len(binary_cols)))\n",
    "print(\"There are {} continous cols\".format(len(batchnorm_cols)))"
   ]
  },
  {
   "cell_type": "code",
   "execution_count": 111,
   "metadata": {},
   "outputs": [
    {
     "data": {
      "image/png": "[encoded data removed]",
      "text/plain": [
       "<Figure size 432x288 with 1 Axes>"
      ]
     },
     "metadata": {
      "needs_background": "light"
     },
     "output_type": "display_data"
    }
   ],
   "source": [
    "df_train['duration'].hist(alpha=0.6, bins=100);"
   ]
  },
  {
   "cell_type": "code",
   "execution_count": 160,
   "metadata": {},
   "outputs": [
    {
     "data": {
      "text/plain": [
       "1.0     1002197\n",
       "NaN      430310\n",
       "13.0     259864\n",
       "5.0      209847\n",
       "4.0      139727\n",
       "15.0     122656\n",
       "22.0     121784\n",
       "6.0       75349\n",
       "14.0      55590\n",
       "9.0       42039\n",
       "12.0      36379\n",
       "11.0      25636\n",
       "8.0       23826\n",
       "18.0      22563\n",
       "10.0      19396\n",
       "21.0      16898\n",
       "17.0      15214\n",
       "3.0       14914\n",
       "7.0        7080\n",
       "16.0       2842\n",
       "20.0       2131\n",
       "19.0        504\n",
       "Name: city, dtype: int64"
      ]
     },
     "execution_count": 160,
     "metadata": {},
     "output_type": "execute_result"
    }
   ],
   "source": [
    "pd.concat([df_train['city'], df_test['city'], df_val['city']], axis=0).value_counts(dropna=False)"
   ]
  },
  {
   "cell_type": "code",
   "execution_count": 159,
   "metadata": {},
   "outputs": [
    {
     "data": {
      "text/plain": [
       "21"
      ]
     },
     "execution_count": 159,
     "metadata": {},
     "output_type": "execute_result"
    }
   ],
   "source": [
    "df_train['city'].nunique()"
   ]
  },
  {
   "cell_type": "code",
   "execution_count": 122,
   "metadata": {},
   "outputs": [
    {
     "data": {
      "text/plain": [
       "1.0     676807\n",
       "NaN     290179\n",
       "13.0    175368\n",
       "5.0     141680\n",
       "4.0      94268\n",
       "15.0     82972\n",
       "22.0     82092\n",
       "6.0      51016\n",
       "14.0     37313\n",
       "9.0      28305\n",
       "12.0     24527\n",
       "11.0     17252\n",
       "8.0      16071\n",
       "18.0     15249\n",
       "10.0     13020\n",
       "21.0     11333\n",
       "17.0     10243\n",
       "3.0      10140\n",
       "7.0       4761\n",
       "16.0      1951\n",
       "20.0      1436\n",
       "19.0       350\n",
       "Name: city, dtype: int64"
      ]
     },
     "execution_count": 122,
     "metadata": {},
     "output_type": "execute_result"
    }
   ],
   "source": [
    "df_train['city'].value_counts(dropna=False)"
   ]
  },
  {
   "cell_type": "code",
   "execution_count": 35,
   "metadata": {},
   "outputs": [
    {
     "data": {
      "text/plain": [
       "NaN       990574\n",
       "male      419392\n",
       "female    376367\n",
       "Name: gender, dtype: int64"
      ]
     },
     "execution_count": 35,
     "metadata": {},
     "output_type": "execute_result"
    }
   ],
   "source": [
    "df_train['gender'].value_counts(dropna=False)"
   ]
  },
  {
   "cell_type": "code",
   "execution_count": 46,
   "metadata": {},
   "outputs": [
    {
     "data": {
      "text/plain": [
       "0.0    990574\n",
       "1.0    419392\n",
       "2.0    376367\n",
       "Name: gender, dtype: int64"
      ]
     },
     "execution_count": 46,
     "metadata": {},
     "output_type": "execute_result"
    }
   ],
   "source": [
    "gender_map = {\n",
    "    'male': 1,\n",
    "    'female': 2\n",
    "}\n",
    "df_train['gender'].astype(str).map(gender_map).fillna(0).value_counts(dropna=False)"
   ]
  },
  {
   "cell_type": "code",
   "execution_count": null,
   "metadata": {},
   "outputs": [],
   "source": []
  },
  {
   "cell_type": "code",
   "execution_count": 79,
   "metadata": {},
   "outputs": [
    {
     "data": {
      "text/plain": [
       "{'nan': 0,\n",
       " '9.0': 1,\n",
       " '7.0': 2,\n",
       " '4.0': 3,\n",
       " '3.0': 4,\n",
       " '16.0': 5,\n",
       " '13.0': 6,\n",
       " '10.0': 7}"
      ]
     },
     "execution_count": 79,
     "metadata": {},
     "output_type": "execute_result"
    }
   ],
   "source": [
    "registered_via_cats = pd.concat([df_train['registered_via'], df_test['registered_via'], df_val['registered_via']]).astype(str)\n",
    "registered_via_cats = reversed(sorted(registered_via_cats.unique().tolist()))\n",
    "registered_via_cats_map = {cat: i for i, cat in enumerate(registered_via_cats)}\n",
    "registered_via_cats_map"
   ]
  },
  {
   "cell_type": "code",
   "execution_count": 80,
   "metadata": {},
   "outputs": [
    {
     "data": {
      "text/plain": [
       "1    57340\n",
       "2    52195\n",
       "4    36077\n",
       "0    32339\n",
       "3    20420\n",
       "6      294\n",
       "Name: registered_via, dtype: int64"
      ]
     },
     "execution_count": 80,
     "metadata": {},
     "output_type": "execute_result"
    }
   ],
   "source": [
    "df_val['registered_via'].astype(str).map(registered_via_cats_map).value_counts(dropna=False)"
   ]
  },
  {
   "cell_type": "code",
   "execution_count": null,
   "metadata": {},
   "outputs": [],
   "source": []
  },
  {
   "cell_type": "code",
   "execution_count": 177,
   "metadata": {},
   "outputs": [],
   "source": [
    "def preprocess_kkbox(df):\n",
    "    \n",
    "    def get_one_hot_encoded(values, cat_series):\n",
    "        out_array = np.zeros((cat_series.shape[0], len(values)))\n",
    "        for val in values:\n",
    "            out_array[:, val] = (cat_series == val).astype(int)\n",
    "        return out_array\n",
    "\n",
    "    df1 = df.copy(deep=True)\n",
    "    # target\n",
    "    t = df['duration'].astype(int).values\n",
    "    y = df['event'].astype(int).values\n",
    "    # work with cat features\n",
    "    df1['city'] = df['city'].astype(str).astype(float).fillna(0).astype(int)\n",
    "    gender_map = {\n",
    "        'male': 1,\n",
    "        'female': 2\n",
    "    }\n",
    "    df1['gender'] = df['gender'].astype(str).map(gender_map).fillna(0).astype(int)    \n",
    "    registered_via_cats_map = {\n",
    "        'nan': 0,\n",
    "        '9.0': 1,\n",
    "        '7.0': 2,\n",
    "        '4.0': 3,\n",
    "        '3.0': 4,\n",
    "        '16.0': 5,\n",
    "        '13.0': 6,\n",
    "        '10.0': 7\n",
    "    }\n",
    "    df1['registered_via'] = df['registered_via'].astype(str).map(registered_via_cats_map)\n",
    "    # categories to one-hot\n",
    "    gender_values = [0, 1, 2]\n",
    "    city_values = np.arange(23) # 23 unique values\n",
    "    registered_via_values = np.arange(8) # 8 unique values\n",
    "    gender_ = get_one_hot_encoded(gender_values, df1['gender'])\n",
    "    city_ = get_one_hot_encoded(city_values, df1['city'])\n",
    "    registered_via_values_ = get_one_hot_encoded(registered_via_values, df1['registered_via'])  \n",
    "    # binary cols as is\n",
    "    binary_cols = ['is_auto_renew', 'is_cancel', 'strange_age', 'nan_days_since_reg_init', 'no_prev_churns'] \n",
    "    binary_ = df1[binary_cols].values\n",
    "    # continous cols  - apply batchnorm in network\n",
    "    batchnorm_cols = ['n_prev_churns', 'log_days_between_subs', 'log_days_since_reg_init', 'log_payment_plan_days', 'log_plan_list_price',\n",
    "                      'log_actual_amount_paid', 'age_at_start']\n",
    "    batchnorm_ = df1[batchnorm_cols].values\n",
    "    # final features\n",
    "    x = np.hstack([gender_, city_, registered_via_values_, binary_, batchnorm_])\n",
    "    return x, t, y"
   ]
  },
  {
   "cell_type": "code",
   "execution_count": 178,
   "metadata": {},
   "outputs": [],
   "source": [
    "x, t, y = preprocess_kkbox(df_train)"
   ]
  },
  {
   "cell_type": "code",
   "execution_count": 92,
   "metadata": {},
   "outputs": [],
   "source": [
    "# remove outliers?\n",
    "# https://towardsdatascience.com/enhancing-categorical-features-with-entity-embeddings-e6850a5e34ff"
   ]
  },
  {
   "cell_type": "code",
   "execution_count": null,
   "metadata": {},
   "outputs": [],
   "source": []
  }
 ],
 "metadata": {
  "kernelspec": {
   "display_name": "Python 3",
   "language": "python",
   "name": "python3"
  },
  "language_info": {
   "codemirror_mode": {
    "name": "ipython",
    "version": 3
   },
   "file_extension": ".py",
   "mimetype": "text/x-python",
   "name": "python",
   "nbconvert_exporter": "python",
   "pygments_lexer": "ipython3",
   "version": "3.6.9"
  }
 },
 "nbformat": 4,
 "nbformat_minor": 4
}
