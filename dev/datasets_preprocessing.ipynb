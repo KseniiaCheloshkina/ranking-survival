{
 "cells": [
  {
   "cell_type": "code",
   "execution_count": 1,
   "metadata": {},
   "outputs": [],
   "source": [
    "import pickle\n",
    "\n",
    "import pandas as pd\n",
    "import numpy as np\n",
    "import matplotlib.pyplot as plt\n",
    "from pycox.datasets import metabric\n",
    "from sklearn.model_selection import ParameterGrid\n",
    "from sklearn.model_selection import StratifiedShuffleSplit, StratifiedKFold"
   ]
  },
  {
   "cell_type": "code",
   "execution_count": 2,
   "metadata": {},
   "outputs": [],
   "source": [
    "s = 1"
   ]
  },
  {
   "cell_type": "code",
   "execution_count": 3,
   "metadata": {},
   "outputs": [],
   "source": [
    "# data -> cv + val\n",
    "# cv - 5 folds stratified by y and time bin\n",
    "\n",
    "# hp search:\n",
    "#     for every cv fold:\n",
    "#         fit on all cv folds except this fold\n",
    "#         save quality on val\n",
    "# select the best parameters by val quality\n",
    "\n",
    "# train and evaluate model with best parameters in 5fold CV (train on 4, test on one) - out average\n",
    "\n",
    "\n",
    "# As the four data sets are somewhat small, we scored our fitted models using 5-fold cross-\n",
    "# validation, where the hyperparameter search was performed individually for each fold. For\n",
    "# all the neural networks, we performed a random hyperparameter search over 300 parameter\n",
    "# configurations and chose the model with the best score on a held-out validation set.\n",
    "# we sample 300 random parameter configurations for each method,\n",
    "# for each fold of each data set\n",
    "# Table 2 shows the time-dependent concordance, or C td , averaged over the five cross-\n",
    "# validation folds."
   ]
  },
  {
   "cell_type": "markdown",
   "metadata": {},
   "source": [
    "#### METABRIC"
   ]
  },
  {
   "cell_type": "code",
   "execution_count": 3,
   "metadata": {},
   "outputs": [],
   "source": [
    "df_all = metabric.read_df()"
   ]
  },
  {
   "cell_type": "code",
   "execution_count": 4,
   "metadata": {},
   "outputs": [
    {
     "data": {
      "text/html": [
       "<div>\n",
       "<style scoped>\n",
       "    .dataframe tbody tr th:only-of-type {\n",
       "        vertical-align: middle;\n",
       "    }\n",
       "\n",
       "    .dataframe tbody tr th {\n",
       "        vertical-align: top;\n",
       "    }\n",
       "\n",
       "    .dataframe thead th {\n",
       "        text-align: right;\n",
       "    }\n",
       "</style>\n",
       "<table border=\"1\" class=\"dataframe\">\n",
       "  <thead>\n",
       "    <tr style=\"text-align: right;\">\n",
       "      <th></th>\n",
       "      <th>x0</th>\n",
       "      <th>x1</th>\n",
       "      <th>x2</th>\n",
       "      <th>x3</th>\n",
       "      <th>x4</th>\n",
       "      <th>x5</th>\n",
       "      <th>x6</th>\n",
       "      <th>x7</th>\n",
       "      <th>x8</th>\n",
       "      <th>duration</th>\n",
       "      <th>event</th>\n",
       "    </tr>\n",
       "  </thead>\n",
       "  <tbody>\n",
       "    <tr>\n",
       "      <td>count</td>\n",
       "      <td>1904.000000</td>\n",
       "      <td>1904.000000</td>\n",
       "      <td>1904.000000</td>\n",
       "      <td>1904.000000</td>\n",
       "      <td>1904.000000</td>\n",
       "      <td>1904.000000</td>\n",
       "      <td>1904.000000</td>\n",
       "      <td>1904.000000</td>\n",
       "      <td>1904.000000</td>\n",
       "      <td>1904.000000</td>\n",
       "      <td>1904.000000</td>\n",
       "    </tr>\n",
       "    <tr>\n",
       "      <td>mean</td>\n",
       "      <td>6.210830</td>\n",
       "      <td>6.237199</td>\n",
       "      <td>10.765366</td>\n",
       "      <td>5.872822</td>\n",
       "      <td>0.616597</td>\n",
       "      <td>0.597164</td>\n",
       "      <td>0.207983</td>\n",
       "      <td>0.758929</td>\n",
       "      <td>61.087112</td>\n",
       "      <td>125.025055</td>\n",
       "      <td>0.579307</td>\n",
       "    </tr>\n",
       "    <tr>\n",
       "      <td>std</td>\n",
       "      <td>0.862968</td>\n",
       "      <td>1.020872</td>\n",
       "      <td>1.357359</td>\n",
       "      <td>0.341254</td>\n",
       "      <td>0.486344</td>\n",
       "      <td>0.490591</td>\n",
       "      <td>0.405970</td>\n",
       "      <td>0.427844</td>\n",
       "      <td>12.978707</td>\n",
       "      <td>76.334206</td>\n",
       "      <td>0.493800</td>\n",
       "    </tr>\n",
       "    <tr>\n",
       "      <td>min</td>\n",
       "      <td>5.158794</td>\n",
       "      <td>4.860645</td>\n",
       "      <td>6.372949</td>\n",
       "      <td>5.101093</td>\n",
       "      <td>0.000000</td>\n",
       "      <td>0.000000</td>\n",
       "      <td>0.000000</td>\n",
       "      <td>0.000000</td>\n",
       "      <td>21.930000</td>\n",
       "      <td>0.000000</td>\n",
       "      <td>0.000000</td>\n",
       "    </tr>\n",
       "    <tr>\n",
       "      <td>25%</td>\n",
       "      <td>5.692096</td>\n",
       "      <td>5.408728</td>\n",
       "      <td>9.969681</td>\n",
       "      <td>5.622290</td>\n",
       "      <td>0.000000</td>\n",
       "      <td>0.000000</td>\n",
       "      <td>0.000000</td>\n",
       "      <td>1.000000</td>\n",
       "      <td>51.375001</td>\n",
       "      <td>60.824999</td>\n",
       "      <td>0.000000</td>\n",
       "    </tr>\n",
       "    <tr>\n",
       "      <td>50%</td>\n",
       "      <td>5.949283</td>\n",
       "      <td>5.877591</td>\n",
       "      <td>10.530301</td>\n",
       "      <td>5.816998</td>\n",
       "      <td>1.000000</td>\n",
       "      <td>1.000000</td>\n",
       "      <td>0.000000</td>\n",
       "      <td>1.000000</td>\n",
       "      <td>61.769999</td>\n",
       "      <td>114.900002</td>\n",
       "      <td>1.000000</td>\n",
       "    </tr>\n",
       "    <tr>\n",
       "      <td>75%</td>\n",
       "      <td>6.458780</td>\n",
       "      <td>6.899220</td>\n",
       "      <td>11.159306</td>\n",
       "      <td>6.058293</td>\n",
       "      <td>1.000000</td>\n",
       "      <td>1.000000</td>\n",
       "      <td>0.000000</td>\n",
       "      <td>1.000000</td>\n",
       "      <td>70.592497</td>\n",
       "      <td>184.474995</td>\n",
       "      <td>1.000000</td>\n",
       "    </tr>\n",
       "    <tr>\n",
       "      <td>max</td>\n",
       "      <td>14.443632</td>\n",
       "      <td>9.932116</td>\n",
       "      <td>14.643900</td>\n",
       "      <td>7.658863</td>\n",
       "      <td>1.000000</td>\n",
       "      <td>1.000000</td>\n",
       "      <td>1.000000</td>\n",
       "      <td>1.000000</td>\n",
       "      <td>96.290001</td>\n",
       "      <td>355.200012</td>\n",
       "      <td>1.000000</td>\n",
       "    </tr>\n",
       "  </tbody>\n",
       "</table>\n",
       "</div>"
      ],
      "text/plain": [
       "                x0           x1           x2           x3           x4  \\\n",
       "count  1904.000000  1904.000000  1904.000000  1904.000000  1904.000000   \n",
       "mean      6.210830     6.237199    10.765366     5.872822     0.616597   \n",
       "std       0.862968     1.020872     1.357359     0.341254     0.486344   \n",
       "min       5.158794     4.860645     6.372949     5.101093     0.000000   \n",
       "25%       5.692096     5.408728     9.969681     5.622290     0.000000   \n",
       "50%       5.949283     5.877591    10.530301     5.816998     1.000000   \n",
       "75%       6.458780     6.899220    11.159306     6.058293     1.000000   \n",
       "max      14.443632     9.932116    14.643900     7.658863     1.000000   \n",
       "\n",
       "                x5           x6           x7           x8     duration  \\\n",
       "count  1904.000000  1904.000000  1904.000000  1904.000000  1904.000000   \n",
       "mean      0.597164     0.207983     0.758929    61.087112   125.025055   \n",
       "std       0.490591     0.405970     0.427844    12.978707    76.334206   \n",
       "min       0.000000     0.000000     0.000000    21.930000     0.000000   \n",
       "25%       0.000000     0.000000     1.000000    51.375001    60.824999   \n",
       "50%       1.000000     0.000000     1.000000    61.769999   114.900002   \n",
       "75%       1.000000     0.000000     1.000000    70.592497   184.474995   \n",
       "max       1.000000     1.000000     1.000000    96.290001   355.200012   \n",
       "\n",
       "             event  \n",
       "count  1904.000000  \n",
       "mean      0.579307  \n",
       "std       0.493800  \n",
       "min       0.000000  \n",
       "25%       0.000000  \n",
       "50%       1.000000  \n",
       "75%       1.000000  \n",
       "max       1.000000  "
      ]
     },
     "execution_count": 4,
     "metadata": {},
     "output_type": "execute_result"
    }
   ],
   "source": [
    "df_all.describe()"
   ]
  },
  {
   "cell_type": "code",
   "execution_count": 7,
   "metadata": {},
   "outputs": [],
   "source": [
    "df_all = df_all[df_all['duration'] != 0]"
   ]
  },
  {
   "cell_type": "code",
   "execution_count": 8,
   "metadata": {},
   "outputs": [],
   "source": [
    "cols_standardize = ['x0', 'x1', 'x2', 'x3', 'x8']\n",
    "cols_leave = ['x4', 'x5', 'x6', 'x7']"
   ]
  },
  {
   "cell_type": "code",
   "execution_count": 9,
   "metadata": {},
   "outputs": [
    {
     "data": {
      "image/png": "[encoded data removed]",
      "text/plain": [
       "<Figure size 432x288 with 1 Axes>"
      ]
     },
     "metadata": {
      "needs_background": "light"
     },
     "output_type": "display_data"
    }
   ],
   "source": [
    "df_all['duration'].hist(alpha=0.6);"
   ]
  },
  {
   "cell_type": "code",
   "execution_count": 10,
   "metadata": {},
   "outputs": [
    {
     "name": "stderr",
     "output_type": "stream",
     "text": [
      "/home/islam/anaconda3/envs/pycox/lib/python3.6/site-packages/ipykernel_launcher.py:4: SettingWithCopyWarning: \n",
      "A value is trying to be set on a copy of a slice from a DataFrame.\n",
      "Try using .loc[row_indexer,col_indexer] = value instead\n",
      "\n",
      "See the caveats in the documentation: http://pandas.pydata.org/pandas-docs/stable/user_guide/indexing.html#returning-a-view-versus-a-copy\n",
      "  after removing the cwd from sys.path.\n",
      "/home/islam/anaconda3/envs/pycox/lib/python3.6/site-packages/ipykernel_launcher.py:5: SettingWithCopyWarning: \n",
      "A value is trying to be set on a copy of a slice from a DataFrame.\n",
      "Try using .loc[row_indexer,col_indexer] = value instead\n",
      "\n",
      "See the caveats in the documentation: http://pandas.pydata.org/pandas-docs/stable/user_guide/indexing.html#returning-a-view-versus-a-copy\n",
      "  \"\"\"\n"
     ]
    }
   ],
   "source": [
    "quan = np.arange(0, 1, 0.2)\n",
    "bins = df_all['duration'].quantile(quan).values\n",
    "bins = np.append(bins, np.inf)\n",
    "df_all['duration_bin'] = pd.cut(df_all['duration'], bins=bins, labels=np.arange(0, 5, 1))\n",
    "df_all['strata'] = df_all['event'].astype(str) + \"_\" + df_all['duration_bin'].astype(int).astype(str)"
   ]
  },
  {
   "cell_type": "code",
   "execution_count": 11,
   "metadata": {},
   "outputs": [
    {
     "data": {
      "text/plain": [
       "0_0                        45\n",
       "0_1                       110\n",
       "0_2                       181\n",
       "0_3                       211\n",
       "0_4                       253\n",
       "1_-9223372036854775808      1\n",
       "1_0                       335\n",
       "1_1                       270\n",
       "1_2                       200\n",
       "1_3                       170\n",
       "1_4                       127\n",
       "Name: strata, dtype: int64"
      ]
     },
     "execution_count": 11,
     "metadata": {},
     "output_type": "execute_result"
    }
   ],
   "source": [
    "df_all['strata'].value_counts(dropna=False).sort_index()"
   ]
  },
  {
   "cell_type": "code",
   "execution_count": 12,
   "metadata": {},
   "outputs": [],
   "source": [
    "df_all = df_all[df_all['strata'] != '1_-9223372036854775808']"
   ]
  },
  {
   "cell_type": "code",
   "execution_count": 13,
   "metadata": {},
   "outputs": [
    {
     "data": {
      "text/plain": [
       "0_0     45\n",
       "0_1    110\n",
       "0_2    181\n",
       "0_3    211\n",
       "0_4    253\n",
       "1_0    335\n",
       "1_1    270\n",
       "1_2    200\n",
       "1_3    170\n",
       "1_4    127\n",
       "Name: strata, dtype: int64"
      ]
     },
     "execution_count": 13,
     "metadata": {},
     "output_type": "execute_result"
    }
   ],
   "source": [
    "df_all['strata'].value_counts(dropna=False).sort_index()"
   ]
  },
  {
   "cell_type": "code",
   "execution_count": 14,
   "metadata": {},
   "outputs": [],
   "source": [
    "# get validation data\n",
    "sss = StratifiedShuffleSplit(n_splits=1, test_size=0.2, random_state=1)\n",
    "df_all.reset_index(drop=True, inplace=True)\n",
    "for tr_i, te_i in sss.split(df_all, df_all['strata']):\n",
    "    # split\n",
    "    df_val = df_all.iloc[te_i, ]\n",
    "    df_cv = df_all.iloc[tr_i, ]\n",
    "    # preprocess val\n",
    "    m = df_cv[cols_standardize].mean()\n",
    "    v = df_cv[cols_standardize].std()\n",
    "    df_val_tr = df_val.copy(deep=True)\n",
    "    for idx, col in enumerate(cols_standardize):\n",
    "        df_val_tr[col] = df_val_tr[col] - m.values[idx]\n",
    "        df_val_tr[col] = df_val_tr[col] / v.values[idx]\n",
    "    x_val = df_val_tr[cols_standardize + cols_leave].values\n",
    "    y_val = df_val_tr['event'].values\n",
    "    t_val = df_val_tr['duration'].astype(int).values"
   ]
  },
  {
   "cell_type": "code",
   "execution_count": 15,
   "metadata": {},
   "outputs": [
    {
     "name": "stderr",
     "output_type": "stream",
     "text": [
      "/home/islam/anaconda3/envs/pycox/lib/python3.6/site-packages/ipykernel_launcher.py:13: SettingWithCopyWarning: \n",
      "A value is trying to be set on a copy of a slice from a DataFrame.\n",
      "Try using .loc[row_indexer,col_indexer] = value instead\n",
      "\n",
      "See the caveats in the documentation: http://pandas.pydata.org/pandas-docs/stable/user_guide/indexing.html#returning-a-view-versus-a-copy\n",
      "  del sys.path[0]\n",
      "/home/islam/anaconda3/envs/pycox/lib/python3.6/site-packages/ipykernel_launcher.py:14: SettingWithCopyWarning: \n",
      "A value is trying to be set on a copy of a slice from a DataFrame.\n",
      "Try using .loc[row_indexer,col_indexer] = value instead\n",
      "\n",
      "See the caveats in the documentation: http://pandas.pydata.org/pandas-docs/stable/user_guide/indexing.html#returning-a-view-versus-a-copy\n",
      "  \n",
      "/home/islam/anaconda3/envs/pycox/lib/python3.6/site-packages/ipykernel_launcher.py:15: SettingWithCopyWarning: \n",
      "A value is trying to be set on a copy of a slice from a DataFrame.\n",
      "Try using .loc[row_indexer,col_indexer] = value instead\n",
      "\n",
      "See the caveats in the documentation: http://pandas.pydata.org/pandas-docs/stable/user_guide/indexing.html#returning-a-view-versus-a-copy\n",
      "  from ipykernel import kernelapp as app\n",
      "/home/islam/anaconda3/envs/pycox/lib/python3.6/site-packages/ipykernel_launcher.py:16: SettingWithCopyWarning: \n",
      "A value is trying to be set on a copy of a slice from a DataFrame.\n",
      "Try using .loc[row_indexer,col_indexer] = value instead\n",
      "\n",
      "See the caveats in the documentation: http://pandas.pydata.org/pandas-docs/stable/user_guide/indexing.html#returning-a-view-versus-a-copy\n",
      "  app.launch_new_instance()\n"
     ]
    }
   ],
   "source": [
    "# get cv data\n",
    "df_cv_data = dict()\n",
    "df_cv.reset_index(drop=True, inplace=True)\n",
    "sf = StratifiedKFold(n_splits=5, random_state=1)\n",
    "for i, (tr_i, te_i) in enumerate(sf.split(df_cv, df_cv['strata'])):\n",
    "    # split\n",
    "    df_train = df_cv.iloc[tr_i, ]\n",
    "    df_test = df_cv.iloc[te_i, ]\n",
    "    # preprocess\n",
    "    m = df_train[cols_standardize].mean()\n",
    "    v = df_train[cols_standardize].std()\n",
    "    for idx, col in enumerate(cols_standardize):\n",
    "        df_train[col] = df_train[col] - m.values[idx]\n",
    "        df_train[col] = df_train[col] / v.values[idx]\n",
    "        df_test[col] = df_test[col] - m.values[idx]\n",
    "        df_test[col] = df_test[col] / v.values[idx]\n",
    "    df_cv_data[i] = {\n",
    "        'test': {\n",
    "            'x': df_test[cols_standardize + cols_leave].values,\n",
    "            'y': df_test['event'].values,\n",
    "            't': df_test['duration'].astype(int).values \n",
    "        },\n",
    "        'train': {\n",
    "            'x': df_train[cols_standardize + cols_leave].values,\n",
    "            'y': df_train['event'].values,\n",
    "            't': df_train['duration'].astype(int).values \n",
    "        }\n",
    "    }"
   ]
  },
  {
   "cell_type": "code",
   "execution_count": 16,
   "metadata": {},
   "outputs": [],
   "source": [
    "data = {\n",
    "    'val': {\n",
    "        'x': x_val,\n",
    "        'y': y_val,\n",
    "        't': t_val\n",
    "    },\n",
    "    'cv': df_cv_data\n",
    "}\n",
    "\n",
    "with open('../data/metabric_cv.pkl', 'wb') as f:\n",
    "    pickle.dump(data, f)"
   ]
  },
  {
   "cell_type": "code",
   "execution_count": null,
   "metadata": {},
   "outputs": [],
   "source": []
  }
 ],
 "metadata": {
  "kernelspec": {
   "display_name": "Python 3",
   "language": "python",
   "name": "python3"
  },
  "language_info": {
   "codemirror_mode": {
    "name": "ipython",
    "version": 3
   },
   "file_extension": ".py",
   "mimetype": "text/x-python",
   "name": "python",
   "nbconvert_exporter": "python",
   "pygments_lexer": "ipython3",
   "version": "3.6.9"
  }
 },
 "nbformat": 4,
 "nbformat_minor": 4
}
